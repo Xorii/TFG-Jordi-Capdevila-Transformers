{
 "cells": [
  {
   "cell_type": "code",
   "execution_count": null,
   "metadata": {},
   "outputs": [],
   "source": [
    "import re\n",
    "import time\n",
    "import pandas as pd\n",
    "import numpy as np\n",
    "import requests\n",
    "import pickle\n",
    "from bs4 import BeautifulSoup\n",
    "\n",
    "# Selenium\n",
    "from selenium import webdriver\n",
    "from selenium.webdriver.common.by import By\n",
    "from selenium.webdriver.support.ui import WebDriverWait\n",
    "from selenium.webdriver.support import expected_conditions as EC\n",
    "from selenium.common.exceptions import TimeoutException\n",
    "\n",
    "# Opcional per evitar warnings de HTTPS\n",
    "import urllib3\n",
    "urllib3.disable_warnings(urllib3.exceptions.InsecureRequestWarning)\n"
   ]
  },
  {
   "cell_type": "markdown",
   "metadata": {},
   "source": [
    "### **Extracción de empresas**"
   ]
  },
  {
   "cell_type": "code",
   "execution_count": 48,
   "metadata": {},
   "outputs": [],
   "source": [
    "data = []\n",
    "for year in range(2022, 2026):\n",
    "    for pa in range(1, 8):\n",
    "        url = f\"https://startupshub.catalonia.com/investments-in-catalan-startups?pageNumber={pa}&year={year}\"\n",
    "        resp = requests.post(url, verify=False)\n",
    "        soup = BeautifulSoup(resp.text, \"html.parser\")\n",
    "    \n",
    "        # Buscar todos los elementos con la clase 'items'\n",
    "        for item in soup.find_all(\"div\", class_=\"items\"):\n",
    "            # Extraer la URL desde el atributo `url` en la etiqueta <a>\n",
    "            url_element = item.find(\"a\", attrs={\"url\": True})\n",
    "            url = url_element[\"url\"] if url_element else None\n",
    "\n",
    "            # Extraer información\n",
    "            startup_name = item.find(\"h4\").text.strip() if item.find(\"h4\") else None\n",
    "            company_name = item.find(\"div\", class_=\"item-text\").find_all(\"p\")[0].text.strip()\n",
    "            category = item.find(\"div\", class_=\"item-text\").find_all(\"p\")[1].text.strip()\n",
    "            investment_amount = item.find(\"div\", class_=\"col-md-4\").find(\"p\").text.strip()\n",
    "        \n",
    "            investors_text = item.find(\"div\", class_=\"col-md-4\").find(\"strong\")\n",
    "            investors = investors_text.find_next_sibling(string=True).strip() if investors_text else None\n",
    "        \n",
    "            date = item.find(\"p\", class_=\"date\").text.strip() if item.find(\"p\", class_=\"date\") else None\n",
    "\n",
    "            # Agregar datos a la lista\n",
    "            data.append([startup_name, company_name, category, investment_amount, investors, date, url])\n",
    "\n",
    "# Crear DataFrame\n",
    "df = pd.DataFrame(data, columns=[\"Startup\", \"Company\", \"Category\", \"Investment\", \"Investors\", \"Date\", \"URL\"])"
   ]
  },
  {
   "cell_type": "code",
   "execution_count": 21,
   "metadata": {},
   "outputs": [
    {
     "ename": "NameError",
     "evalue": "name 'df' is not defined",
     "output_type": "error",
     "traceback": [
      "\u001b[31m---------------------------------------------------------------------------\u001b[39m",
      "\u001b[31mNameError\u001b[39m                                 Traceback (most recent call last)",
      "\u001b[36mCell\u001b[39m\u001b[36m \u001b[39m\u001b[32mIn[21]\u001b[39m\u001b[32m, line 1\u001b[39m\n\u001b[32m----> \u001b[39m\u001b[32m1\u001b[39m \u001b[38;5;28mprint\u001b[39m(\u001b[43mdf\u001b[49m)\n",
      "\u001b[31mNameError\u001b[39m: name 'df' is not defined"
     ]
    }
   ],
   "source": [
    "print(df)"
   ]
  },
  {
   "cell_type": "markdown",
   "metadata": {},
   "source": [
    "### **Extracción de info de cada empresa**"
   ]
  },
  {
   "cell_type": "code",
   "execution_count": 50,
   "metadata": {},
   "outputs": [],
   "source": [
    "lista = []"
   ]
  },
  {
   "cell_type": "code",
   "execution_count": null,
   "metadata": {},
   "outputs": [],
   "source": [
    "\n",
    "for i in range(0, df.shape[0]):\n",
    "    url = \"https://startupshub.catalonia.com/\" + df.loc[i, \"URL\"]\n",
    "    print(f\"Processant [{i}]: {url}\")\n",
    "\n",
    "    try:\n",
    "        # Inicialitzar driver i accedir a la pàgina\n",
    "        driver = webdriver.Chrome()\n",
    "        driver.get(url)\n",
    "        time.sleep(2)  # petita pausa per permetre càrrega\n",
    "\n",
    "        # Petició per fer servir BeautifulSoup\n",
    "        resp = requests.get(url, verify=False)\n",
    "        soup = BeautifulSoup(resp.text, \"html.parser\")\n",
    "\n",
    "        # Comprovació de l'adreça\n",
    "        address_element = soup.find('strong', class_='company-name')\n",
    "        if not address_element or not address_element.find_next_sibling(string=True):\n",
    "            print(f\"No hi ha adreça. Es salta.\")\n",
    "            continue\n",
    "        address = address_element.find_next_sibling(string=True).strip()\n",
    "\n",
    "        # Dades estàtiques via BeautifulSoup\n",
    "        name = soup.find('h1', class_='big_title').text.strip() if soup.find('h1', class_='big_title') else None\n",
    "        description = soup.find('meta', {'name': 'description'})['content'] if soup.find('meta', {'name': 'description'}) else None\n",
    "        founded = soup.find('span', class_='founded').find('strong').text.strip() if soup.find('span', class_='founded') else None\n",
    "        employees = soup.find('span', class_='employers').find('strong').text.strip() if soup.find('span', class_='employers') else None\n",
    "\n",
    "        # Camps opcionals amb control\n",
    "        def safe_text(selector, label=''):\n",
    "            element = soup.find('span', class_=selector)\n",
    "            return element.text.replace(label, '').strip() if element else None\n",
    "\n",
    "        industries = safe_text('industries information-item', 'Industries:')\n",
    "        technologies = safe_text('technologies information-item', 'Technologies:')\n",
    "        others_fields = safe_text('otherFields information-item', 'Other fields:')\n",
    "        financial_founded = safe_text('founded information-item', 'Founded:')\n",
    "        business_model = safe_text('model information-item', 'Business model:')\n",
    "        targets = safe_text('target information-item', 'Target:')\n",
    "        spinoff = safe_text('spinoffs information-item', 'Spinoff participants:')\n",
    "\n",
    "        # Rondas de finançament\n",
    "        funding_info = []\n",
    "        for funding in soup.find_all('div', class_='item punts-servei-content row-fluid'):\n",
    "            amount = funding.find('h3').text.strip()\n",
    "            date = amount.split('(')[-1].replace(')', '')\n",
    "            funding_info.append({'amount': amount, 'date': date})\n",
    "\n",
    "        # Elements dinàmics amb Selenium + WebDriverWait\n",
    "        try:\n",
    "            financial_funding_stage = WebDriverWait(driver, 10).until(\n",
    "                EC.presence_of_element_located((By.ID, \"fundingStageTxt\"))\n",
    "            ).text\n",
    "        except TimeoutException:\n",
    "            print(\"No s'ha trobat fundingStageTxt\")\n",
    "            financial_funding_stage = None\n",
    "\n",
    "        try:\n",
    "            financial_employees = WebDriverWait(driver, 10).until(\n",
    "                EC.presence_of_element_located((By.ID, \"employeesTxt\"))\n",
    "            ).text\n",
    "        except TimeoutException:\n",
    "            print(\"No s'ha trobat employeesTxt\")\n",
    "            financial_employees = None\n",
    "\n",
    "        try:\n",
    "            founding = WebDriverWait(driver, 10).until(\n",
    "                EC.presence_of_all_elements_located((By.CLASS_NAME, \"generic-container\"))\n",
    "            )[0].text\n",
    "        except TimeoutException:\n",
    "            print(\"No s'ha trobat generic-container\")\n",
    "            founding = None\n",
    "\n",
    "        # Guardar dades\n",
    "        data = {\n",
    "            'Name': [name],\n",
    "            'Description': [description],\n",
    "            'Address': [address],\n",
    "            'Industries': [industries],\n",
    "            'Technologies': [technologies],\n",
    "            'Other fields': [others_fields],\n",
    "            'Funding stage': [financial_funding_stage],\n",
    "            'Founded': [financial_founded],\n",
    "            'Employees': [financial_employees],\n",
    "            'Business model': [business_model],\n",
    "            'Target': [targets],\n",
    "            'Spinoff participants': [spinoff],\n",
    "            'Funding': [funding_info],\n",
    "            'Funding2': [founding]\n",
    "        }\n",
    "\n",
    "        lista.append(data)\n",
    "\n",
    "    except Exception as e:\n",
    "        print(f\"Error inesperat a [{i}]: {e}\")\n",
    "\n",
    "    finally:\n",
    "        driver.quit()\n"
   ]
  },
  {
   "cell_type": "code",
   "execution_count": 59,
   "metadata": {},
   "outputs": [],
   "source": [
    "import pickle\n",
    "\n",
    "with open('lista.pkl', 'wb') as f:\n",
    "    pickle.dump(lista, f)"
   ]
  },
  {
   "cell_type": "code",
   "execution_count": null,
   "metadata": {},
   "outputs": [],
   "source": [
    "df_info = []\n",
    "with open('lista.pkl', 'rb') as f:\n",
    "    lista = pickle.load(f)\n",
    "df_info = pd.DataFrame(lista)"
   ]
  },
  {
   "cell_type": "code",
   "execution_count": null,
   "metadata": {},
   "outputs": [],
   "source": [
    "print(df_info)"
   ]
  },
  {
   "cell_type": "code",
   "execution_count": 63,
   "metadata": {},
   "outputs": [],
   "source": [
    "df_info = pd.DataFrame(lista)\n",
    "df_info[\"Name\"] = [d[0] for d in df_info[\"Name\"]]\n",
    "df_info[\"Description\"] = [d[0] for d in df_info[\"Description\"]]\n",
    "df_info[\"Address\"] = [d[0] for d in df_info[\"Address\"]]\n",
    "df_info[\"Industries\"] = [d[0] for d in df_info[\"Industries\"]]\n",
    "df_info[\"Technologies\"] = [d[0] for d in df_info[\"Technologies\"]]\n",
    "df_info[\"Other fields\"] = [d[0] for d in df_info[\"Other fields\"]]\n",
    "df_info[\"Funding stage\"] = [d[0] for d in df_info[\"Funding stage\"]]\n",
    "df_info[\"Founded\"] = [d[0] for d in df_info[\"Founded\"]]\n",
    "df_info[\"Employees\"] = [d[0] for d in df_info[\"Employees\"]]\n",
    "df_info[\"Business model\"] = [d[0] for d in df_info[\"Business model\"]]\n",
    "df_info[\"Target\"] = [d[0] for d in df_info[\"Target\"]]\n",
    "df_info[\"Spinoff participants\"] = [d[0] for d in df_info[\"Spinoff participants\"]]"
   ]
  },
  {
   "cell_type": "code",
   "execution_count": 72,
   "metadata": {},
   "outputs": [],
   "source": [
    "datosFinal = df.merge(df_info, left_on='Company', right_on='Name')\n",
    "datosFinal.to_pickle(\"datosFinal.pkl\")"
   ]
  },
  {
   "cell_type": "code",
   "execution_count": 7,
   "metadata": {},
   "outputs": [
    {
     "name": "stdout",
     "output_type": "stream",
     "text": [
      "(466, 21)\n"
     ]
    }
   ],
   "source": [
    "datosFinal = pd.read_pickle(\"datosFinal.pkl\")\n",
    "print(datosFinal.shape)"
   ]
  },
  {
   "cell_type": "code",
   "execution_count": 18,
   "metadata": {},
   "outputs": [
    {
     "name": "stdout",
     "output_type": "stream",
     "text": [
      "        Startup        Company              Category Investment  \\\n",
      "2    TRAVELPERK  TRAVELPERK SL  Traveltech & Leisure   241.9M €   \n",
      "289  TRAVELPERK  TRAVELPERK SL  Traveltech & Leisure      95M €   \n",
      "420  TRAVELPERK  TRAVELPERK SL  Traveltech & Leisure     190M €   \n",
      "\n",
      "                                                                            Investors  \\\n",
      "2    Kinnevik, General Catalyst Partners, business angels (Gilian Tans, Joel Cutler).   \n",
      "289                                                 Softbank, Kinnevik, Felix Capital   \n",
      "420                                                     Atomico, EQT Growth, Kinnevik   \n",
      "\n",
      "             Date                                URL           Name  \\\n",
      "2    January 2022  startup/barcelona/travelperk/1195  TRAVELPERK SL   \n",
      "289  January 2024  startup/barcelona/travelperk/1195  TRAVELPERK SL   \n",
      "420  January 2025  startup/barcelona/travelperk/1195  TRAVELPERK SL   \n",
      "\n",
      "                                                                                                                                                                                                                                                                                                                                                                                                                                Description  \\\n",
      "2    Travelperk is a business travel platform pioneering the future of travel. travelperk's all-in-one platform gives travelers the freedom they want whilst providing companies the control they need. the result is saved time, money, and hassle for everyone. travelperk has the world's largest travel inventory alongside powerful management features, 24/7 customer support, state-of-the-art technology and consumer-grade design.   \n",
      "289  Travelperk is a business travel platform pioneering the future of travel. travelperk's all-in-one platform gives travelers the freedom they want whilst providing companies the control they need. the result is saved time, money, and hassle for everyone. travelperk has the world's largest travel inventory alongside powerful management features, 24/7 customer support, state-of-the-art technology and consumer-grade design.   \n",
      "420  Travelperk is a business travel platform pioneering the future of travel. travelperk's all-in-one platform gives travelers the freedom they want whilst providing companies the control they need. the result is saved time, money, and hassle for everyone. travelperk has the world's largest travel inventory alongside powerful management features, 24/7 customer support, state-of-the-art technology and consumer-grade design.   \n",
      "\n",
      "                                             Address  ...  \\\n",
      "2    Avinguda Diagonal, 211 Floor 11 08018 Barcelona  ...   \n",
      "289  Avinguda Diagonal, 211 Floor 11 08018 Barcelona  ...   \n",
      "420  Avinguda Diagonal, 211 Floor 11 08018 Barcelona  ...   \n",
      "\n",
      "                                                                                        Technologies  \\\n",
      "2    AI & Big Data, \\r\\n\\t\\t                \\t\\t\\r\\n\\t\\t                \\t\\t\\tCloud & Edge Computing   \n",
      "289  AI & Big Data, \\r\\n\\t\\t                \\t\\t\\r\\n\\t\\t                \\t\\t\\tCloud & Edge Computing   \n",
      "420  AI & Big Data, \\r\\n\\t\\t                \\t\\t\\r\\n\\t\\t                \\t\\t\\tCloud & Edge Computing   \n",
      "\n",
      "    Other fields                    Funding stage Founded     Employees  \\\n",
      "2        Scaleup  Series C (20 M EUR - 200 M EUR)    2015  More than 50   \n",
      "289      Scaleup  Series C (20 M EUR - 200 M EUR)    2015  More than 50   \n",
      "420      Scaleup  Series C (20 M EUR - 200 M EUR)    2015  More than 50   \n",
      "\n",
      "    Business model    Target  Spinoff participants  \\\n",
      "2             Saas  Business  None / Not a spinoff   \n",
      "289           Saas  Business  None / Not a spinoff   \n",
      "420           Saas  Business  None / Not a spinoff   \n",
      "\n",
      "                                                             Funding  \\\n",
      "2    [[{'amount': '190M € (January 2025)', 'date': 'January 2025'}]]   \n",
      "289  [[{'amount': '190M € (January 2025)', 'date': 'January 2025'}]]   \n",
      "420  [[{'amount': '190M € (January 2025)', 'date': 'January 2025'}]]   \n",
      "\n",
      "                                                                                                                                                                                                                                                                                                                                                                                                                                                                                                                                                                                                                                                                                                                                                                                                                                                                                                                                                                                                                                                                                                Funding2  \n",
      "2    [Funding\\n190M € (JANUARY 2025)\\nCapital\\nInvestors: Atomico, EQT Growth, Kinnevik\\n95M € (JANUARY 2024)\\nCapital\\nInvestors: Softbank, Kinnevik, Felix Capital\\n241.9M € (JANUARY 2022)\\nMinority stake unknown %\\nInvestors: Kinnevik, General Catalyst Partners, business angels (Gilian Tans, Joel Cutler).\\n132M € (APRIL 2021)\\nMinority stake unknown %\\nInvestors: Greyhound Capital\\n53M € (JULY 2019)\\nMinority stake unknown %\\nInvestors: KINNEVIK, PARTNERS OF DST GLOBAL, TARGET GLOBAL, FELIX CAPITAL, SUNSTONE, LOCALGLOBE\\n38M € (OCTOBER 2018)\\nMinority stake unknown %\\nInvestors: KINNEVIK, YURI MILNER, TOM STAFFORD, FELIX CAPITAL, TARGET GLOBAL, SPARK CAPITAL, LOCALGLOBE, SUNSTONE, AMPLO\\n17M € (APRIL 2018)\\nMinority stake unknown %\\nInvestors: TARGET GLOBAL, FELIX CAPITAL, SPARK CAPITAL, SUNSTONE\\n6.1M € (JUNE 2016)\\nMinority stake unknown %\\nInvestors: SPARK CAPITAL PARTNERS LLC, SUNSTONE CAPITAL A/S, LOCALGLOBE LLP\\nSource: Press releases newsletters & platforms company websites annual reports & accounts regulatory body sites & stock exchanges]  \n",
      "289  [Funding\\n190M € (JANUARY 2025)\\nCapital\\nInvestors: Atomico, EQT Growth, Kinnevik\\n95M € (JANUARY 2024)\\nCapital\\nInvestors: Softbank, Kinnevik, Felix Capital\\n241.9M € (JANUARY 2022)\\nMinority stake unknown %\\nInvestors: Kinnevik, General Catalyst Partners, business angels (Gilian Tans, Joel Cutler).\\n132M € (APRIL 2021)\\nMinority stake unknown %\\nInvestors: Greyhound Capital\\n53M € (JULY 2019)\\nMinority stake unknown %\\nInvestors: KINNEVIK, PARTNERS OF DST GLOBAL, TARGET GLOBAL, FELIX CAPITAL, SUNSTONE, LOCALGLOBE\\n38M € (OCTOBER 2018)\\nMinority stake unknown %\\nInvestors: KINNEVIK, YURI MILNER, TOM STAFFORD, FELIX CAPITAL, TARGET GLOBAL, SPARK CAPITAL, LOCALGLOBE, SUNSTONE, AMPLO\\n17M € (APRIL 2018)\\nMinority stake unknown %\\nInvestors: TARGET GLOBAL, FELIX CAPITAL, SPARK CAPITAL, SUNSTONE\\n6.1M € (JUNE 2016)\\nMinority stake unknown %\\nInvestors: SPARK CAPITAL PARTNERS LLC, SUNSTONE CAPITAL A/S, LOCALGLOBE LLP\\nSource: Press releases newsletters & platforms company websites annual reports & accounts regulatory body sites & stock exchanges]  \n",
      "420  [Funding\\n190M € (JANUARY 2025)\\nCapital\\nInvestors: Atomico, EQT Growth, Kinnevik\\n95M € (JANUARY 2024)\\nCapital\\nInvestors: Softbank, Kinnevik, Felix Capital\\n241.9M € (JANUARY 2022)\\nMinority stake unknown %\\nInvestors: Kinnevik, General Catalyst Partners, business angels (Gilian Tans, Joel Cutler).\\n132M € (APRIL 2021)\\nMinority stake unknown %\\nInvestors: Greyhound Capital\\n53M € (JULY 2019)\\nMinority stake unknown %\\nInvestors: KINNEVIK, PARTNERS OF DST GLOBAL, TARGET GLOBAL, FELIX CAPITAL, SUNSTONE, LOCALGLOBE\\n38M € (OCTOBER 2018)\\nMinority stake unknown %\\nInvestors: KINNEVIK, YURI MILNER, TOM STAFFORD, FELIX CAPITAL, TARGET GLOBAL, SPARK CAPITAL, LOCALGLOBE, SUNSTONE, AMPLO\\n17M € (APRIL 2018)\\nMinority stake unknown %\\nInvestors: TARGET GLOBAL, FELIX CAPITAL, SPARK CAPITAL, SUNSTONE\\n6.1M € (JUNE 2016)\\nMinority stake unknown %\\nInvestors: SPARK CAPITAL PARTNERS LLC, SUNSTONE CAPITAL A/S, LOCALGLOBE LLP\\nSource: Press releases newsletters & platforms company websites annual reports & accounts regulatory body sites & stock exchanges]  \n",
      "\n",
      "[3 rows x 21 columns]\n"
     ]
    }
   ],
   "source": [
    "#print(datosFinal.head(3))\n",
    "print(datosFinal[datosFinal[\"Startup\"].str.strip().str.upper() == \"TRAVELPERK\"])"
   ]
  },
  {
   "cell_type": "code",
   "execution_count": 13,
   "metadata": {},
   "outputs": [
    {
     "name": "stdout",
     "output_type": "stream",
     "text": [
      "['Funding', '190M € (JANUARY 2025)', 'Capital', 'Investors: Atomico, EQT Growth, Kinnevik', '95M € (JANUARY 2024)', 'Capital', 'Investors: Softbank, Kinnevik, Felix Capital', '241.9M € (JANUARY 2022)', 'Minority stake unknown %', 'Investors: Kinnevik, General Catalyst Partners, business angels (Gilian Tans, Joel Cutler).', '132M € (APRIL 2021)', 'Minority stake unknown %', 'Investors: Greyhound Capital', '53M € (JULY 2019)', 'Minority stake unknown %', 'Investors: KINNEVIK, PARTNERS OF DST GLOBAL, TARGET GLOBAL, FELIX CAPITAL, SUNSTONE, LOCALGLOBE', '38M € (OCTOBER 2018)', 'Minority stake unknown %', 'Investors: KINNEVIK, YURI MILNER, TOM STAFFORD, FELIX CAPITAL, TARGET GLOBAL, SPARK CAPITAL, LOCALGLOBE, SUNSTONE, AMPLO', '17M € (APRIL 2018)', 'Minority stake unknown %', 'Investors: TARGET GLOBAL, FELIX CAPITAL, SPARK CAPITAL, SUNSTONE', '6.1M € (JUNE 2016)', 'Minority stake unknown %', 'Investors: SPARK CAPITAL PARTNERS LLC, SUNSTONE CAPITAL A/S, LOCALGLOBE LLP', 'Source: Press releases newsletters & platforms company websites annual reports & accounts regulatory body sites & stock exchanges']\n"
     ]
    }
   ],
   "source": [
    "print(datosFinal.loc[2, \"Funding2\"][0].split(\"\\n\"))"
   ]
  },
  {
   "cell_type": "code",
   "execution_count": null,
   "metadata": {},
   "outputs": [],
   "source": [
    "conteoRegistros = []\n",
    "capitales = []\n",
    "investors = []\n",
    "\n",
    "for j in range(datosFinal.shape[0]):\n",
    "    lista = datosFinal.loc[j, \"Funding2\"][0].split(\"\\n\")\n",
    "    capital_prev_values = [lista[i - 1] for i, val in enumerate(lista) if val.lower() == 'capital' and i > 0]\n",
    "    investors_cleaned = [val.replace('Investors:', '').strip() for val in lista if 'Investors' in val]\n",
    "    conteoRegistros.append(len(capital_prev_values))\n",
    "    capitales.append(capital_prev_values)\n",
    "    investors.append(investors_cleaned)\n",
    "\n",
    "capitales = [item for sublista in capitales for item in sublista]\n",
    "investors = [item for sublista in investors for item in sublista]\n",
    "\n",
    "print(capitales)\n",
    "print(investors)"
   ]
  },
  {
   "cell_type": "code",
   "execution_count": null,
   "metadata": {},
   "outputs": [],
   "source": [
    "df_repetido = datosFinal.loc[datosFinal.index.repeat(conteoRegistros)].reset_index(drop=True)\n",
    "df_repetido[\"capital_prev\"] = capitales\n",
    "df_repetido[\"investors\"] = investors"
   ]
  },
  {
   "cell_type": "code",
   "execution_count": null,
   "metadata": {},
   "outputs": [],
   "source": [
    "df_repetido = datosFinal.loc[datosFinal.index.repeat(conteoRegistros)].reset_index(drop=True)\n",
    "print(df_repetido.iloc[0:0])\n",
    "print(\"df_repetido:\", len(df_repetido))\n",
    "print(\"capitales:\", len(capitales))\n",
    "print(\"investors:\", len(investors))\n"
   ]
  },
  {
   "cell_type": "code",
   "execution_count": 94,
   "metadata": {},
   "outputs": [],
   "source": [
    "datosFinal = df_repetido.drop(columns=['Funding', 'Funding2'])"
   ]
  },
  {
   "cell_type": "code",
   "execution_count": null,
   "metadata": {},
   "outputs": [],
   "source": [
    "datosFinal.to_csv('datosFinal.csv', index=False)\n",
    "datosFinal.to_pickle(\"./datosFinal.pkl\") "
   ]
  }
 ],
 "metadata": {
  "kernelspec": {
   "display_name": "Python 3",
   "language": "python",
   "name": "python3"
  },
  "language_info": {
   "codemirror_mode": {
    "name": "ipython",
    "version": 3
   },
   "file_extension": ".py",
   "mimetype": "text/x-python",
   "name": "python",
   "nbconvert_exporter": "python",
   "pygments_lexer": "ipython3",
   "version": "3.13.3"
  }
 },
 "nbformat": 4,
 "nbformat_minor": 2
}
