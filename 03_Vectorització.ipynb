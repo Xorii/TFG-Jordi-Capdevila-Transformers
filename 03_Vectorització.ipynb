{
 "cells": [
  {
   "cell_type": "code",
   "execution_count": 33,
   "id": "5df3a923",
   "metadata": {},
   "outputs": [],
   "source": [
    "from sklearn.feature_extraction.text import TfidfVectorizer\n",
    "\n",
    "import torch\n",
    "from transformers import BertTokenizer, BertModel\n",
    "import pickle\n",
    "\n",
    "import spacy\n",
    "import pandas as pd"
   ]
  },
  {
   "cell_type": "code",
   "execution_count": 34,
   "id": "1a5af659",
   "metadata": {},
   "outputs": [],
   "source": [
    "# 2. Carreguem dades\n",
    "DF = pd.read_pickle(\"data/datos_preprocesados.pkl\")"
   ]
  },
  {
   "cell_type": "markdown",
   "id": "8bf48ac6",
   "metadata": {},
   "source": [
    "Creem un dataframe amb el nom i la descripció"
   ]
  },
  {
   "cell_type": "code",
   "execution_count": 35,
   "id": "23db1de2",
   "metadata": {},
   "outputs": [],
   "source": [
    "df = DF[[\"Name\",\"Description\"]]\n",
    "df = df.drop_duplicates(subset='Name', keep='first').reset_index(drop=True)\n",
    "DF = DF.drop(columns=[\"Description\"])\n",
    "#print(df)"
   ]
  },
  {
   "cell_type": "markdown",
   "id": "81799f8d",
   "metadata": {},
   "source": [
    "TF-idf"
   ]
  },
  {
   "cell_type": "code",
   "execution_count": 36,
   "id": "499b5da9",
   "metadata": {},
   "outputs": [],
   "source": [
    "# Crear el vectoritzador\n",
    "vectorizer = TfidfVectorizer()\n",
    "\n",
    "# Aplicar TF-IDF sobre la columna 'Description'\n",
    "tfidf_matrix = vectorizer.fit_transform(df['Description'])\n",
    "\n",
    "# Convertir la matriu en un DataFrame per veure-ho clar\n",
    "tfidf_df = pd.DataFrame(tfidf_matrix.toarray(), columns=vectorizer.get_feature_names_out())\n",
    "\n",
    "# Afegir l'ID o index per context\n",
    "tfidf_df['Name'] = df['Name']"
   ]
  },
  {
   "cell_type": "code",
   "execution_count": 37,
   "id": "d461b394",
   "metadata": {},
   "outputs": [],
   "source": [
    "#tfidf_df"
   ]
  },
  {
   "cell_type": "code",
   "execution_count": 38,
   "id": "c41ca1d0",
   "metadata": {},
   "outputs": [],
   "source": [
    "DF_tfidf = DF.merge(tfidf_df, on=\"Name\", how=\"left\")"
   ]
  },
  {
   "cell_type": "markdown",
   "id": "97c7e1b4",
   "metadata": {},
   "source": [
    "Word2Vec"
   ]
  },
  {
   "cell_type": "code",
   "execution_count": 39,
   "id": "a8e9b105",
   "metadata": {},
   "outputs": [],
   "source": [
    "# Carrega el model amb embeddings\n",
    "nlp = spacy.load(\"en_core_web_md\")\n",
    "\n",
    "# Exemple: df = pd.DataFrame({'Name': [...], 'Description': [...]})\n",
    "\n",
    "# Funció per calcular vector mitjà de la frase\n",
    "def sentence_vector(text):\n",
    "    doc = nlp(text)\n",
    "    return doc.vector\n",
    "\n",
    "# Aplicar a cada descripció\n",
    "sentence_vecs = df['Description'].astype(str).apply(sentence_vector)\n",
    "sentence_vecs_df = pd.DataFrame(sentence_vecs.tolist())\n",
    "sentence_vecs_df.insert(0, 'Name', df['Name'])"
   ]
  },
  {
   "cell_type": "code",
   "execution_count": 40,
   "id": "c56a7f43",
   "metadata": {},
   "outputs": [],
   "source": [
    "#sentence_vecs_df"
   ]
  },
  {
   "cell_type": "code",
   "execution_count": 41,
   "id": "3f8e66db",
   "metadata": {},
   "outputs": [],
   "source": [
    "DF_W2V = DF.merge(sentence_vecs_df, on=\"Name\", how=\"left\")"
   ]
  },
  {
   "cell_type": "markdown",
   "id": "11e2b867",
   "metadata": {},
   "source": [
    "Transformers Bert"
   ]
  },
  {
   "cell_type": "code",
   "execution_count": 42,
   "id": "283dc7f4",
   "metadata": {},
   "outputs": [],
   "source": [
    "# Suposem que tens el DataFrame df amb 'Description' i 'Name'\n",
    "descriptions = df['Description'].astype(str).tolist()\n",
    "\n",
    "# Carregar model i tokenizer BERT (base uncased, pots canviar a model en català si vols)\n",
    "tokenizer = BertTokenizer.from_pretrained('bert-base-uncased')\n",
    "model = BertModel.from_pretrained('bert-base-uncased')\n",
    "\n",
    "# Funció per obtenir l'embedding d'una frase (mitjana dels tokens)\n",
    "def get_embedding(text):\n",
    "    inputs = tokenizer(text, return_tensors='pt', truncation=True, max_length=512)\n",
    "    with torch.no_grad():\n",
    "        outputs = model(**inputs)\n",
    "    # outputs.last_hidden_state té la representació per cada token\n",
    "    # Fem la mitjana sobre els tokens per tenir un vector fix (1 x 768)\n",
    "    embeddings = outputs.last_hidden_state.mean(dim=1).squeeze()\n",
    "    return embeddings.numpy()\n",
    "\n",
    "# Generar embeddings per tots els textos (pot ser lent si és gran)\n",
    "embeddings = [get_embedding(text) for text in descriptions]\n",
    "\n",
    "# Convertir a DataFrame, 768 columnes per BERT base\n",
    "embeddings_df = pd.DataFrame(embeddings)\n",
    "\n",
    "# Afegir la columna Name\n",
    "embeddings_df.insert(0, 'Name', df['Name'].values)"
   ]
  },
  {
   "cell_type": "code",
   "execution_count": 43,
   "id": "bdd8290e",
   "metadata": {},
   "outputs": [],
   "source": [
    "#embeddings_df"
   ]
  },
  {
   "cell_type": "code",
   "execution_count": 44,
   "id": "a1664a78",
   "metadata": {},
   "outputs": [],
   "source": [
    "DF_TBert = DF.merge(embeddings_df, on=\"Name\", how=\"left\")\n"
   ]
  },
  {
   "cell_type": "code",
   "execution_count": 45,
   "id": "8ab7f02b",
   "metadata": {},
   "outputs": [],
   "source": [
    "DF_tfidf.columns = DF_tfidf.columns.astype(str)"
   ]
  },
  {
   "cell_type": "code",
   "execution_count": 46,
   "id": "d7e9bde9",
   "metadata": {},
   "outputs": [],
   "source": [
    "DF_tfidf.columns = DF_tfidf.columns.astype(str)"
   ]
  },
  {
   "cell_type": "code",
   "execution_count": 47,
   "id": "b610d50c",
   "metadata": {},
   "outputs": [],
   "source": [
    "DF_TBert.columns = DF_TBert.columns.astype(str)\n"
   ]
  },
  {
   "cell_type": "code",
   "execution_count": 48,
   "id": "38467c3a",
   "metadata": {},
   "outputs": [],
   "source": [
    "DF_tfidf.to_pickle(path=\"data/dades_TF-idf.pkl\")\n",
    "DF_W2V.to_pickle(path=\"data/dades_W2V.pkl\")\n",
    "DF_TBert.to_pickle(path=\"data/dades_TBert.pkl\")"
   ]
  },
  {
   "cell_type": "markdown",
   "id": "4d0530c0",
   "metadata": {},
   "source": [
    "ACM"
   ]
  },
  {
   "cell_type": "code",
   "execution_count": null,
   "id": "a044ad33",
   "metadata": {},
   "outputs": [],
   "source": [
    "import pandas as pd\n",
    "from sklearn.feature_extraction.text import CountVectorizer\n",
    "import prince\n",
    "\n",
    "# Suposem que tens el DataFrame df amb 'Description' i 'Name'\n",
    "\n",
    "# 1. Vectoritzar les frases en forma binària (presència/absència)\n",
    "vectorizer = CountVectorizer(binary=True)\n",
    "X = vectorizer.fit_transform(df['Description'].astype(str))\n",
    "\n",
    "# Convertir a DataFrame per comoditat\n",
    "X_df = pd.DataFrame(X.toarray(), columns=vectorizer.get_feature_names_out())\n",
    "\n",
    "# 2. Aplicar ACM amb prince\n",
    "mca = prince.MCA(n_components=10, n_iter=3, copy=True, check_input=True, engine='sklearn', random_state=42)\n",
    "mca = mca.fit(X_df)\n",
    "\n",
    "# 3. Coordenades de les paraules (columnes)\n",
    "word_coords = mca.column_coordinates(X_df)\n",
    "\n",
    "# 4. Funció per obtenir el vector de frase com mitjana vectors paraules\n",
    "def sentence_vector(sentence):\n",
    "    words = sentence.lower().split()\n",
    "    valid_words = [w for w in words if w in word_coords.index]\n",
    "    if not valid_words:\n",
    "        return [0]*word_coords.shape[1]\n",
    "    return word_coords.loc[valid_words].mean(axis=0).values\n",
    "\n",
    "# 5. Aplicar a totes les frases\n",
    "sentence_vectors = df['Description'].astype(str).apply(sentence_vector).tolist()\n",
    "\n",
    "# 6. Crear DataFrame amb resultats\n",
    "sentence_vectors_df = pd.DataFrame(sentence_vectors)\n",
    "sentence_vectors_df.insert(0, 'Name', df['Name'].values)"
   ]
  },
  {
   "cell_type": "code",
   "execution_count": null,
   "id": "fa056a14",
   "metadata": {},
   "outputs": [],
   "source": [
    "sentence_vectors_df"
   ]
  }
 ],
 "metadata": {
  "kernelspec": {
   "display_name": "Python 3",
   "language": "python",
   "name": "python3"
  },
  "language_info": {
   "codemirror_mode": {
    "name": "ipython",
    "version": 3
   },
   "file_extension": ".py",
   "mimetype": "text/x-python",
   "name": "python",
   "nbconvert_exporter": "python",
   "pygments_lexer": "ipython3",
   "version": "3.13.3"
  }
 },
 "nbformat": 4,
 "nbformat_minor": 5
}
