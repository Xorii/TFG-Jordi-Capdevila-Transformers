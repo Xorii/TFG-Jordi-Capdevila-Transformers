{
 "cells": [
  {
   "cell_type": "code",
   "execution_count": 313,
   "id": "319c1505",
   "metadata": {},
   "outputs": [],
   "source": [
    "import pandas as pd\n",
    "import numpy as np\n",
    "import pickle\n",
    "import re"
   ]
  },
  {
   "cell_type": "code",
   "execution_count": 314,
   "id": "d3577554",
   "metadata": {},
   "outputs": [],
   "source": [
    "# 2. Carreguem dades\n",
    "df = pd.read_csv(\"data/datosFinal.csv\")"
   ]
  },
  {
   "cell_type": "code",
   "execution_count": null,
   "id": "9d19a488",
   "metadata": {},
   "outputs": [],
   "source": [
    "df"
   ]
  },
  {
   "cell_type": "markdown",
   "id": "d2b1fbe0",
   "metadata": {},
   "source": [
    "### Preprocessing"
   ]
  },
  {
   "cell_type": "markdown",
   "id": "6bb06eb6",
   "metadata": {},
   "source": [
    "1. Company"
   ]
  },
  {
   "cell_type": "code",
   "execution_count": 315,
   "id": "13025723",
   "metadata": {},
   "outputs": [
    {
     "data": {
      "text/plain": [
       "es_sociedad_limitada\n",
       "Sí    544\n",
       "No     79\n",
       "Name: count, dtype: int64"
      ]
     },
     "execution_count": 315,
     "metadata": {},
     "output_type": "execute_result"
    }
   ],
   "source": [
    "condicio = (\n",
    "    df[\"Company\"].str.strip().str.upper().str.endswith(\"S.L\") |\n",
    "    df[\"Company\"].str.strip().str.upper().str.endswith(\"SL\") |\n",
    "    df[\"Company\"].str.strip().str.upper().str.endswith(\"S.L.\") |\n",
    "    df[\"Company\"].str.upper().str.contains(\"SOCIEDAD LIMITADA\")\n",
    ")\n",
    "\n",
    "df['es_sociedad_limitada'] = np.where(condicio, 'Sí', 'No')\n",
    "\n",
    "df.es_sociedad_limitada.value_counts()"
   ]
  },
  {
   "cell_type": "markdown",
   "id": "2f0464ea",
   "metadata": {},
   "source": [
    "2. Names"
   ]
  },
  {
   "cell_type": "code",
   "execution_count": 316,
   "id": "9a185705",
   "metadata": {},
   "outputs": [],
   "source": [
    "(df[\"Company\"] == df[\"Name\"]).value_counts()\n",
    "df = df.drop(columns=[\"Company\"])"
   ]
  },
  {
   "cell_type": "markdown",
   "id": "e66bb624",
   "metadata": {},
   "source": [
    "3. Investment"
   ]
  },
  {
   "cell_type": "code",
   "execution_count": null,
   "id": "d3b9cc14",
   "metadata": {},
   "outputs": [],
   "source": [
    "df[\"Investment\"] = (\n",
    "    df[\"capital_prev\"]\n",
    "    .astype(str)\n",
    "    .str.extract(r'([\\d.,]+M\\s?€)')[0]   # agafa només la part numèrica amb M i €\n",
    "    .str.replace(\"€\", \"\", regex=False)\n",
    "    .str.replace(\"M\", \"\", regex=False)\n",
    "    .str.replace(\"m\", \"\", regex=False)\n",
    "    .str.replace(\",\", \".\", regex=False)       # canvia coma per punt decimal\n",
    "    .str.replace(\" \", \"\", regex=False)        # elimina espais\n",
    ")\n",
    "\n",
    "# 2. Conversió a numèric (float), posant NaN si hi ha errors\n",
    "df[\"Investment\"] = pd.to_numeric(df[\"Investment\"], errors=\"coerce\")\n",
    "\n",
    "# 3. Substitueix 0 per NaN\n",
    "df[\"Investment\"] = df[\"Investment\"].replace(0.0, np.nan)\n",
    "\n",
    "# per tenir 0 en comptes de nan\n",
    "df[\"Investment\"] = df[\"Investment\"].fillna(0)\n",
    "\n",
    "\n",
    "df.Investment"
   ]
  },
  {
   "cell_type": "markdown",
   "id": "0ddb3637",
   "metadata": {},
   "source": [
    "4. Investor"
   ]
  },
  {
   "cell_type": "code",
   "execution_count": 318,
   "id": "a59a1c35",
   "metadata": {},
   "outputs": [],
   "source": [
    "df.Investors = df.investors\n",
    "df = df.drop(columns=['investors'])"
   ]
  },
  {
   "cell_type": "code",
   "execution_count": 112,
   "id": "ff4edd6f",
   "metadata": {},
   "outputs": [
    {
     "name": "stdout",
     "output_type": "stream",
     "text": [
      "['Atomico, EQT Growth, Kinnevik', 'Softbank, Kinnevik, Felix Capital', 'Kinnevik, General Catalyst Partners, business angels (Gilian Tans, Joel Cutler).', 'Greyhound Capital', 'KINNEVIK, PARTNERS OF DST GLOBAL, TARGET GLOBAL, FELIX CAPITAL, SUNSTONE, LOCALGLOBE', 'KINNEVIK, YURI MILNER, TOM STAFFORD, FELIX CAPITAL, TARGET GLOBAL, SPARK CAPITAL, LOCALGLOBE, SUNSTONE, AMPLO', 'TARGET GLOBAL, FELIX CAPITAL, SPARK CAPITAL, SUNSTONE', 'SPARK CAPITAL PARTNERS LLC, SUNSTONE CAPITAL A/S, LOCALGLOBE LLP', 'General Catalyst', 'Atomico, Creandum, Tiger Global Management, GIC, K Fund, CRV', 'Creandum, Point Nine, Tiger Global Management, K Fund, CRV, Columbia Lake Partners', 'Creandum, Point Nine, K Fund, CRV', 'Creandum, Point Nine, K Fund', 'Hyperion Fund, SETT', 'Global Porfolio Investments', 'n.a.', 'SEPIDES Gestión', 'Columbus Venture Partner, Panakès Partners i Mérieux', 'AXISC, DTI, Alta Life Sciences, Werfen Life Group, UI Investissement, Kurma Partners, Asabys Partners', 'Alta Life Science, Kuma Partners, Axis, UI investissement, CDTI', 'Alta Life Science, Kuma Partners, Axis, Sofimac Innovation', 'Quona Capital, Kaszek', 'Kibo Ventures, KaszeK Ventures, Sebastian MejiaVenture, FriendsFJ Labs, Future Positive Capital, David Velez, Maya Capital, Harsh Sinha', 'KaszeK Ventures, Founders Fund', 'Liquid 2 Ventures, David Velez, Capitoria , Kalonia Venture Partners, Unpopular Ventures', 'VentureFriends, Kalonia Venture Partners', 'Motive Ventures, Battery Ventures', 'Earlybird Venture CapitalJME Ventures4Founders CapitalMartin KassingRaffaele Terrone', 'JME VenturesLanai Partners4Founders Capital', nan, 'Copec Wind, Alumni Ventures AI Fund, Plug and Play Supply Chain Fund', 'BBVA Spark, Fons Europeu d’Inversions', 'Seaya Ventures, Banc Sabadell, Encomenda, Didac Lee, René de Jong, Jacky Abitbol', 'Banc Sabadell, Encomenda and other business angels', 'AMAVI Capital', 'Orilla Asset Management, Endeavor, P101', 'Mutua Madrileña, Orilla Asset Management', 'P101 Ventures, Maniv Mobility, Autotech Ventures', 'Acurio Ventures, Leadwind, Actyus', 'Bonsai Venture Capital, Actyus', 'EUROVENDING', 'NERO VENTURES, UNDISCLOSED PRIVATE BUSINESS ANGELS', 'Kibo Ventures, Kfund', 'Kibo VenturesK Fund', 'Orbis, Suma Capital', 'CDTI, Enion Venture Partners', 'Enion Venture Partners', 'Samaipata, KFund', 'Itnig, JME Ventures', 'Íope Ventures, Swanlaab Venture Factory, La Roca Capital, Bankinter', 'Nauta Capital', 'YSIOS BIOFUND II INNVIERTE, YSIOS BIOFUND II SIDE FUND, Asabys Top Up Fund, CDTI Innovación', 'ASABYS PARTNERS', 'YSIOS CAPITAL, INNOGEST CAPITAL, OMEGA FUNDS, BANCO SABADELL', '4Founders, Kfund', 'Profounders Capital, K Fund, Encomenda Smart Capital, Bonsai Venture Capital', 'Profounders Capital, K Fund, Encomenda Smart Capital', 'Blackpool Capital, Primo Space', 'Inveready, Primo Space, Dozen Investments, E2MC, CDTI', 'The Crowd Angel', 'Faber Ventures, Elaia Partners', 'Elaia Partners', 'Swanlaab Venture Factory, Bonsai Partners, Boyser', 'Grup de business angels', 'itnigToubkal Partners4Founders CapitalAlexandre GuinefolleauBynd Venture CapitalDemium CapitalEntourageCarles Marcos i Guàrdia', 'itnigToubkal Partners4Founders Capital', 'itnig, JME Ventures, s16vc', 'JME Ventures, Mission VC, Itnig Capital', 'Health Innovation Group, Fons EIC', 'OneRagtime', 'Global Payments, Ingenico, Successful Ventures, Zone2boost', 'LUMO Labs, Ship2B Ventures, Namarel Ventures', 'LUMO Labs, Ship2B Ventures, Namarel Ventures', 'Ship2B Ventures, Banc Sabadell, Athos Capital', 'Psalion, Ergodic, Blue Bay Ventures, Mocha', 'Sabadell Venture Capital i Nordstar', 'Plug & Play, Nordstar, Picus Capital', 'Swanlaab, Faber, Fund F', 'Swanlaab Innvierte, Fund-F', 'Sego Finance, Suma Capital', 'SociosInversores.com', 'Clave Capital, Mondragon Corporacion, Copreci', 'Crowdcube', 'Michael J. Fox Foundation, Fonds National de la Recherche de Luxembourg', 'S&B Capital', 'SegoFinance, Demium VC', 'BeAble Innvierte Kets Fund FCR, Fundació Eurecat', 'Bewater Funds, Altres inversors', 'n.a.', 'n.a.', 'Inversors estrategics del sector', 'First Drop, Itnig', 'Plug and Play, Nuclio', 'Bcombinator VC II', 'Oryon Universal', 'Grow Venture Partners', 'Styx', '4Founders, K Fund and SeedRocket', 'Buenavista Equity Partners', 'Firends and Family round', 'Left Lane Capital, Fillip, Cassius', 'TA Ventures, LBO France, CareCapital, Trinity Capital', 'TA Ventures, Media Digital Ventures, LBO France, Norgine Ventures, UNIQA Ventures GmbH, Nickleby Capital, Claret Capital Partners', 'CareCapital, Nickleby Capital, Uniqa Ventures, TA Ventures, Nikolimax Investments and Bynd VC', 'TA Ventures, Bynd VC, Sabadell VC', 'Santander Group', 'Mundi ventures, Norrsken VC, M&G Investments, Planet Frist Partners', 'Planet First Partners, Alma Mundi Ventures, Norrsken VC', 'NORRSKEN, TIM REYNOLDS', 'Avançsa, ICO, EIC fund, CDTI Innvierte, Imec.xpand', 'EIC Fund', 'EIC Fund', 'Asabys Partners, Alta Life Sciences, Vsquared, TruVenturo, CDTI, Institut Català de Finances (ICF)', 'Sabadell-Asabys, Alta Life Sciences Spain, Institut Català de Finances', 'Crowdcube, Upfield, European Circular Bioeconomy Fund (ECBF)', 'Crowdcube', 'Unovis Asset Management, Sergi Roberto, David Broncano, Ricky Rubio, Sergi Busquets', 'Crowdcube', 'MICHIEL VAN DEURSEN, NEW CROP CAPITAL', 'n.a.', 'Mayfair Equity Partners', 'Alma mundi ventures, gellify, exor seeds, azimut libera impresa SGR', nan, 'Kayne Anderson Partners Fund V, Composition Capital', 'Sofinnova Partners, Forbion, Unovis Asset Management', 'Rubio Impact Ventures, Unovis Asset Management, Praesidium', 'NEOTEC Capital Riesgo', 'New Crop Capital', 'Proeza Ventures, Liil Ventures, Autotec Ventures', 'Proeza Ventures, Autotech Ventures', 'Infravia Capital, Unbound', 'Axis', 'Infravia Capital', 'SoftBank, Infravia Capital Partners, First Bridge Ventures, Catalyst, Rider Global, Fuse Venture Partners, Kibo Ventures', 'Bregal Milestone', 'All Iron Ventures', 'Bankinter, Big Ventures, Bonsai Venture Capital', 'XY Booster', 'Grupo GVC Gaesco, Dozen Investments, RKS Real Estate', 'The Crowd Angel', 'Business Angels', 'Telefónica Ventures, Íope Ventures', 'Faber, Microsoft Climate Innovation Fund, Nationwide Ventures,', 'Walter Ventures, JME Ventures, Telefónica (Wayra Ventures), Akamai Technologies', 'Lenovo, Cellnex Telecom, Elewit', 'Contrarian Ventures, Headline, Domo.VC, EDP Ventures', 'Google for Startups Accelerator', 'EDP Ventures', 'MiddleGame Ventures, 3VC', 'SIX FinTech Ventures, Aperture', 'Inveready, Zubi Capital', 'Barça Innovation Hub, Qvidtvm', 'Telefonica Digital, Albert Armengol, Carlos Gallardo, Jordi Llonch Esteve, FCV Equity, Crèdit Andorrà S.A.', 'ALBERT ARMENGOL, CG HEALTH VENTURES, BREAK OFF CAPITAL, FCV EQUITY, SCALE LAB ANDORRA FUND', 'WAYRA INVESTIGACION Y DESARROLLO SL, GG HEALTH VENTURES, UNDISCLOSED PRIVATE INVESTORS', 'WAYRA INVESTIGACION Y DESARROLLO SL', 'Seaya Ventures', 'Nauta CapitalDraper B1One Travel Ventures', 'Adara Ventures, Hearstlab, Avançsa, Caixabank DayOne, Bbva Spark, Banco Santander', 'n.a.', nan, 'Plug and PlayMustard Seed MAZEOutsized VenturesYZR Capital', 'Antai Venture Builder', 'Shilling VC, Kindred Ventures, SoftBank, Astorya VC', 'n.a.', 'Mundi Ventures, Euveka, Mondragon ventures, CDTI Innvierte', 'Mondragon Ventures, CDTI INNVIERTE', 'ACCURAFY ADVISORY, CENTRE FOR THE DEVELOPMENT OF INDUSTRIAL TECHNOLOGY (CDTI), DANOBATGROUP, JME VENTURES, MONDRAGÓN CORP.', 'Bullnet Capital', 'Nara Capital, CDTI-INNVIERTE, Institut Català de Finances, Women Tech EU', 'Y Combinator, Kfund, Business Angels', 'Nortia Capital, familia Delclaux, BClan', 'Actyus, Nortia Capital, Tekpolio, Bclan', 'Nortia Capital Partners, Tekpolio group, BCLAN', 'JME Ventures, Draper B1, Demium, Enzo Ventures, Notion Capital, Business Angels', 'Demium', 'Business Angels', 'EIC Fund', 'DuneGlass Capital, Zentynel Frontier Investments, GRIDX', 'Family Office , Draper B1, Archipélago Next', 'Ilya Rouss', 'Nauta Capital', 'Crowdcube', 'K Fund, 4Founders Capital, LifeX Ventures', 'Indexa Capital, K Fund, 4Founders Capital, Bernat Ripoll, Javi Fondevila, Fernando Egido Egaña', 'K Fund, 4Founders Capital, LifeX Ventures', 'Secways, Antai Ventures', 'Antai VenturesSecways', 'Pear VC, Enzo Ventures, Kfund , Bonsai, Business Angels', 'Iris Ventures, Ser+2', 'Zamit Capital, GVC Gaesco', 'Banc Sabadell, Dozen Investments', 'Angels, Born Capital, Angel Invest Ventures', 'Draper B1, Successful Fund SPV, Lánzame Capital, business angels', 'Faraday Ventures, Demium Capital', 'Guillem Serra, Demium Capital, Inés Ures, Joaquín Durán, Jose Vicente Garrido Family Office', 'Bullnet Capital', 'Business angels', 'Business Angels', 'Inderhabs, Farside Ventures, GVC Gaesco, Relats', 'Dozen Investments', 'Wayra, 4Founders Capital, Abac Nest, Decelera', 'Marek Fodor, Jesus Monleon, david Baratech, Sergi de Pablos, Bernat Ripoll', 'Capital Cell', 'Hans(wo)men Group, Venture Hub, La Vida Es Chula', 'Johann Hansmann', 'Helena Torras, Johann Hansmann', 'Grow Venture Partners, XesGalicia, SpaceQuest Ventures, Tasivia Global, Startupxplore', 'Stefan Menden, Michael Wolfe, Marvin Homburg, Dr. Jan Brinckmann, Superangels, Vimajo Family Office', 'Sogrape Ventures, EIT InnoEnergy, Impact Ventures', 'EIT InnoEnergy, Enion Ventures Partners, Impact Ventures Hungary, CDTI Innvierte', 'La Bolsa Social, EIT, Enion, Impact Ventures', 'Faber, Dozen Investments, Sprout & About, Proveg Internationa, WA4STEAM (Women For STEAM)', 'ProVeg Incubator', 'Family Office , Decelera Ventures, Histemi Inversiones, Instituto Oncológico Doctor Rosell (IOR)', 'Family Office, Arcano Partners, Busness angels', 'n.a.', 'GVC Gaesco, Gus Bertolo', 'n/d', 'Adstratus, Grupo Godó, Bcombinator', 'n/d', 'RHOMBUS, Seven Roots, Business angel', 'H Capital, EIT InnoEnergy, CMA CGM', 'Jesús Majem, Xavier Herce, Frederic Horta', 'Business Angels', 'JRV Holding, The Food Tech Lab, Business Angels, Brigantia Capital Investment', 'Acció, Associació Espanyola contra el Càncer, Diversos business angels', 'Bstartup', 'Criteria Venture Tech, Cdti Innvierte', 'Criteria Venture Tech, Cdti Innvierte', 'Demium Capital, Archipelago Next, Next, Ona Capital, First Drop VC', 'OK Ventures', 'Xavier Soucheiron Marcet, Andres Echecopar', 'Maurici Badia Torguet, Julio Ribes, Josep Casas, Joan Alvarez, Xavier Soucheiron Marcet', 'BeAble Capital', 'Startup Wise Guys, Business Angels', 'Private Investors', 'Crowdcube', 'Crowdcube, GVC Gaesco, Mutual Medica', nan, nan, 'Eurostars SME programme', 'Demium Capital, Encomenda, Eoniq', 'Business Angels', nan, 'Fluidra, Business Angels', 'n.a.', 'Startup Wise Guys', 'Nara CapitalCDTI Innvierte', 'Sego Venture', 'SociosInversores, Pinama, Labiana Sciences, Grupo GVC Gaesco', '101 Ventures Builder', 'Enzo Ventures, Cubig Foods', 'Grow Venture Partners, Unconventional Ventures', 'Business Angels', 'All Iron Ventures, Business Angels', 'Banco Sabadell, Business Angels', 'Dozen Investments', 'CDTI, Nara Capital', 'Capital Cell', 'Alva House Capital', 'WA4Steam, Fides Capital, EconomistesBAN, We Rock Capital, Business angels', 'EconomistesBAN, Acció, ENISA', 'First Drop VC, Ona Capital', 'First Drop VC, Ona Capital', 'Lanzadera', 'Casilda Güell i Javier Sobrino', 'Codols Finances', nan, nan, 'Elisabeth Martinez, Oriol Vila, Blast', nan, 'ONA Capital', 'Business Angels', 'Fundació Telefónica', 'Capital Cell', 'Garnex, Mau Mau Invest, Vemo Coach', 'BcombinatorFI Group', 'Grow Ventures Partners', 'Bcombinator', \"tres efes' (familiars, amics i entusiastes)\", 'Venture capital GoHub', 'Inveready, Outlier Ventures, FI Group', 'Fi Group, Business Angels', 'Estats Units', 'Business Angels', 'Business Angels', 'Bcombinator', 'Business Angels', 'Fundadors', 'GENESIS Biomed', 'Fundadors', 'Tomas Meyer', 'Cabiedes & Partners', 'cabiedes & Partners, Startupexplore', 'n.a.', 'Barça Innovation Hub', 'Capital Cell', 'Camber Partners', 'Axon Partners Group, Bonsai Partners, Kibo Ventures, 10x, Reach Capital, Dozen Investments, Barlon Capital', 'The Crowd Angel', 'Kibo Ventures, Ship2B Foundation, Creas, Fondo Bolsa Social', 'Bages, Iris Ventures, Barlon Capital', 'Iris Ventures, Barlon Capital', 'Caixa Capital Risc, Tikeahau Capital, ECapital', 'Caixa Capital Risc', 'Sofinnova Partners, Asabys Partners', 'CDTI, Asabys Partners', 'Asabys Partners', 'Philips Ventures, Red.es, Adara Ventures, Easo Ventures, Fondo Bolsa Social, XTX Ventures, Redseed', 'ADARA VENTURES, EASO VENTURES, SPEEDINVEST', 'EASO VENTURES, PIONEERS VENTURES', 'Invascent', 'Norwest Venture Partners', 'Vorwerk VenturesPlanet A', 'Speedinvest GmbH, All Iron Ventures', 'Clave Capital, Invivo Ventures, Nara Capital, Josep Carreras Leukaemia Research Institute, Center for Technological Development and Innovation', 'Stage 2 Capital, Cusp Capital', 'Finaves, Abac Nest, Velayos, Nacional Re', 'Telegraph Hill Capital', 'Family office', 'P101 Ventures, Atresmedia, JME Ventures, Bynd Venture Capital, Dozen Investments, Drago family', 'Dozen Investments', 'Bstartup, JME Ventures, Sabadell Venture Capital', 'The Crowd Angel', 'Axon Partners Group, Ship2B Ventures, Climentum Capital', 'EIC Accelerator', 'BStartUp10', 'Telegraph Hill Capital, Iberis Capital, Barlon Capital, Finaves, Roch Ventures', 'Asabys Partners, AdBio partners', 'Molten Ventures, Stride.VC, Kieran Flanagan, Alumni Ventures Group', 'Moonfire Ventures and some business angels', 'Ocean Zero', 'All Iron Venturs, Bynd Venture Capital', 'All Iron Ventures, Bynd & small investors', 'One Capital, Fondo Bolsa Social', 'Crowdcube, Fondo Bolsa Social, Social Stock Fund', 'Inveready, CDTI, WA4STEAM, Clave Capital, EIC Fund', 'WA4steam, Clave Capital, Nara Capital, Namarel Ventures', 'Fondo Privado Saudí', 'Seaya, Felipe Navio, Juan Urdiales, Shilling VC, Albert Armengol, Sergi Bastardas, ENISAIGNIA', 'n.a.', 'Capital Cell, Startup Capital from ACCIÓ,', 'Family office', 'Inveready, Wayra, JME Ventures, Primal Capital, StratMinds VC, DFG Capital, Farside', 'Inveready, JME, The Data Venture, Outlier Ventures', 'Capital Cell, Cardiolink Group, NextGenerationEU', 'NINA CAPITAL', 'Seaya Ventures', 'Sabadell Venture Capital', 'Seaya Ventures, Encomenda Smart Capital', 'Encomenda Smart Capital', 'Samaipata', 'Elaia PartnersInvereadyBanco SabadellOscar SalazarSabadell Venture Capital', 'Bstartup, Inveready', 'Extension Fund, Sabadell Venture Capital', 'Dozen Investments', 'Cabiedes & Partners, Dozen Investments', 'Cabiedes & Partners, Abac Nest', 'Cabiedes & Partners', 'n.a.', 'n.a.', 'Crowdcube', 'Medex Partners, Darpaufarma', 'Bstartup10, Ship2b ventures, Inclimo, Climate tech fund', 'Enion Venture Partners, Inclimo climate Tech Fund, La Vida es Chula Family Office', 'n.a.', 'La Vida es Chula Family Office', 'Institut Català de Finançes (ICF)', 'n.a.', 'n.a.', '-', 'BSTARTUP', 'EIC ACCELERATOR, FUNDACIÓN BOTÍN, BSTARTUP', 'EUROPEAN INNOVATION COUNCIL', 'EUROPEAN INNOVATION COUNCIL', 'BStartUp10, Fundacion Botin', 'Nekko Capital', 'B Heroes, Indico Capital Partners, Pitchdrive, Secways', 'DraperB1', 'DraperB1', 'DraperB1, Cafur, Serra Inmobiliaria, Organ, Sisquell Grup, BCN-Tradis i Novadmin Property Management and business angels', 'Breega, David Geisen, 4Founders Capital', 'Speedinvest, Expa, Antler, Shine capital, APX Ventures', 'Barca Innovation Hub', 'Andreas Mihalovits, Rene De Jong, Tom Horsey', 'Easo Ventures', 'EASO VENTURES, Economistes BAN, She1K, AccelCrow', 'SHE1K', 'n/d', 'EUREKA Network Projects, Genesis Biomed, Fundacion Botin', 'Scale Lab Andorra, Dozen Investments', 'n.a.', 'ENISA, CDTI', 'Clave Capital', 'Oryon Universal, Sevenzonic Ventures', 'Oryon Universal', 'Oryon Universal', 'Bolsa Social, Avancsa', 'Crowdcube', 'BAGI', 'Demium, Asterius', 'Esade Alumni & other small investors', 'Optate, 5GVentures, NAE Global', 'Banco Sabadell, 4Founders Capital, Ocean', 'n/d', 'Vermú', 'Banco Sabadell, Marta Antunez, Fondo Bolsa Social, Edurne de Oteiza', 'Big Idea Ventures', 'NSN Ventures', '-', 'Startupxplore, Krishnan Menon, Guillem Segarra', 'Business angels, mutual funds and the American accelerator Startupbootcamp', 'BStartUp10, KOMM Investment, LLYC Venturing', 'Startupxplore, Fondo Bolsa Social, Archipelago Next', 'SeedRocket, Startupxplore, StartLabs, Archipelago Next', 'n.d.', 'David Tomás, Yago Arbeloa, Jose Carlos Cortizo Pere', 'Red Arbor, Bcombinator, Backfund', 'Startup Explore', 'ENISA', 'Crowdcube', 'InvereadyBanco SabadellSevenzonic Ventures', 'Galgo Medical', 'n.a.', 'SeedRocket', 'Prous Institute for Biomedical Research, Inveready, CDTI', 'Inveready, CDTI, David Prous, Josep Prous', 'LLYC Venturing', 'n.a.', 'n.a.', 'Lanzame Capital, Draper B1', 'Startupxplore', 'ENISA', 'n.a.', 'Startup Explore', 'Grow Ventures', 'Platanus Ventures', 'Startup Wise Guys', 'n.a.', 'Enric Flix, Microfusa', 'Axon Partners Group, EIT InonEnergy, COREangels Climate', 'Scaleup Spain Network', 'Newchip', 'EIC Fund', 'Grow Ventures, Namarel Ventures, Inveniam Group', 'Hackquarters', 'Supply Chain Ventures', 'Tom Singh, Development Bank of Wales, Repsol Energy Ventures', 'n.a.', 'Nekko Capital', 'Archipélago Next, Socios Inversores', 'Carlos Blanco', 'n.a.', 'n.a.', 'Acelerar, Kima Venture, sBpifrance, Xavier Niel, Eurazeo', 'Acelerar, Kima Ventures, Primero, Xavier Niel', 'Private Investors', 'Advent International', 'Oakley capital, Adara Ventures, Acurio Ventures', 'n.a.', 'Eicher Motors Limited', 'GEM Digital', 'Bonsai Partners, Inveready, Tikehau Capital, JME Ventures, 10x, Aldea Ventures, Crossbeam Venture Partners', 'Bonsai Partners, JME Ventures, 10x, VIKO GROUP, Aldea Ventures, Crossbeam Venture Partners', 'DN Capital, Frog Capital, Seaya Ventures, Institut Català de Finances (ICF), A/O Proptech, Aldea Ventures, Banco Santander', 'Seaya Ventures, Torch Capital, DN Capital, Aldea Ventures i Cathay Capital', 'TORCH CAPITAL, DN CAPITAL, SEAYA VENTURES, CATHAY CAPITAL', 'TORCH CAPITAL, DN CAPITAL, SEAYA VENTURES, CATHAY CAPITAL', 'Seaya Ventures', 'GRUP GODÓ', 'Eight Roads, Chalfen Ventures, Point9, Otium, Backed VC', 'Point Nine', 'n.a.', 'Otium Capital, Guillaume Rostand , Business Angels', 'Giuseppe Zocco, Seaya Ventures, Redalpine, Breega, Foundamental, A/O Proptech, Aldea Ventures', 'Giuseppe Zocco, Foundamental, A/O Proptech, Cultivate capital', 'Didac Lee, Javier Rubio', 'Addition VC, Talis Capital, Speedinvest, Amino Collective, BoxOne Ventures', 'Talis Capital, Speedinvest, Box One Ventures, Chan Zuckerberg Initiative', 'n.a.', 'Thomas Meyer, Barlon Capital', 'Earlybird Venture Capital, Target Global, Adara Ventures, 4Founders Capital', 'Runa capital, Y Combinator, WndrCo, Village Global, Business angels', 'ALBERT ARMENGOL, LANAI PARTNERS, REUS CAPITAL PARTNERS, SEEDROCKET 4FOUNDERS CAPITAL', 'Seaya Ventures, Y Combinator,Force, Over Mass Capital, Cathay Innovation, Rebel Fund', 'Financière Saint James', 'Wayra, Zone2boost, Play & Plug', 'Caixa Capital Risc, CDTI, CG Health Ventures, Asabys Partners, Endra', 'ASABYS PARTNERS, CAIXA CAPITAL RISC, SABADELL VENTURE CAPITAL, SMARTECH CAPITAL', 'UNDISCLOSED PRIVATE INVESTORS, ROTHENBERG VENTURES MANAGEMENT COMPANY LLC', 'Google, SET Ventures, EIT InnoEnergy, Microsoft Climate Innovation Fund', 'SET Ventures', 'Marc Mora, Manel Vallet, Mercè Girbau, Jaume Alsina other business angels', 'Small investors', 'Small investors', 'IRIS Ventures', 'Elaia Partners, Crane Venture Partners', 'Deep Tech Seed', 'Sixthirty Ventures', 'Atresmesdia, Mundi Ventures, Inderhabs Investments', 'Mundi Ventures, Inderhabs Investments, Grupo Godo', 'Soller Invest', 'The Crowd Angel, IESE business school, Inderhabs Investments, Grupo Godo, Lluis Bonell', 'AlephDCGDistributed GlobalNorth Island VenturesMorningstar Ventures', 'Inveready, CDTI, Sociedad General de Aguas de Barcelona', 'Nauta Capital, Athos Capital, Aldea Ventures, Torsa Capital', 'Athos Capital, Nauta Capital', 'Athos capital', 'Business angels', 'n.a.', 'EIC Fund', 'i&i Biotech Fund', 'Italian Angels for Growth, AVANTECA Partners, Nanolinvest', 'CDTI, Decelera, Clave Capital, Puertos Del Estado, Tech Transfer Agrifood', 'GLOBAL OMNIUM', 'Nauta Capital, 4Founders Capital, Zone2boost, Angels, Marina de Empresas', 'Itnig, 4Founders Capital business angel', 'Josep Maria Tarragó David Vilanova', 'n.a', 'Superhero Capital, Andreas Mihalovits, Fernando Herrera, Trind Ventures, Lasse Laaksonen, Best Nights VC, Alessandro Fracassi', 'UNDISCLOSED PRIVATE INVESTORS', 'Barlon Capital II', 'Seligrat, René de Jong', 'ChromaWay', 'Banc Sabadell, Marc Gasol, Fons Borsa Social', 'Ter Stegen', 'creas, Open Value Foundation', 'Dozen Investments', 'Cabiedes & Partners, Seedrocket, 4founders capital', 'EIC Fund', 'Mott MacDonald Ventures, Scale Lab Andorra, Cemex Ventures', 'The Collider', 'Manuel Mates Garcia, We Are Grit, Josep Navajo', 'Family office', 'Zamit Capital', 'Gaingels, BITKRAFT Ventures', 'Traction', 'Lanzame Capital, Abac Nest, Josep Casas, Miguel Sanz Sanchez, Esteban Humet, David Casellas', 'LUMO LABS', 'Columbus Venture Partners', 'Advent France Biotechnology, Invivo Capital and Takeda Ventures', 'Tensor Ventures', 'Tensor Ventures, Archipielago Next, Forex, Levels Up Ventures', 'SOCIOSINVERSORES', 'Antai Venture, Oryon Universal', 'Bonsai Partners, Inveready, Nuclio Venture Builder', 'n.a.', 'n.a.', 'n.a.', 'TRUMPF Venture, Bullnet Capital, Demium Capital, TechVision Capital', 'Pere Valles, Sacha Michaud, Oscar Pierre, Marcos Alves, Rene De Jong, Carlota Pi, Albert Ferrer, Dacid Palau', 'Capital Cell', 'Cabiedes & Partners, Scale Lab and The Valley VC', 'Business angels', 'Y Combinator', 'n.a', 'n.a.', 'Planeta Junior, Antai Venture Builder, Bonsai Venture Capital, Atresmedia Hub Factory', 'Antai Venture Builder, Bonsai Venture Capital, Atresmedia Hub Factory', 'Indigo Capital Partners, Newtopia VC', 'Castiventures', 'EUROPEAN INNOVATION COUNCIL', 'EUROPEAN INNOVATION COUNCIL', 'n.a', 'Josep Malvehy', 'Enzo Ventures', 'Inveniam, WA4STEAM, Blue Goose Capital', 'n.a.', 'n.a.', 'n.a.', 'Inversors privats', 'Fi Group', 'n.a', 'n.a', 'family office', 'FI Group', 'n.a.', 'Play Ventures, Definance Capital, Kyros Ventures, DAOMaker, Peech Capital', 'N Ventures 1 Incubació FCRE', 'Makensense, Fondo Bolsa Social, DACSA', 'Encomenda Smart Capital, Ship2b', 'Albert Ribera, François Derbaix, Ruben Ferreiro, David Tomás, Bonsai Venture Capital', 'Bcombinator', 'Bcombinator', 'n.a.', nan, 'nVentures, Castiventures', 'Esade Ban', 'BAGI, Economistes BAN, Ship2B Ventures, Lavanda Ventures', 'Capital Cell', 'José María Camí, Mond Inver Futur', 'Ufounders', 'Mango StartUp Studio', 'Thacap, Draper B1, LevelsUp i Alma', 'Iñaki Ecenarro, Bewa7er, Andres Bou, Carlos Blanco, Albert Armengol, Bernat Ripoll, Javi Fondevila', 'EconomistesBan', 'Ona Capital', 'Bcombinator, Business Angels', 'Brain VC Fund, Grow Venture Partners, Iterem', 'GoHub', 'EASO Ventures, Ocean Flow, GPM, Manent Ventures', 'Demium Capital, Inveready, Parlem Telecom', 'n.a.', 'Demium Capital', 'Demium Capital', 'n/d', 'Demium', 'n.a.', 'B Capital Group, Bcombinator', 'EIT Clima-KIC', 'EIT Climate-KIC', 'Karel Janecek', 'EIT Health EV', 'Nina Capital', 'EQUITY4GOOD, ESADE BAN, ECONOMISTESBAN.', 'Telefonica Digital, Wayra', 'DAOMaker', 'n.a.', 'Mision Gate', '4Founders Capital', 'Antai Ventures', 'Crowdcube']\n"
     ]
    }
   ],
   "source": [
    "pd.set_option('display.max_colwidth', None)\n",
    "print(df['Investors'].tolist())\n"
   ]
  },
  {
   "cell_type": "code",
   "execution_count": null,
   "id": "e3596083",
   "metadata": {},
   "outputs": [],
   "source": [
    "all_investors = []\n",
    "\n",
    "for group in df['Investors'].dropna().tolist():\n",
    "    splitted = [inv.strip() for inv in group.split(',')]\n",
    "    all_investors.extend(splitted)\n",
    "\n",
    "investor_series = pd.Series(all_investors)\n",
    "\n",
    "# Comptar freqüències\n",
    "freq_table = investor_series.value_counts().reset_index()\n",
    "\n",
    "# Renombrar columnes\n",
    "freq_table.columns = ['Investor', 'Frequency']\n",
    "\n",
    "# Mostrar la taula\n",
    "print(freq_table)"
   ]
  },
  {
   "cell_type": "code",
   "execution_count": null,
   "id": "44a10972",
   "metadata": {},
   "outputs": [],
   "source": [
    "import matplotlib.pyplot as plt\n",
    "\n",
    "# Suposem que tens aquesta taula:\n",
    "# freq_table.columns = ['Investor', 'Frequency']\n",
    "\n",
    "plt.figure(figsize=(8, 5))\n",
    "plt.hist(freq_table['Frequency'], bins=range(1, freq_table['Frequency'].max() + 2), edgecolor='black')\n",
    "plt.title('Histograma de Freqüència dels Inversors')\n",
    "plt.xlabel('Nombre de vegades que un inversor apareix')\n",
    "plt.ylabel('Nombre d\\'inversors')\n",
    "plt.xticks(range(1, freq_table['Frequency'].max() + 1))\n",
    "plt.grid(axis='y', linestyle='--', alpha=0.7)\n",
    "plt.tight_layout()\n",
    "plt.show()\n"
   ]
  },
  {
   "cell_type": "code",
   "execution_count": 321,
   "id": "de9d1e78",
   "metadata": {},
   "outputs": [],
   "source": [
    "#De moment no faig la columna investors perquè hi ha molts pocs que es repeteixen i encara haig de pensar com fer per saber si són persones o no"
   ]
  },
  {
   "cell_type": "markdown",
   "id": "8c8fa21d",
   "metadata": {},
   "source": [
    "5. Date"
   ]
  },
  {
   "cell_type": "code",
   "execution_count": 322,
   "id": "ea97db94",
   "metadata": {},
   "outputs": [],
   "source": [
    "df.Date = df['capital_prev'].str.extract(r'\\((.*?)\\)')"
   ]
  },
  {
   "cell_type": "code",
   "execution_count": 323,
   "id": "715c3cc5",
   "metadata": {},
   "outputs": [],
   "source": [
    "df = df.drop(columns=['capital_prev'])"
   ]
  },
  {
   "cell_type": "code",
   "execution_count": null,
   "id": "3a77bc30",
   "metadata": {},
   "outputs": [],
   "source": [
    "df"
   ]
  },
  {
   "cell_type": "code",
   "execution_count": null,
   "id": "215ac2a8",
   "metadata": {},
   "outputs": [],
   "source": [
    "df[\"Mes Inversion\"] = [mes.split(\" \")[0] for mes in df[\"Date\"]]\n",
    "df[\"Year Inversion\"] = [mes.split(\" \")[1] for mes in df[\"Date\"]]\n",
    "df\n",
    "## Eliminar variable Date"
   ]
  },
  {
   "cell_type": "markdown",
   "id": "b3561bae",
   "metadata": {},
   "source": [
    "6. Address"
   ]
  },
  {
   "cell_type": "markdown",
   "id": "3ab8dbeb",
   "metadata": {},
   "source": [
    "Sacamos las coordenadas a partir de la dirección"
   ]
  },
  {
   "cell_type": "code",
   "execution_count": null,
   "id": "2ae38403",
   "metadata": {},
   "outputs": [],
   "source": [
    "df.Address"
   ]
  },
  {
   "cell_type": "code",
   "execution_count": 119,
   "id": "8e5bb84c",
   "metadata": {},
   "outputs": [],
   "source": [
    "def limpiar_direccion(dir_raw):\n",
    "    dir_limpia = dir_raw\n",
    "    \n",
    "    # Elimina paréntesis y su contenido\n",
    "    dir_limpia = re.sub(r\"\\(.*?\\)\", \"\", dir_limpia)\n",
    "    \n",
    "    # Elimina referencias tipo P., Pta., Planta, Puerta, Loc, Sector, Sobreático, Num, Tienda\n",
    "    dir_limpia = re.sub(r\"\\b(P\\. |Pta\\.?|Planta|Puerta|Loc|Sector|Sobreático|Num|Tienda)\\b\\.?\\s*\\d*\\w*\", \"\", dir_limpia, flags=re.IGNORECASE)\n",
    "    \n",
    "    # Elimina referencias tipo P., Pta., Planta, Puerta, Loc, Sector, Sobreático, Num, Tienda\n",
    "    dir_limpia = re.sub(r\"C/\", \"Carrer\", dir_limpia, flags=re.IGNORECASE)\n",
    "    dir_limpia = re.sub(r\"Urbanizacion\", \"Urbanizacio\", dir_limpia, flags=re.IGNORECASE)\n",
    "    dir_limpia = re.sub(r\"Rbla\", \"Rambla\", dir_limpia, flags=re.IGNORECASE)\n",
    "    dir_limpia = re.sub(r\"Plaza\", \"Plaça\", dir_limpia, flags=re.IGNORECASE)\n",
    "    dir_limpia = re.sub(r\"Pasaje\", \"Passatge\", dir_limpia, flags=re.IGNORECASE)\n",
    "    dir_limpia = re.sub(r\"Paseig\", \"Passeig\", dir_limpia, flags=re.IGNORECASE)\n",
    "    \n",
    "    # Elimina códigos postales (5 dígitos)\n",
    "    dir_limpia = re.sub(r\"\\b\\d{5}\\b\", \"\", dir_limpia)\n",
    "    \n",
    "    # Elimina comas innecesarias y múltiples espacios\n",
    "    dir_limpia = re.sub(r\",\", \"\", dir_limpia)\n",
    "    dir_limpia = re.sub(r\"\\s+\", \" \", dir_limpia)\n",
    "    \n",
    "    # Limpieza final de espacios\n",
    "    dir_limpia = dir_limpia.strip()\n",
    "    \n",
    "    return dir_limpia"
   ]
  },
  {
   "cell_type": "code",
   "execution_count": 120,
   "id": "3c54f2d5",
   "metadata": {},
   "outputs": [],
   "source": [
    "from geopy.geocoders import Nominatim\n",
    "from geopy.exc import GeocoderTimedOut\n",
    "import time\n",
    "\n",
    "# Inicializa el geolocalizador\n",
    "geolocator = Nominatim(user_agent=\"GetLoc\")\n",
    "\n",
    "# Función segura para geocodificar\n",
    "def safe_geocode(direccion):\n",
    "    try:\n",
    "        location = geolocator.geocode(direccion, timeout=10)\n",
    "        if location:\n",
    "            latituds = location.latitude\n",
    "            longituds = location.longitude\n",
    "        else:\n",
    "            print(\"No se encontró la dirección.\")\n",
    "            latituds = np.nan\n",
    "            longituds = np.nan\n",
    "    except GeocoderTimedOut:\n",
    "        print(\"Timeout — intentando de nuevo...\")\n",
    "        time.sleep(1)\n",
    "        return safe_geocode(direccion)\n",
    "    except Exception as e:\n",
    "        print(\"Error:\", e)\n",
    "    return (latituds, longituds)"
   ]
  },
  {
   "cell_type": "code",
   "execution_count": 121,
   "id": "49506a72",
   "metadata": {},
   "outputs": [],
   "source": [
    "direcciones = [re.sub(\"Calle\", \"Carrer\", direc) for direc in df[\"Address\"]]"
   ]
  },
  {
   "cell_type": "code",
   "execution_count": null,
   "id": "8b779924",
   "metadata": {},
   "outputs": [],
   "source": [
    "direcciones_limpias = [limpiar_direccion(d) for d in direcciones]\n",
    "direcciones_limpias"
   ]
  },
  {
   "cell_type": "code",
   "execution_count": null,
   "id": "924494af",
   "metadata": {},
   "outputs": [],
   "source": [
    "# Llama a la función con tu dirección\n",
    "latituds = [safe_geocode(dir)[0] for dir in direcciones]\n"
   ]
  },
  {
   "cell_type": "code",
   "execution_count": null,
   "id": "3676fc66",
   "metadata": {},
   "outputs": [],
   "source": [
    "longituds = [safe_geocode(dir)[1] for dir in direcciones]"
   ]
  },
  {
   "cell_type": "code",
   "execution_count": null,
   "id": "99f3b43c",
   "metadata": {},
   "outputs": [],
   "source": [
    "direcciones"
   ]
  },
  {
   "cell_type": "code",
   "execution_count": null,
   "id": "4fd633a4",
   "metadata": {},
   "outputs": [],
   "source": [
    "print(pd.DataFrame({'latituds': latituds,'longituds': longituds}).iloc[151:200])"
   ]
  },
  {
   "cell_type": "markdown",
   "id": "9aa90907",
   "metadata": {},
   "source": [
    "7. Industries"
   ]
  },
  {
   "cell_type": "code",
   "execution_count": null,
   "id": "865557e5",
   "metadata": {},
   "outputs": [],
   "source": [
    "# Elimina salts de línia, tabulacions i espais extra\n",
    "df['Industries'] = df['Industries'].astype(str) \\\n",
    "    .str.replace(r'[\\r\\n\\t]', '', regex=True) \\\n",
    "    .str.replace(r'\\s{2,}', ' ', regex=True) \\\n",
    "    .str.strip()"
   ]
  },
  {
   "cell_type": "code",
   "execution_count": null,
   "id": "5880bf2e",
   "metadata": {},
   "outputs": [],
   "source": [
    "# Inicialitzar llista buida\n",
    "all_industries = []\n",
    "\n",
    "# Iterar per cada fila\n",
    "for item in df['Industries'].dropna():\n",
    "    industries = [i.strip() for i in item.split(',')]\n",
    "    all_industries.extend(industries)\n",
    "\n",
    "industries_series = pd.Series(all_industries)\n",
    "freq_table = industries_series.value_counts().reset_index()\n",
    "freq_table.columns = ['Industry', 'Frequency']\n",
    "Industries = freq_table.Industry\n",
    "print(freq_table.Industry)\n",
    "\n",
    "#Veiem que només hi ha 24 industries, podem fer columnes binàries per a cada indústria"
   ]
  },
  {
   "cell_type": "code",
   "execution_count": 327,
   "id": "a5d86ea3",
   "metadata": {},
   "outputs": [],
   "source": [
    "Ind = df[[\"Name\",\"Industries\"]]\n",
    "M = pd.DataFrame(columns = [Industries])\n",
    "for i in range(len(Ind)):\n",
    "    a = Ind.Industries[i]\n",
    "    a_clean = [i.strip() for i in a.split(',')]\n",
    "    binary_vector = [1 if industry in a_clean else 0 for industry in Industries]\n",
    "    M.loc[i] = binary_vector"
   ]
  },
  {
   "cell_type": "code",
   "execution_count": 328,
   "id": "0b6db705",
   "metadata": {},
   "outputs": [],
   "source": [
    "df_combinat = pd.concat([Ind, M], axis=1)"
   ]
  },
  {
   "cell_type": "code",
   "execution_count": null,
   "id": "8b7064d7",
   "metadata": {},
   "outputs": [],
   "source": [
    "#DF = pd.concat([df, M], axis=1)\n",
    "#df=DF\n",
    "\n",
    "#En el cas de voler ajuntar les matrius"
   ]
  },
  {
   "cell_type": "markdown",
   "id": "62fb3979",
   "metadata": {},
   "source": [
    "8. Technologies"
   ]
  },
  {
   "cell_type": "code",
   "execution_count": null,
   "id": "4560e251",
   "metadata": {},
   "outputs": [],
   "source": [
    "# Elimina salts de línia, tabulacions i espais extra\n",
    "df['Technologies'] = df['Technologies'].astype(str) \\\n",
    "    .str.replace(r'[\\r\\n\\t]', '', regex=True) \\\n",
    "    .str.replace(r'\\s{2,}', ' ', regex=True) \\\n",
    "    .str.strip()\n",
    "df.Technologies"
   ]
  },
  {
   "cell_type": "code",
   "execution_count": null,
   "id": "4bb8578a",
   "metadata": {},
   "outputs": [],
   "source": [
    "# Inicialitzar llista buida\n",
    "all_technologies = []\n",
    "\n",
    "# Iterar per cada fila\n",
    "for item in df['Technologies'].dropna():\n",
    "    technologies = [i.strip() for i in item.split(',')]\n",
    "    all_technologies.extend(technologies)\n",
    "\n",
    "# Crear una sèrie i taula de freqüències\n",
    "technologies_series = pd.Series(all_technologies)\n",
    "tech_freq_table = technologies_series.value_counts().reset_index()\n",
    "tech_freq_table.columns = ['Technology', 'Frequency']\n",
    "\n",
    "# Guardem la llista única de tecnologies\n",
    "Technologies = tech_freq_table.Technology\n",
    "print(tech_freq_table.Technology)\n",
    "\n",
    "# Ara ja pots fer columnes binàries per cada tecnologia"
   ]
  },
  {
   "cell_type": "code",
   "execution_count": 331,
   "id": "cdcd0ed7",
   "metadata": {},
   "outputs": [],
   "source": [
    "Tech = df[[\"Name\",\"Technologies\"]]\n",
    "T = pd.DataFrame(columns = [Technologies])\n",
    "for i in range(len(Tech)):\n",
    "    a = Tech.Technologies[i]\n",
    "    a_clean = [i.strip() for i in a.split(',')]\n",
    "    binary_vector = [1 if technology in a_clean else 0 for technology in Technologies]\n",
    "    T.loc[i] = binary_vector"
   ]
  },
  {
   "cell_type": "code",
   "execution_count": 332,
   "id": "6d879a6b",
   "metadata": {},
   "outputs": [],
   "source": [
    "df_combinat = pd.concat([Tech, T], axis=1)"
   ]
  },
  {
   "cell_type": "code",
   "execution_count": null,
   "id": "d2a742fa",
   "metadata": {},
   "outputs": [],
   "source": [
    "#DF = pd.concat([df, M], axis=1)\n",
    "#df=DF\n",
    "\n",
    "#En el cas de voler ajuntar les matrius"
   ]
  },
  {
   "cell_type": "markdown",
   "id": "a918b743",
   "metadata": {},
   "source": [
    "9. Categoria"
   ]
  },
  {
   "cell_type": "code",
   "execution_count": 333,
   "id": "8f311f1a",
   "metadata": {},
   "outputs": [],
   "source": [
    "df = df.drop(\"Category\", axis = 1)"
   ]
  },
  {
   "cell_type": "markdown",
   "id": "3fa5c1ba",
   "metadata": {},
   "source": [
    "9. Other fields"
   ]
  },
  {
   "cell_type": "code",
   "execution_count": null,
   "id": "e4f463d2",
   "metadata": {},
   "outputs": [],
   "source": [
    "# Elimina salts de línia, tabulacions i espais extra\n",
    "df['Other fields'] = df['Other fields'].astype(str) \\\n",
    "    .str.replace(r'[\\r\\n\\t]', '', regex=True) \\\n",
    "    .str.replace(r'\\s{2,}', ' ', regex=True) \\\n",
    "    .str.strip()\n",
    "df[\"Other fields\"]"
   ]
  },
  {
   "cell_type": "code",
   "execution_count": null,
   "id": "38cdd4c1",
   "metadata": {},
   "outputs": [],
   "source": [
    "# Inicialitzar llista buida\n",
    "all_fields = []\n",
    "\n",
    "# Iterar per cada fila\n",
    "for item in df['Other fields'].dropna():\n",
    "    fields = [i.strip() for i in item.split(',')]\n",
    "    all_fields.extend(fields)\n",
    "\n",
    "# Crear una sèrie i taula de freqüències\n",
    "fields_series = pd.Series(all_fields)\n",
    "fields_freq_table = fields_series.value_counts().reset_index()\n",
    "fields_freq_table.columns = ['Field', 'Frequency']\n",
    "\n",
    "# Guardem la llista única de camps\n",
    "OtherFields = fields_freq_table.Field\n",
    "print(fields_freq_table)"
   ]
  },
  {
   "cell_type": "code",
   "execution_count": 337,
   "id": "cb134af7",
   "metadata": {},
   "outputs": [],
   "source": [
    "OFields = df[[\"Name\",\"Other fields\"]]\n",
    "OF = pd.DataFrame(columns = [OtherFields])\n",
    "for i in range(len(OFields)):\n",
    "    a = OFields[\"Other fields\"][i]\n",
    "    a_clean = [i.strip() for i in a.split(',')]\n",
    "    binary_vector = [1 if otherfield in a_clean else 0 for otherfield in OtherFields]\n",
    "    OF.loc[i] = binary_vector"
   ]
  },
  {
   "cell_type": "code",
   "execution_count": 338,
   "id": "c08412d0",
   "metadata": {},
   "outputs": [],
   "source": [
    "df_combinat = pd.concat([OFields, OF], axis=1)"
   ]
  },
  {
   "cell_type": "code",
   "execution_count": null,
   "id": "0bb6b15c",
   "metadata": {},
   "outputs": [],
   "source": [
    "#DF = pd.concat([df, OF], axis=1)\n",
    "#df=DF\n",
    "\n",
    "#En el cas de voler ajuntar les matrius"
   ]
  },
  {
   "cell_type": "markdown",
   "id": "55372406",
   "metadata": {},
   "source": [
    "10. Funding stage"
   ]
  },
  {
   "cell_type": "code",
   "execution_count": null,
   "id": "243bdf1f",
   "metadata": {},
   "outputs": [],
   "source": [
    "#No te sentit aquesta variable ja que ja tenim la quantitat exacte\n",
    "df = df.drop(\"Funding stage\", axis = 1)"
   ]
  },
  {
   "cell_type": "markdown",
   "id": "53756d5c",
   "metadata": {},
   "source": [
    "11. Founded"
   ]
  },
  {
   "cell_type": "code",
   "execution_count": null,
   "id": "d90efa42",
   "metadata": {},
   "outputs": [],
   "source": [
    "df[\"Founded\"] = df[\"Founded\"].astype(float)\n",
    "df_clean = df.dropna(subset=['Founded'])\n",
    "\n",
    "plt.figure(figsize=(10, 6))\n",
    "plt.hist(df_clean['Founded'], bins=20, edgecolor='black')\n",
    "plt.title('Histograma de l\\'any de fundació')\n",
    "plt.xlabel('Any de fundació')\n",
    "plt.ylabel('Nombre de startups')\n",
    "plt.grid(axis='y', linestyle='--', alpha=0.7)\n",
    "plt.show()"
   ]
  },
  {
   "cell_type": "markdown",
   "id": "302a85b5",
   "metadata": {},
   "source": [
    "12. Employees"
   ]
  },
  {
   "cell_type": "code",
   "execution_count": 355,
   "id": "1b82e25a",
   "metadata": {},
   "outputs": [
    {
     "data": {
      "text/plain": [
       "Employees\n",
       "From 1 to 5      120\n",
       "From 6 to 10     114\n",
       "From 11 to 20    111\n",
       "From 21 to 50    111\n",
       "Undisclosed       96\n",
       "More than 50      71\n",
       "Name: count, dtype: int64"
      ]
     },
     "execution_count": 355,
     "metadata": {},
     "output_type": "execute_result"
    }
   ],
   "source": [
    "df.Employees.value_counts()"
   ]
  },
  {
   "cell_type": "markdown",
   "id": "5b619c64",
   "metadata": {},
   "source": [
    "13. Business model"
   ]
  },
  {
   "cell_type": "code",
   "execution_count": null,
   "id": "f57f547e",
   "metadata": {},
   "outputs": [],
   "source": [
    "# Elimina salts de línia, tabulacions i espais extra\n",
    "df['Business model'] = df['Business model'].astype(str) \\\n",
    "    .str.replace(r'[\\r\\n\\t]', '', regex=True) \\\n",
    "    .str.replace(r'\\s{2,}', ' ', regex=True) \\\n",
    "    .str.strip()\n",
    "df[\"Business model\"]"
   ]
  },
  {
   "cell_type": "code",
   "execution_count": null,
   "id": "ae215072",
   "metadata": {},
   "outputs": [],
   "source": [
    "# Inicialitzar llista buida\n",
    "all_models = []\n",
    "\n",
    "# Iterar per cada fila\n",
    "for item in df['Business model'].dropna():\n",
    "    models = [i.strip() for i in item.split(',')]\n",
    "    all_models.extend(models)\n",
    "\n",
    "# Crear una sèrie i taula de freqüències\n",
    "models_series = pd.Series(all_models)\n",
    "models_freq_table = models_series.value_counts().reset_index()\n",
    "models_freq_table.columns = ['Business model', 'Frequency']\n",
    "\n",
    "# Guardar la llista única de models\n",
    "BusinessModels = models_freq_table['Business model']\n",
    "\n",
    "print(models_freq_table)"
   ]
  },
  {
   "cell_type": "code",
   "execution_count": 363,
   "id": "90e7b851",
   "metadata": {},
   "outputs": [],
   "source": [
    "BModels = df[[\"Name\",\"Business model\"]]\n",
    "BM = pd.DataFrame(columns = [BusinessModels])\n",
    "for i in range(len(BModels)):\n",
    "    a = BModels[\"Business model\"][i]\n",
    "    a_clean = [i.strip() for i in a.split(',')]\n",
    "    binary_vector = [1 if businessmodel in a_clean else 0 for businessmodel in BusinessModels]\n",
    "    BM.loc[i] = binary_vector"
   ]
  },
  {
   "cell_type": "code",
   "execution_count": null,
   "id": "adaa88dd",
   "metadata": {},
   "outputs": [],
   "source": [
    "print(models_freq_table)"
   ]
  },
  {
   "cell_type": "code",
   "execution_count": null,
   "id": "9162a2ba",
   "metadata": {},
   "outputs": [],
   "source": [
    "sums = BM.sum()\n",
    "print(sums)"
   ]
  },
  {
   "cell_type": "code",
   "execution_count": null,
   "id": "2d027718",
   "metadata": {},
   "outputs": [],
   "source": [
    "df_combinat = pd.concat([BModels, BM], axis=1)"
   ]
  },
  {
   "cell_type": "code",
   "execution_count": null,
   "id": "5e64b763",
   "metadata": {},
   "outputs": [],
   "source": [
    "#DF = pd.concat([df, BM], axis=1)\n",
    "#df=DF\n",
    "\n",
    "#En el cas de voler ajuntar les matrius"
   ]
  },
  {
   "cell_type": "markdown",
   "id": "3af18b82",
   "metadata": {},
   "source": [
    "14. Target"
   ]
  },
  {
   "cell_type": "code",
   "execution_count": null,
   "id": "d1db9a0c",
   "metadata": {},
   "outputs": [],
   "source": [
    "df['Target'] = df['Target'].astype(str) \\\n",
    "    .str.replace(r'[\\r\\n\\t]', '', regex=True) \\\n",
    "    .str.replace(r'\\s{2,}', ' ', regex=True) \\\n",
    "    .str.strip()\n",
    "df[\"Target\"]"
   ]
  },
  {
   "cell_type": "code",
   "execution_count": 368,
   "id": "74444fce",
   "metadata": {},
   "outputs": [
    {
     "data": {
      "text/plain": [
       "Target\n",
       "Business              246\n",
       "-                     171\n",
       "Business, Consumer    133\n",
       "Consumer               73\n",
       "Name: count, dtype: int64"
      ]
     },
     "execution_count": 368,
     "metadata": {},
     "output_type": "execute_result"
    }
   ],
   "source": [
    "df[\"Target\"].value_counts()"
   ]
  },
  {
   "cell_type": "markdown",
   "id": "24993cec",
   "metadata": {},
   "source": [
    "15. Spinoff participants"
   ]
  },
  {
   "cell_type": "code",
   "execution_count": 394,
   "id": "4f0504b6",
   "metadata": {},
   "outputs": [],
   "source": [
    "z = df[\"Spinoff participants\"].fillna(\"\").astype(str) \\\n",
    "    .str.replace(r'\\(.*?\\)', '', regex=True) \\\n",
    "    .str.replace(r'\\n', '', regex=True) \\\n",
    "    .str.replace(';', ',', regex=False) \\\n",
    "    .str.strip()"
   ]
  },
  {
   "cell_type": "code",
   "execution_count": 395,
   "id": "8d7e575c",
   "metadata": {},
   "outputs": [
    {
     "data": {
      "text/plain": [
       "Spinoff participants\n",
       "None / Not a spinoff                                                            517\n",
       "University                                                                       20\n",
       "CERCA Centre                                                                     14\n",
       "Technological Centre                                                             11\n",
       "CERCA Centre , ICREA Centre                                                       9\n",
       "Company /Other Centre                                                             9\n",
       "CERCA Centre , University                                                         7\n",
       "CERCA Centre , ICREA Centre, University , University - Hospital                   5\n",
       "ICREA Centre , University, Company /Other Centre                                  3\n",
       "University , University - Hospital                                                3\n",
       "CERCA Centre , Technological Centre                                               3\n",
       "ICREA Centre                                                                      3\n",
       "CERCA Centre )                                                                    2\n",
       "Technological Centre , University                                                 2\n",
       "Technological Centre, University                                                  2\n",
       "CERCA Centre , University - Hospital                                              2\n",
       "CERCA Centre , I3PT Fundació Institut d’Investigació i Innovació Parc Tauli)      1\n",
       "CERCA Centre , CSIC Centre, University )                                          1\n",
       "CERCA Centre , CSIC Centre                                                        1\n",
       "TECNIO Centre ), University ), University - Hospital                              1\n",
       "CERCA Centre , CSIC Centre , Technological Centre                                 1\n",
       "CERCA Centre, Technological Centre , University - Hospital )                      1\n",
       "University - Hospital                                                             1\n",
       "CERCA Centre , ICREA Centre , University                                          1\n",
       "CERCA Centre ), Company /Other Centre                                             1\n",
       "Company /Other Centre )                                                           1\n",
       "CSIC Centre                                                                       1\n",
       "Name: count, dtype: int64"
      ]
     },
     "execution_count": 395,
     "metadata": {},
     "output_type": "execute_result"
    }
   ],
   "source": [
    "z.value_counts()"
   ]
  },
  {
   "cell_type": "code",
   "execution_count": 381,
   "id": "4076a90e",
   "metadata": {},
   "outputs": [
    {
     "data": {
      "text/plain": [
       "Spinoff participants\n",
       "None / Not a spinoff                                                                                                                                                                  517\n",
       "CERCA Centre (CVC)                                                                                                                                                                      5\n",
       "CERCA Centre (ICN2); \\nICREA Centre                                                                                                                                                     5\n",
       "CERCA Centre (IDIBAPS); \\nICREA Centre; \\nUniversity (UPF, UPC); \\nUniversity - Hospital (Hospital Clínic)                                                                              5\n",
       "University (Universitat Rovira i Virgili)                                                                                                                                               4\n",
       "University (UPC)                                                                                                                                                                        4\n",
       "University (Fundació CIM - UPC Barcelona)                                                                                                                                               4\n",
       "Company /Other Centre                                                                                                                                                                   4\n",
       "University (UPC); \\nUniversity - Hospital                                                                                                                                               3\n",
       "Technological Centre (BSC)                                                                                                                                                              3\n",
       "CERCA Centre (CRG); \\nUniversity (UPF)                                                                                                                                                  3\n",
       "ICREA Centre (ICREA); \\nUniversity; \\nCompany /Other Centre (IRB Barcelona)                                                                                                             3\n",
       "Company /Other Centre (No participation of public centers in our capital shares)                                                                                                        3\n",
       "University (Universitat Pompeu Fabra)                                                                                                                                                   2\n",
       "CERCA Centre (CRG, VHIO); \\nTechnological Centre (ICO)                                                                                                                                  2\n",
       "CERCA Centre (Germans Trias i Pujol Research Institute); \\nUniversity - Hospital (Germans Trias i Pujo.)                                                                                2\n",
       "Technological Centre (DCA)                                                                                                                                                              2\n",
       "CERCA Centre (VHIR)                                                                                                                                                                     2\n",
       "Technological Centre (BSC); \\nUniversity (Imperial College of London)                                                                                                                   2\n",
       "Technological Centre (BIOCAT)                                                                                                                                                           2\n",
       "Technological Centre; \\nUniversity (UPC)                                                                                                                                                2\n",
       "CERCA Centre (IBEC); \\nICREA Centre (ICREA Centre)                                                                                                                                      2\n",
       "University (EADA Business School)                                                                                                                                                       2\n",
       "CERCA Centre (Centre de Visió per Computador)                                                                                                                                           2\n",
       "ICREA Centre (BSC-CNS)                                                                                                                                                                  2\n",
       "Technological Centre (Biocat)                                                                                                                                                           2\n",
       "University (UPF)                                                                                                                                                                        2\n",
       "CERCA Centre (IRSantPau); \\nUniversity (UAB)                                                                                                                                            2\n",
       "Company /Other Centre (Prous Institute for Biomedical Research)                                                                                                                         2\n",
       "CERCA Centre (Centre de Regulació Genòmica (CRG))                                                                                                                                       2\n",
       "CERCA Centre (IGTP); \\nUniversity (UB, UAB)                                                                                                                                             2\n",
       "CERCA Centre (IRB, IDIBAPS); \\nCSIC Centre; \\nUniversity (Universitat de Barcelona (UB))                                                                                                1\n",
       "CERCA Centre (IDIBAPS)                                                                                                                                                                  1\n",
       "CERCA Centre; \\nTechnological Centre (BIOCAT); \\nUniversity - Hospital (Germans Trias i Pujol Research Institute (IGTP))                                                                1\n",
       "Technological Centre (ICFO)                                                                                                                                                             1\n",
       "CERCA Centre (Fundació Hospital Universitari Vall d’Hebron - Institut de Recerca (VHIR); I3PT Fundació Institut d’Investigació i Innovació Parc Tauli)                                  1\n",
       "University (URV)                                                                                                                                                                        1\n",
       "Technological Centre (Biocat, Eurecat)                                                                                                                                                  1\n",
       "CERCA Centre (CERCA Centre); \\nCSIC Centre (CSIC Centre)                                                                                                                                1\n",
       "CERCA Centre (IBEC); \\nCSIC Centre (IBEC); \\nTechnological Centre (IBEC)                                                                                                                1\n",
       "ICREA Centre (UPC)                                                                                                                                                                      1\n",
       "University - Hospital (Vall d'Hebron)                                                                                                                                                   1\n",
       "CERCA Centre (CRG)                                                                                                                                                                      1\n",
       "TECNIO Centre (CREB (Centre de Recera en Enginyeria Biomèdica)); \\nUniversity (Universitat Politècnica de Catalunya (UPC)); \\nUniversity - Hospital (Hospital Clínic de Barcelona)      1\n",
       "CERCA Centre (Instituto de Investigación contra la Leucemia Josep Carreras); \\nICREA Centre                                                                                             1\n",
       "CERCA Centre (ICIQ)                                                                                                                                                                     1\n",
       "CERCA Centre (VHIO); \\nICREA Centre (ICREA); \\nUniversity (UB)                                                                                                                          1\n",
       "CSIC Centre                                                                                                                                                                             1\n",
       "CERCA Centre (Vall d'Hebron Research Institute (VHIR)); \\nCompany /Other Centre (Dr Rafael Simó Canonge, Dra Cristina Hernández Pascual, Carla Maté Goldar)                             1\n",
       "University (University of Girona)                                                                                                                                                       1\n",
       "Company /Other Centre (Institut d'Investigació Sanitària Illes Balears (IdISBa))                                                                                                        1\n",
       "CERCA Centre (ICFO); \\nICREA Centre                                                                                                                                                     1\n",
       "CERCA Centre (IDIBELL, ICO); \\nTechnological Centre (Biocat)                                                                                                                            1\n",
       "CERCA Centre (IDIBELL)                                                                                                                                                                  1\n",
       "CERCA Centre (I3PT)                                                                                                                                                                     1\n",
       "Name: count, dtype: int64"
      ]
     },
     "execution_count": 381,
     "metadata": {},
     "output_type": "execute_result"
    }
   ],
   "source": [
    "df[\"Spinoff participants\"].value_counts()"
   ]
  },
  {
   "cell_type": "markdown",
   "id": "ad1f41be",
   "metadata": {},
   "source": [
    "Para la variable capita_prev contrastar con las variables Investor y Date si son iguales sino se deberá de trabajar para tener 2 variables independientes. "
   ]
  },
  {
   "cell_type": "code",
   "execution_count": null,
   "id": "a492ab7f",
   "metadata": {},
   "outputs": [],
   "source": [
    "df = df.drop(columns=[\"URL\", \"Date\"])"
   ]
  },
  {
   "cell_type": "code",
   "execution_count": null,
   "id": "fdc6656c",
   "metadata": {},
   "outputs": [],
   "source": []
  },
  {
   "cell_type": "markdown",
   "id": "0badd7fb",
   "metadata": {},
   "source": [
    "## Guardamos la base de datos "
   ]
  },
  {
   "cell_type": "code",
   "execution_count": 39,
   "id": "e261a97f",
   "metadata": {},
   "outputs": [],
   "source": [
    "df.to_pickle(path=\"data/datos_preprocesados.pkl\")\n",
    "df.to_csv(path_or_buf=\"data/datos_preprocesados.csv\")"
   ]
  },
  {
   "cell_type": "markdown",
   "id": "955ebf34",
   "metadata": {},
   "source": []
  }
 ],
 "metadata": {
  "kernelspec": {
   "display_name": "Python 3",
   "language": "python",
   "name": "python3"
  },
  "language_info": {
   "codemirror_mode": {
    "name": "ipython",
    "version": 3
   },
   "file_extension": ".py",
   "mimetype": "text/x-python",
   "name": "python",
   "nbconvert_exporter": "python",
   "pygments_lexer": "ipython3",
   "version": "3.13.3"
  }
 },
 "nbformat": 4,
 "nbformat_minor": 5
}
