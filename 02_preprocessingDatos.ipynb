{
 "cells": [
  {
   "cell_type": "code",
   "execution_count": 3,
   "id": "319c1505",
   "metadata": {},
   "outputs": [],
   "source": [
    "import pandas as pd\n",
    "import numpy as np\n",
    "import pickle\n",
    "import re"
   ]
  },
  {
   "cell_type": "code",
   "execution_count": 35,
   "id": "d3577554",
   "metadata": {},
   "outputs": [],
   "source": [
    "# 2. Carreguem dades\n",
    "df = pd.read_csv(\"data/datosFinal.csv\")"
   ]
  },
  {
   "cell_type": "code",
   "execution_count": null,
   "id": "9d19a488",
   "metadata": {},
   "outputs": [],
   "source": [
    "df"
   ]
  },
  {
   "cell_type": "markdown",
   "id": "d2b1fbe0",
   "metadata": {},
   "source": [
    "### Preprocessing"
   ]
  },
  {
   "cell_type": "markdown",
   "id": "6bb06eb6",
   "metadata": {},
   "source": [
    "1. Company"
   ]
  },
  {
   "cell_type": "code",
   "execution_count": 36,
   "id": "13025723",
   "metadata": {},
   "outputs": [
    {
     "data": {
      "text/plain": [
       "es_sociedad_limitada\n",
       "Sí    544\n",
       "No     79\n",
       "Name: count, dtype: int64"
      ]
     },
     "execution_count": 36,
     "metadata": {},
     "output_type": "execute_result"
    }
   ],
   "source": [
    "condicio = (\n",
    "    df[\"Company\"].str.strip().str.upper().str.endswith(\"S.L\") |\n",
    "    df[\"Company\"].str.strip().str.upper().str.endswith(\"SL\") |\n",
    "    df[\"Company\"].str.strip().str.upper().str.endswith(\"S.L.\") |\n",
    "    df[\"Company\"].str.upper().str.contains(\"SOCIEDAD LIMITADA\")\n",
    ")\n",
    "\n",
    "df['es_sociedad_limitada'] = np.where(condicio, 'Sí', 'No')\n",
    "\n",
    "df.es_sociedad_limitada.value_counts()"
   ]
  },
  {
   "cell_type": "markdown",
   "id": "2f0464ea",
   "metadata": {},
   "source": [
    "2. Names"
   ]
  },
  {
   "cell_type": "code",
   "execution_count": 32,
   "id": "9a185705",
   "metadata": {},
   "outputs": [
    {
     "data": {
      "text/plain": [
       "True    623\n",
       "Name: count, dtype: int64"
      ]
     },
     "execution_count": 32,
     "metadata": {},
     "output_type": "execute_result"
    }
   ],
   "source": [
    "(df[\"Company\"] == df[\"Name\"]).value_counts()"
   ]
  },
  {
   "cell_type": "markdown",
   "id": "e66bb624",
   "metadata": {},
   "source": [
    "3. Category"
   ]
  },
  {
   "cell_type": "code",
   "execution_count": null,
   "id": "fdc6656c",
   "metadata": {},
   "outputs": [],
   "source": []
  },
  {
   "cell_type": "markdown",
   "id": "240c486a",
   "metadata": {},
   "source": [
    "3. Investment"
   ]
  },
  {
   "cell_type": "code",
   "execution_count": 51,
   "id": "41bc72d8",
   "metadata": {},
   "outputs": [
    {
     "name": "stdout",
     "output_type": "stream",
     "text": [
      "Index(['Startup', 'Company', 'Category', 'Investment', 'Investors', 'Date',\n",
      "       'URL', 'Name', 'Description', 'Address', 'Industries', 'Technologies',\n",
      "       'Other fields', 'Funding stage', 'Founded', 'Employees',\n",
      "       'Business model', 'Target', 'Spinoff participants', 'capital_prev',\n",
      "       'investors', 'es_sociedad_limitada'],\n",
      "      dtype='object')\n",
      "0        190M € (JANUARY 2025)\n",
      "1         95M € (JANUARY 2024)\n",
      "2      241.9M € (JANUARY 2022)\n",
      "3          132M € (APRIL 2021)\n",
      "4            53M € (JULY 2019)\n",
      "                ...           \n",
      "618                 (MAY 2022)\n",
      "619            (DECEMBER 2020)\n",
      "620               (MARCH 2022)\n",
      "621             (JANUARY 2022)\n",
      "622             (JANUARY 2022)\n",
      "Name: capital_prev, Length: 623, dtype: object\n",
      "0        190\n",
      "1         95\n",
      "2      241.9\n",
      "3        132\n",
      "4         53\n",
      "       ...  \n",
      "618      NaN\n",
      "619      NaN\n",
      "620      NaN\n",
      "621      NaN\n",
      "622      NaN\n",
      "Name: 0, Length: 623, dtype: object\n"
     ]
    }
   ],
   "source": [
    "print(df.columns)\n",
    "print(df.capital_prev)\n",
    "print((\n",
    "    df[\"capital_prev\"]\n",
    "    .astype(str)\n",
    "    .str.extract(r'([\\d.,]+M\\s?€)')[0]   # agafa només la part numèrica amb M i €\n",
    "    .str.replace(\"€\", \"\", regex=False)\n",
    "    .str.replace(\"M\", \"\", regex=False)\n",
    "    .str.replace(\"m\", \"\", regex=False)\n",
    "    .str.replace(\",\", \".\", regex=False)       # canvia coma per punt decimal\n",
    "    .str.replace(\" \", \"\", regex=False)        # elimina espais\n",
    ")\n",
    ")"
   ]
  },
  {
   "cell_type": "code",
   "execution_count": 56,
   "id": "d3b9cc14",
   "metadata": {},
   "outputs": [
    {
     "data": {
      "text/plain": [
       "0      190.0\n",
       "1       95.0\n",
       "2      241.9\n",
       "3      132.0\n",
       "4       53.0\n",
       "       ...  \n",
       "618      NaN\n",
       "619      NaN\n",
       "620      NaN\n",
       "621      NaN\n",
       "622      NaN\n",
       "Name: Investment, Length: 623, dtype: float64"
      ]
     },
     "execution_count": 56,
     "metadata": {},
     "output_type": "execute_result"
    }
   ],
   "source": [
    "df[\"Investment\"] = (\n",
    "    df[\"capital_prev\"]\n",
    "    .astype(str)\n",
    "    .str.extract(r'([\\d.,]+M\\s?€)')[0]   # agafa només la part numèrica amb M i €\n",
    "    .str.replace(\"€\", \"\", regex=False)\n",
    "    .str.replace(\"M\", \"\", regex=False)\n",
    "    .str.replace(\"m\", \"\", regex=False)\n",
    "    .str.replace(\",\", \".\", regex=False)       # canvia coma per punt decimal\n",
    "    .str.replace(\" \", \"\", regex=False)        # elimina espais\n",
    ")\n",
    "\n",
    "# 2. Conversió a numèric (float), posant NaN si hi ha errors\n",
    "df[\"Investment\"] = pd.to_numeric(df[\"Investment\"], errors=\"coerce\")\n",
    "\n",
    "# 3. Substitueix 0 per NaN\n",
    "df[\"Investment\"] = df[\"Investment\"].replace(0.0, np.nan)\n",
    "\n",
    "# per tenir 0 en comptes de nan\n",
    "#df[\"Investment\"] = df[\"Investment\"].fillna(0)\n",
    "\n",
    "\n",
    "df.Investment"
   ]
  },
  {
   "cell_type": "markdown",
   "id": "0ddb3637",
   "metadata": {},
   "source": [
    "4. Investor"
   ]
  },
  {
   "cell_type": "code",
   "execution_count": null,
   "id": "ff4edd6f",
   "metadata": {},
   "outputs": [],
   "source": [
    "df[\"Investors\"].value_counts()"
   ]
  },
  {
   "cell_type": "code",
   "execution_count": null,
   "id": "e3596083",
   "metadata": {},
   "outputs": [],
   "source": [
    "## OJO AQUÍ: SE ha de trabajar con la unión de los dos lados y con las dos variables. Posteriormente\n",
    "## eliminar una variable. \n",
    "\n",
    "df.loc[(df[\"Investors\"] != df[\"investors\"]), [\"Investors\", \"investors\"]]\n"
   ]
  },
  {
   "cell_type": "markdown",
   "id": "8c8fa21d",
   "metadata": {},
   "source": [
    "5. Date"
   ]
  },
  {
   "cell_type": "code",
   "execution_count": 38,
   "id": "215ac2a8",
   "metadata": {},
   "outputs": [],
   "source": [
    "df[\"Mes Inversion\"] = [mes.split(\" \")[0] for mes in df[\"Date\"]]\n",
    "df[\"Year Inversion\"] = [mes.split(\" \")[1] for mes in df[\"Date\"]]\n",
    "\n",
    "## Eliminar variable Date"
   ]
  },
  {
   "cell_type": "markdown",
   "id": "b3561bae",
   "metadata": {},
   "source": [
    "6. Address"
   ]
  },
  {
   "cell_type": "markdown",
   "id": "3ab8dbeb",
   "metadata": {},
   "source": [
    "Sacamos las coordenadas a partir de la dirección"
   ]
  },
  {
   "cell_type": "code",
   "execution_count": 97,
   "id": "8e5bb84c",
   "metadata": {},
   "outputs": [],
   "source": [
    "def limpiar_direccion(dir_raw):\n",
    "    dir_limpia = dir_raw\n",
    "    \n",
    "    # Elimina paréntesis y su contenido\n",
    "    dir_limpia = re.sub(r\"\\(.*?\\)\", \"\", dir_limpia)\n",
    "    \n",
    "    # Elimina referencias tipo P., Pta., Planta, Puerta, Loc, Sector, Sobreático, Num, Tienda\n",
    "    dir_limpia = re.sub(r\"\\b(P\\. |Pta\\.?|Planta|Puerta|Loc|Sector|Sobreático|Num|Tienda)\\b\\.?\\s*\\d*\\w*\", \"\", dir_limpia, flags=re.IGNORECASE)\n",
    "    \n",
    "    # Elimina referencias tipo P., Pta., Planta, Puerta, Loc, Sector, Sobreático, Num, Tienda\n",
    "    dir_limpia = re.sub(r\"C/\", \"Carrer\", dir_limpia, flags=re.IGNORECASE)\n",
    "    dir_limpia = re.sub(r\"Urbanizacion\", \"Urbanizacio\", dir_limpia, flags=re.IGNORECASE)\n",
    "    dir_limpia = re.sub(r\"Rbla\", \"Rambla\", dir_limpia, flags=re.IGNORECASE)\n",
    "    dir_limpia = re.sub(r\"Plaza\", \"Plaça\", dir_limpia, flags=re.IGNORECASE)\n",
    "    dir_limpia = re.sub(r\"Pasaje\", \"Passatge\", dir_limpia, flags=re.IGNORECASE)\n",
    "    dir_limpia = re.sub(r\"Paseig\", \"Passeig\", dir_limpia, flags=re.IGNORECASE)\n",
    "    \n",
    "    # Elimina códigos postales (5 dígitos)\n",
    "    dir_limpia = re.sub(r\"\\b\\d{5}\\b\", \"\", dir_limpia)\n",
    "    \n",
    "    # Elimina comas innecesarias y múltiples espacios\n",
    "    dir_limpia = re.sub(r\",\", \"\", dir_limpia)\n",
    "    dir_limpia = re.sub(r\"\\s+\", \" \", dir_limpia)\n",
    "    \n",
    "    # Limpieza final de espacios\n",
    "    dir_limpia = dir_limpia.strip()\n",
    "    \n",
    "    return dir_limpia"
   ]
  },
  {
   "cell_type": "code",
   "execution_count": 63,
   "id": "3c54f2d5",
   "metadata": {},
   "outputs": [],
   "source": [
    "from geopy.geocoders import Nominatim\n",
    "from geopy.exc import GeocoderTimedOut\n",
    "import time\n",
    "\n",
    "# Inicializa el geolocalizador\n",
    "geolocator = Nominatim(user_agent=\"GetLoc\")\n",
    "\n",
    "# Función segura para geocodificar\n",
    "def safe_geocode(direccion):\n",
    "    try:\n",
    "        location = geolocator.geocode(direccion, timeout=10)\n",
    "        if location:\n",
    "            latituds = location.latitude\n",
    "            longituds = location.longitude\n",
    "        else:\n",
    "            print(\"No se encontró la dirección.\")\n",
    "            latituds = np.nan\n",
    "            longituds = np.nan\n",
    "    except GeocoderTimedOut:\n",
    "        print(\"Timeout — intentando de nuevo...\")\n",
    "        time.sleep(1)\n",
    "        return safe_geocode(direccion)\n",
    "    except Exception as e:\n",
    "        print(\"Error:\", e)\n",
    "    return (latituds, longituds)"
   ]
  },
  {
   "cell_type": "code",
   "execution_count": 86,
   "id": "49506a72",
   "metadata": {},
   "outputs": [],
   "source": [
    "direcciones = [re.sub(\"Calle\", \"Carrer\", direc) for direc in df[\"Address\"]]"
   ]
  },
  {
   "cell_type": "code",
   "execution_count": null,
   "id": "8b779924",
   "metadata": {},
   "outputs": [],
   "source": [
    "direcciones_limpias = [limpiar_direccion(d) for d in direcciones]\n",
    "direcciones_limpias"
   ]
  },
  {
   "cell_type": "code",
   "execution_count": null,
   "id": "924494af",
   "metadata": {},
   "outputs": [],
   "source": [
    "# Llama a la función con tu dirección\n",
    "latituds = [safe_geocode(dir)[0] for dir in direcciones]"
   ]
  },
  {
   "cell_type": "code",
   "execution_count": null,
   "id": "99f3b43c",
   "metadata": {},
   "outputs": [],
   "source": [
    "direcciones"
   ]
  },
  {
   "cell_type": "code",
   "execution_count": null,
   "id": "4fd633a4",
   "metadata": {},
   "outputs": [],
   "source": [
    "latituds"
   ]
  },
  {
   "cell_type": "markdown",
   "id": "9aa90907",
   "metadata": {},
   "source": [
    "5. Industries"
   ]
  },
  {
   "cell_type": "code",
   "execution_count": null,
   "id": "aa93e4f6",
   "metadata": {},
   "outputs": [],
   "source": [
    "df[\"Industries\"].value_counts()"
   ]
  },
  {
   "cell_type": "code",
   "execution_count": null,
   "id": "230d44d3",
   "metadata": {},
   "outputs": [
    {
     "data": {
      "application/vnd.microsoft.datawrangler.viewer.v0+json": {
       "columns": [
        {
         "name": "index",
         "rawType": "int64",
         "type": "integer"
        },
        {
         "name": " \r\n\t\t                \t\t\r\n\t\t                \t\t\tAgriculture",
         "rawType": "int64",
         "type": "integer"
        },
        {
         "name": " \r\n\t\t                \t\t\r\n\t\t                \t\t\tBusiness Services & Software",
         "rawType": "int64",
         "type": "integer"
        },
        {
         "name": " \r\n\t\t                \t\t\r\n\t\t                \t\t\tE-commerce & Marketplaces",
         "rawType": "int64",
         "type": "integer"
        },
        {
         "name": " \r\n\t\t                \t\t\r\n\t\t                \t\t\tFinancing",
         "rawType": "int64",
         "type": "integer"
        },
        {
         "name": " \r\n\t\t                \t\t\r\n\t\t                \t\t\tFood",
         "rawType": "int64",
         "type": "integer"
        },
        {
         "name": " \r\n\t\t                \t\t\r\n\t\t                \t\t\tHealthtech",
         "rawType": "int64",
         "type": "integer"
        },
        {
         "name": " \r\n\t\t                \t\t\r\n\t\t                \t\t\tICT & Mobile",
         "rawType": "int64",
         "type": "integer"
        },
        {
         "name": " \r\n\t\t                \t\t\r\n\t\t                \t\t\tLegaltech",
         "rawType": "int64",
         "type": "integer"
        },
        {
         "name": " \r\n\t\t                \t\t\r\n\t\t                \t\t\tLogistic Tech",
         "rawType": "int64",
         "type": "integer"
        },
        {
         "name": "Business Services & Software",
         "rawType": "int64",
         "type": "integer"
        },
        {
         "name": "Community & Social network",
         "rawType": "int64",
         "type": "integer"
        },
        {
         "name": "E-commerce & Marketplaces",
         "rawType": "int64",
         "type": "integer"
        },
        {
         "name": "Fashion & Design",
         "rawType": "int64",
         "type": "integer"
        },
        {
         "name": "Food",
         "rawType": "int64",
         "type": "integer"
        },
        {
         "name": "Hardware",
         "rawType": "int64",
         "type": "integer"
        },
        {
         "name": "Healthtech",
         "rawType": "int64",
         "type": "integer"
        },
        {
         "name": "Proptech",
         "rawType": "int64",
         "type": "integer"
        },
        {
         "name": "Sports",
         "rawType": "int64",
         "type": "integer"
        },
        {
         "name": "Traveltech & Leisure",
         "rawType": "int64",
         "type": "integer"
        }
       ],
       "ref": "bf3ad7a9-556b-4000-8742-304f7a862c39",
       "rows": [
        [
         "0",
         "0",
         "0",
         "0",
         "1",
         "0",
         "0",
         "0",
         "0",
         "0",
         "0",
         "0",
         "0",
         "0",
         "0",
         "0",
         "0",
         "1",
         "0",
         "0"
        ],
        [
         "1",
         "0",
         "0",
         "0",
         "0",
         "0",
         "0",
         "0",
         "0",
         "0",
         "0",
         "0",
         "0",
         "1",
         "0",
         "0",
         "0",
         "0",
         "0",
         "0"
        ],
        [
         "2",
         "0",
         "0",
         "0",
         "0",
         "0",
         "0",
         "0",
         "1",
         "0",
         "1",
         "0",
         "0",
         "0",
         "0",
         "0",
         "0",
         "0",
         "0",
         "0"
        ],
        [
         "3",
         "0",
         "1",
         "0",
         "0",
         "0",
         "0",
         "0",
         "0",
         "0",
         "0",
         "0",
         "0",
         "0",
         "0",
         "0",
         "1",
         "0",
         "0",
         "0"
        ],
        [
         "4",
         "0",
         "0",
         "0",
         "0",
         "0",
         "0",
         "0",
         "0",
         "0",
         "0",
         "0",
         "0",
         "0",
         "0",
         "1",
         "0",
         "0",
         "0",
         "0"
        ],
        [
         "5",
         "0",
         "0",
         "0",
         "0",
         "0",
         "0",
         "0",
         "0",
         "0",
         "0",
         "0",
         "0",
         "0",
         "0",
         "1",
         "0",
         "0",
         "0",
         "0"
        ],
        [
         "6",
         "0",
         "0",
         "0",
         "0",
         "0",
         "0",
         "0",
         "0",
         "0",
         "0",
         "1",
         "0",
         "0",
         "0",
         "0",
         "0",
         "0",
         "0",
         "0"
        ],
        [
         "7",
         "0",
         "0",
         "0",
         "0",
         "0",
         "0",
         "0",
         "0",
         "0",
         "0",
         "0",
         "0",
         "0",
         "0",
         "0",
         "1",
         "0",
         "0",
         "0"
        ],
        [
         "8",
         "0",
         "0",
         "0",
         "0",
         "0",
         "0",
         "0",
         "0",
         "0",
         "0",
         "0",
         "0",
         "0",
         "0",
         "0",
         "1",
         "0",
         "0",
         "0"
        ],
        [
         "9",
         "0",
         "0",
         "0",
         "1",
         "0",
         "0",
         "0",
         "0",
         "0",
         "1",
         "0",
         "0",
         "0",
         "0",
         "0",
         "0",
         "0",
         "0",
         "0"
        ],
        [
         "10",
         "0",
         "0",
         "0",
         "0",
         "0",
         "0",
         "1",
         "0",
         "0",
         "1",
         "0",
         "0",
         "0",
         "0",
         "0",
         "0",
         "0",
         "0",
         "0"
        ],
        [
         "11",
         "1",
         "0",
         "0",
         "0",
         "0",
         "0",
         "0",
         "0",
         "0",
         "0",
         "0",
         "0",
         "0",
         "1",
         "0",
         "0",
         "0",
         "0",
         "0"
        ],
        [
         "12",
         "0",
         "0",
         "0",
         "0",
         "0",
         "0",
         "0",
         "0",
         "0",
         "0",
         "0",
         "0",
         "0",
         "0",
         "1",
         "0",
         "0",
         "0",
         "0"
        ],
        [
         "13",
         "0",
         "0",
         "0",
         "0",
         "0",
         "0",
         "0",
         "0",
         "0",
         "0",
         "0",
         "0",
         "0",
         "0",
         "1",
         "0",
         "0",
         "0",
         "0"
        ],
        [
         "14",
         "0",
         "0",
         "0",
         "0",
         "1",
         "0",
         "0",
         "0",
         "0",
         "0",
         "0",
         "1",
         "0",
         "0",
         "0",
         "0",
         "0",
         "0",
         "0"
        ],
        [
         "15",
         "0",
         "0",
         "1",
         "0",
         "0",
         "0",
         "0",
         "0",
         "0",
         "0",
         "0",
         "0",
         "0",
         "0",
         "0",
         "0",
         "0",
         "0",
         "1"
        ],
        [
         "16",
         "0",
         "0",
         "0",
         "0",
         "0",
         "0",
         "0",
         "0",
         "1",
         "0",
         "0",
         "0",
         "0",
         "1",
         "0",
         "0",
         "0",
         "0",
         "0"
        ],
        [
         "17",
         "0",
         "0",
         "0",
         "0",
         "0",
         "0",
         "0",
         "0",
         "0",
         "0",
         "0",
         "0",
         "1",
         "0",
         "0",
         "0",
         "0",
         "0",
         "0"
        ],
        [
         "18",
         "0",
         "0",
         "0",
         "0",
         "0",
         "0",
         "0",
         "0",
         "0",
         "0",
         "0",
         "0",
         "1",
         "0",
         "0",
         "0",
         "0",
         "0",
         "0"
        ],
        [
         "19",
         "0",
         "0",
         "0",
         "0",
         "0",
         "0",
         "0",
         "0",
         "0",
         "0",
         "0",
         "0",
         "1",
         "0",
         "0",
         "0",
         "0",
         "0",
         "0"
        ],
        [
         "20",
         "0",
         "0",
         "0",
         "0",
         "0",
         "0",
         "0",
         "0",
         "0",
         "0",
         "0",
         "0",
         "1",
         "0",
         "0",
         "0",
         "0",
         "0",
         "0"
        ],
        [
         "21",
         "0",
         "0",
         "0",
         "0",
         "0",
         "1",
         "0",
         "0",
         "0",
         "0",
         "0",
         "0",
         "0",
         "0",
         "0",
         "0",
         "0",
         "1",
         "0"
        ],
        [
         "22",
         "0",
         "0",
         "0",
         "0",
         "0",
         "1",
         "0",
         "0",
         "0",
         "0",
         "0",
         "0",
         "0",
         "0",
         "0",
         "0",
         "0",
         "1",
         "0"
        ],
        [
         "23",
         "0",
         "0",
         "0",
         "1",
         "0",
         "0",
         "0",
         "0",
         "0",
         "0",
         "0",
         "0",
         "0",
         "0",
         "0",
         "0",
         "1",
         "0",
         "0"
        ],
        [
         "24",
         "0",
         "0",
         "0",
         "0",
         "0",
         "0",
         "0",
         "0",
         "0",
         "0",
         "0",
         "0",
         "1",
         "0",
         "0",
         "0",
         "0",
         "0",
         "0"
        ],
        [
         "25",
         "0",
         "0",
         "0",
         "0",
         "0",
         "0",
         "0",
         "1",
         "0",
         "1",
         "0",
         "0",
         "0",
         "0",
         "0",
         "0",
         "0",
         "0",
         "0"
        ],
        [
         "26",
         "0",
         "1",
         "0",
         "0",
         "0",
         "0",
         "0",
         "0",
         "0",
         "0",
         "0",
         "0",
         "0",
         "0",
         "0",
         "1",
         "0",
         "0",
         "0"
        ],
        [
         "27",
         "0",
         "0",
         "0",
         "0",
         "0",
         "0",
         "0",
         "0",
         "0",
         "0",
         "0",
         "0",
         "0",
         "0",
         "1",
         "0",
         "0",
         "0",
         "0"
        ],
        [
         "28",
         "0",
         "0",
         "0",
         "0",
         "0",
         "0",
         "0",
         "0",
         "0",
         "0",
         "0",
         "0",
         "0",
         "0",
         "1",
         "0",
         "0",
         "0",
         "0"
        ],
        [
         "29",
         "0",
         "0",
         "0",
         "0",
         "0",
         "0",
         "0",
         "0",
         "0",
         "0",
         "1",
         "0",
         "0",
         "0",
         "0",
         "0",
         "0",
         "0",
         "0"
        ],
        [
         "30",
         "0",
         "0",
         "0",
         "0",
         "0",
         "0",
         "0",
         "0",
         "0",
         "0",
         "0",
         "0",
         "0",
         "0",
         "0",
         "1",
         "0",
         "0",
         "0"
        ],
        [
         "31",
         "0",
         "0",
         "0",
         "0",
         "0",
         "0",
         "0",
         "0",
         "0",
         "0",
         "0",
         "0",
         "0",
         "0",
         "0",
         "1",
         "0",
         "0",
         "0"
        ],
        [
         "32",
         "0",
         "0",
         "0",
         "1",
         "0",
         "0",
         "0",
         "0",
         "0",
         "1",
         "0",
         "0",
         "0",
         "0",
         "0",
         "0",
         "0",
         "0",
         "0"
        ],
        [
         "33",
         "0",
         "0",
         "0",
         "0",
         "0",
         "0",
         "1",
         "0",
         "0",
         "1",
         "0",
         "0",
         "0",
         "0",
         "0",
         "0",
         "0",
         "0",
         "0"
        ],
        [
         "34",
         "1",
         "0",
         "0",
         "0",
         "0",
         "0",
         "0",
         "0",
         "0",
         "0",
         "0",
         "0",
         "0",
         "1",
         "0",
         "0",
         "0",
         "0",
         "0"
        ],
        [
         "35",
         "0",
         "0",
         "0",
         "0",
         "0",
         "0",
         "0",
         "0",
         "0",
         "0",
         "0",
         "0",
         "0",
         "0",
         "1",
         "0",
         "0",
         "0",
         "0"
        ],
        [
         "36",
         "0",
         "0",
         "0",
         "0",
         "0",
         "0",
         "0",
         "0",
         "0",
         "0",
         "0",
         "0",
         "0",
         "0",
         "1",
         "0",
         "0",
         "0",
         "0"
        ],
        [
         "37",
         "0",
         "0",
         "0",
         "0",
         "1",
         "0",
         "0",
         "0",
         "0",
         "0",
         "0",
         "1",
         "0",
         "0",
         "0",
         "0",
         "0",
         "0",
         "0"
        ],
        [
         "38",
         "0",
         "0",
         "1",
         "0",
         "0",
         "0",
         "0",
         "0",
         "0",
         "0",
         "0",
         "0",
         "0",
         "0",
         "0",
         "0",
         "0",
         "0",
         "1"
        ],
        [
         "39",
         "0",
         "0",
         "0",
         "0",
         "0",
         "0",
         "0",
         "0",
         "1",
         "0",
         "0",
         "0",
         "0",
         "1",
         "0",
         "0",
         "0",
         "0",
         "0"
        ],
        [
         "40",
         "0",
         "0",
         "0",
         "0",
         "0",
         "0",
         "0",
         "0",
         "0",
         "0",
         "0",
         "0",
         "1",
         "0",
         "0",
         "0",
         "0",
         "0",
         "0"
        ],
        [
         "41",
         "0",
         "0",
         "0",
         "0",
         "0",
         "0",
         "0",
         "0",
         "0",
         "0",
         "0",
         "0",
         "1",
         "0",
         "0",
         "0",
         "0",
         "0",
         "0"
        ],
        [
         "42",
         "0",
         "0",
         "0",
         "0",
         "0",
         "0",
         "0",
         "0",
         "0",
         "0",
         "0",
         "0",
         "1",
         "0",
         "0",
         "0",
         "0",
         "0",
         "0"
        ],
        [
         "43",
         "0",
         "0",
         "0",
         "0",
         "0",
         "0",
         "0",
         "0",
         "0",
         "0",
         "0",
         "0",
         "1",
         "0",
         "0",
         "0",
         "0",
         "0",
         "0"
        ],
        [
         "44",
         "0",
         "0",
         "0",
         "0",
         "0",
         "1",
         "0",
         "0",
         "0",
         "0",
         "0",
         "0",
         "0",
         "0",
         "0",
         "0",
         "0",
         "1",
         "0"
        ],
        [
         "45",
         "0",
         "0",
         "0",
         "0",
         "0",
         "1",
         "0",
         "0",
         "0",
         "0",
         "0",
         "0",
         "0",
         "0",
         "0",
         "0",
         "0",
         "1",
         "0"
        ],
        [
         "46",
         "0",
         "0",
         "0",
         "1",
         "0",
         "0",
         "0",
         "0",
         "0",
         "0",
         "0",
         "0",
         "0",
         "0",
         "0",
         "0",
         "1",
         "0",
         "0"
        ],
        [
         "47",
         "0",
         "0",
         "0",
         "0",
         "0",
         "0",
         "0",
         "0",
         "0",
         "0",
         "0",
         "0",
         "1",
         "0",
         "0",
         "0",
         "0",
         "0",
         "0"
        ],
        [
         "48",
         "0",
         "0",
         "0",
         "0",
         "0",
         "0",
         "0",
         "1",
         "0",
         "1",
         "0",
         "0",
         "0",
         "0",
         "0",
         "0",
         "0",
         "0",
         "0"
        ],
        [
         "49",
         "0",
         "1",
         "0",
         "0",
         "0",
         "0",
         "0",
         "0",
         "0",
         "0",
         "0",
         "0",
         "0",
         "0",
         "0",
         "1",
         "0",
         "0",
         "0"
        ]
       ],
       "shape": {
        "columns": 19,
        "rows": 92
       }
      },
      "text/html": [
       "<div>\n",
       "<style scoped>\n",
       "    .dataframe tbody tr th:only-of-type {\n",
       "        vertical-align: middle;\n",
       "    }\n",
       "\n",
       "    .dataframe tbody tr th {\n",
       "        vertical-align: top;\n",
       "    }\n",
       "\n",
       "    .dataframe thead th {\n",
       "        text-align: right;\n",
       "    }\n",
       "</style>\n",
       "<table border=\"1\" class=\"dataframe\">\n",
       "  <thead>\n",
       "    <tr style=\"text-align: right;\">\n",
       "      <th></th>\n",
       "      <th>\\r\\n\\t\\t                \\t\\t\\r\\n\\t\\t                \\t\\t\\tAgriculture</th>\n",
       "      <th>\\r\\n\\t\\t                \\t\\t\\r\\n\\t\\t                \\t\\t\\tBusiness Services &amp; Software</th>\n",
       "      <th>\\r\\n\\t\\t                \\t\\t\\r\\n\\t\\t                \\t\\t\\tE-commerce &amp; Marketplaces</th>\n",
       "      <th>\\r\\n\\t\\t                \\t\\t\\r\\n\\t\\t                \\t\\t\\tFinancing</th>\n",
       "      <th>\\r\\n\\t\\t                \\t\\t\\r\\n\\t\\t                \\t\\t\\tFood</th>\n",
       "      <th>\\r\\n\\t\\t                \\t\\t\\r\\n\\t\\t                \\t\\t\\tHealthtech</th>\n",
       "      <th>\\r\\n\\t\\t                \\t\\t\\r\\n\\t\\t                \\t\\t\\tICT &amp; Mobile</th>\n",
       "      <th>\\r\\n\\t\\t                \\t\\t\\r\\n\\t\\t                \\t\\t\\tLegaltech</th>\n",
       "      <th>\\r\\n\\t\\t                \\t\\t\\r\\n\\t\\t                \\t\\t\\tLogistic Tech</th>\n",
       "      <th>Business Services &amp; Software</th>\n",
       "      <th>Community &amp; Social network</th>\n",
       "      <th>E-commerce &amp; Marketplaces</th>\n",
       "      <th>Fashion &amp; Design</th>\n",
       "      <th>Food</th>\n",
       "      <th>Hardware</th>\n",
       "      <th>Healthtech</th>\n",
       "      <th>Proptech</th>\n",
       "      <th>Sports</th>\n",
       "      <th>Traveltech &amp; Leisure</th>\n",
       "    </tr>\n",
       "  </thead>\n",
       "  <tbody>\n",
       "    <tr>\n",
       "      <th>0</th>\n",
       "      <td>0</td>\n",
       "      <td>0</td>\n",
       "      <td>0</td>\n",
       "      <td>1</td>\n",
       "      <td>0</td>\n",
       "      <td>0</td>\n",
       "      <td>0</td>\n",
       "      <td>0</td>\n",
       "      <td>0</td>\n",
       "      <td>0</td>\n",
       "      <td>0</td>\n",
       "      <td>0</td>\n",
       "      <td>0</td>\n",
       "      <td>0</td>\n",
       "      <td>0</td>\n",
       "      <td>0</td>\n",
       "      <td>1</td>\n",
       "      <td>0</td>\n",
       "      <td>0</td>\n",
       "    </tr>\n",
       "    <tr>\n",
       "      <th>1</th>\n",
       "      <td>0</td>\n",
       "      <td>0</td>\n",
       "      <td>0</td>\n",
       "      <td>0</td>\n",
       "      <td>0</td>\n",
       "      <td>0</td>\n",
       "      <td>0</td>\n",
       "      <td>0</td>\n",
       "      <td>0</td>\n",
       "      <td>0</td>\n",
       "      <td>0</td>\n",
       "      <td>0</td>\n",
       "      <td>1</td>\n",
       "      <td>0</td>\n",
       "      <td>0</td>\n",
       "      <td>0</td>\n",
       "      <td>0</td>\n",
       "      <td>0</td>\n",
       "      <td>0</td>\n",
       "    </tr>\n",
       "    <tr>\n",
       "      <th>2</th>\n",
       "      <td>0</td>\n",
       "      <td>0</td>\n",
       "      <td>0</td>\n",
       "      <td>0</td>\n",
       "      <td>0</td>\n",
       "      <td>0</td>\n",
       "      <td>0</td>\n",
       "      <td>1</td>\n",
       "      <td>0</td>\n",
       "      <td>1</td>\n",
       "      <td>0</td>\n",
       "      <td>0</td>\n",
       "      <td>0</td>\n",
       "      <td>0</td>\n",
       "      <td>0</td>\n",
       "      <td>0</td>\n",
       "      <td>0</td>\n",
       "      <td>0</td>\n",
       "      <td>0</td>\n",
       "    </tr>\n",
       "    <tr>\n",
       "      <th>3</th>\n",
       "      <td>0</td>\n",
       "      <td>1</td>\n",
       "      <td>0</td>\n",
       "      <td>0</td>\n",
       "      <td>0</td>\n",
       "      <td>0</td>\n",
       "      <td>0</td>\n",
       "      <td>0</td>\n",
       "      <td>0</td>\n",
       "      <td>0</td>\n",
       "      <td>0</td>\n",
       "      <td>0</td>\n",
       "      <td>0</td>\n",
       "      <td>0</td>\n",
       "      <td>0</td>\n",
       "      <td>1</td>\n",
       "      <td>0</td>\n",
       "      <td>0</td>\n",
       "      <td>0</td>\n",
       "    </tr>\n",
       "    <tr>\n",
       "      <th>4</th>\n",
       "      <td>0</td>\n",
       "      <td>0</td>\n",
       "      <td>0</td>\n",
       "      <td>0</td>\n",
       "      <td>0</td>\n",
       "      <td>0</td>\n",
       "      <td>0</td>\n",
       "      <td>0</td>\n",
       "      <td>0</td>\n",
       "      <td>0</td>\n",
       "      <td>0</td>\n",
       "      <td>0</td>\n",
       "      <td>0</td>\n",
       "      <td>0</td>\n",
       "      <td>1</td>\n",
       "      <td>0</td>\n",
       "      <td>0</td>\n",
       "      <td>0</td>\n",
       "      <td>0</td>\n",
       "    </tr>\n",
       "    <tr>\n",
       "      <th>...</th>\n",
       "      <td>...</td>\n",
       "      <td>...</td>\n",
       "      <td>...</td>\n",
       "      <td>...</td>\n",
       "      <td>...</td>\n",
       "      <td>...</td>\n",
       "      <td>...</td>\n",
       "      <td>...</td>\n",
       "      <td>...</td>\n",
       "      <td>...</td>\n",
       "      <td>...</td>\n",
       "      <td>...</td>\n",
       "      <td>...</td>\n",
       "      <td>...</td>\n",
       "      <td>...</td>\n",
       "      <td>...</td>\n",
       "      <td>...</td>\n",
       "      <td>...</td>\n",
       "      <td>...</td>\n",
       "    </tr>\n",
       "    <tr>\n",
       "      <th>87</th>\n",
       "      <td>0</td>\n",
       "      <td>0</td>\n",
       "      <td>0</td>\n",
       "      <td>0</td>\n",
       "      <td>0</td>\n",
       "      <td>0</td>\n",
       "      <td>0</td>\n",
       "      <td>0</td>\n",
       "      <td>0</td>\n",
       "      <td>0</td>\n",
       "      <td>0</td>\n",
       "      <td>0</td>\n",
       "      <td>1</td>\n",
       "      <td>0</td>\n",
       "      <td>0</td>\n",
       "      <td>0</td>\n",
       "      <td>0</td>\n",
       "      <td>0</td>\n",
       "      <td>0</td>\n",
       "    </tr>\n",
       "    <tr>\n",
       "      <th>88</th>\n",
       "      <td>0</td>\n",
       "      <td>0</td>\n",
       "      <td>0</td>\n",
       "      <td>0</td>\n",
       "      <td>0</td>\n",
       "      <td>0</td>\n",
       "      <td>0</td>\n",
       "      <td>0</td>\n",
       "      <td>0</td>\n",
       "      <td>0</td>\n",
       "      <td>0</td>\n",
       "      <td>0</td>\n",
       "      <td>1</td>\n",
       "      <td>0</td>\n",
       "      <td>0</td>\n",
       "      <td>0</td>\n",
       "      <td>0</td>\n",
       "      <td>0</td>\n",
       "      <td>0</td>\n",
       "    </tr>\n",
       "    <tr>\n",
       "      <th>89</th>\n",
       "      <td>0</td>\n",
       "      <td>0</td>\n",
       "      <td>0</td>\n",
       "      <td>0</td>\n",
       "      <td>0</td>\n",
       "      <td>0</td>\n",
       "      <td>0</td>\n",
       "      <td>0</td>\n",
       "      <td>0</td>\n",
       "      <td>0</td>\n",
       "      <td>0</td>\n",
       "      <td>0</td>\n",
       "      <td>1</td>\n",
       "      <td>0</td>\n",
       "      <td>0</td>\n",
       "      <td>0</td>\n",
       "      <td>0</td>\n",
       "      <td>0</td>\n",
       "      <td>0</td>\n",
       "    </tr>\n",
       "    <tr>\n",
       "      <th>90</th>\n",
       "      <td>0</td>\n",
       "      <td>0</td>\n",
       "      <td>0</td>\n",
       "      <td>0</td>\n",
       "      <td>0</td>\n",
       "      <td>1</td>\n",
       "      <td>0</td>\n",
       "      <td>0</td>\n",
       "      <td>0</td>\n",
       "      <td>0</td>\n",
       "      <td>0</td>\n",
       "      <td>0</td>\n",
       "      <td>0</td>\n",
       "      <td>0</td>\n",
       "      <td>0</td>\n",
       "      <td>0</td>\n",
       "      <td>0</td>\n",
       "      <td>1</td>\n",
       "      <td>0</td>\n",
       "    </tr>\n",
       "    <tr>\n",
       "      <th>91</th>\n",
       "      <td>0</td>\n",
       "      <td>0</td>\n",
       "      <td>0</td>\n",
       "      <td>0</td>\n",
       "      <td>0</td>\n",
       "      <td>1</td>\n",
       "      <td>0</td>\n",
       "      <td>0</td>\n",
       "      <td>0</td>\n",
       "      <td>0</td>\n",
       "      <td>0</td>\n",
       "      <td>0</td>\n",
       "      <td>0</td>\n",
       "      <td>0</td>\n",
       "      <td>0</td>\n",
       "      <td>0</td>\n",
       "      <td>0</td>\n",
       "      <td>1</td>\n",
       "      <td>0</td>\n",
       "    </tr>\n",
       "  </tbody>\n",
       "</table>\n",
       "<p>92 rows × 19 columns</p>\n",
       "</div>"
      ],
      "text/plain": [
       "     \\r\\n\\t\\t                \\t\\t\\r\\n\\t\\t                \\t\\t\\tAgriculture  \\\n",
       "0                                                   0                        \n",
       "1                                                   0                        \n",
       "2                                                   0                        \n",
       "3                                                   0                        \n",
       "4                                                   0                        \n",
       "..                                                ...                        \n",
       "87                                                  0                        \n",
       "88                                                  0                        \n",
       "89                                                  0                        \n",
       "90                                                  0                        \n",
       "91                                                  0                        \n",
       "\n",
       "     \\r\\n\\t\\t                \\t\\t\\r\\n\\t\\t                \\t\\t\\tBusiness Services & Software  \\\n",
       "0                                                   0                                         \n",
       "1                                                   0                                         \n",
       "2                                                   0                                         \n",
       "3                                                   1                                         \n",
       "4                                                   0                                         \n",
       "..                                                ...                                         \n",
       "87                                                  0                                         \n",
       "88                                                  0                                         \n",
       "89                                                  0                                         \n",
       "90                                                  0                                         \n",
       "91                                                  0                                         \n",
       "\n",
       "     \\r\\n\\t\\t                \\t\\t\\r\\n\\t\\t                \\t\\t\\tE-commerce & Marketplaces  \\\n",
       "0                                                   0                                      \n",
       "1                                                   0                                      \n",
       "2                                                   0                                      \n",
       "3                                                   0                                      \n",
       "4                                                   0                                      \n",
       "..                                                ...                                      \n",
       "87                                                  0                                      \n",
       "88                                                  0                                      \n",
       "89                                                  0                                      \n",
       "90                                                  0                                      \n",
       "91                                                  0                                      \n",
       "\n",
       "     \\r\\n\\t\\t                \\t\\t\\r\\n\\t\\t                \\t\\t\\tFinancing  \\\n",
       "0                                                   1                      \n",
       "1                                                   0                      \n",
       "2                                                   0                      \n",
       "3                                                   0                      \n",
       "4                                                   0                      \n",
       "..                                                ...                      \n",
       "87                                                  0                      \n",
       "88                                                  0                      \n",
       "89                                                  0                      \n",
       "90                                                  0                      \n",
       "91                                                  0                      \n",
       "\n",
       "     \\r\\n\\t\\t                \\t\\t\\r\\n\\t\\t                \\t\\t\\tFood  \\\n",
       "0                                                   0                 \n",
       "1                                                   0                 \n",
       "2                                                   0                 \n",
       "3                                                   0                 \n",
       "4                                                   0                 \n",
       "..                                                ...                 \n",
       "87                                                  0                 \n",
       "88                                                  0                 \n",
       "89                                                  0                 \n",
       "90                                                  0                 \n",
       "91                                                  0                 \n",
       "\n",
       "     \\r\\n\\t\\t                \\t\\t\\r\\n\\t\\t                \\t\\t\\tHealthtech  \\\n",
       "0                                                   0                       \n",
       "1                                                   0                       \n",
       "2                                                   0                       \n",
       "3                                                   0                       \n",
       "4                                                   0                       \n",
       "..                                                ...                       \n",
       "87                                                  0                       \n",
       "88                                                  0                       \n",
       "89                                                  0                       \n",
       "90                                                  1                       \n",
       "91                                                  1                       \n",
       "\n",
       "     \\r\\n\\t\\t                \\t\\t\\r\\n\\t\\t                \\t\\t\\tICT & Mobile  \\\n",
       "0                                                   0                         \n",
       "1                                                   0                         \n",
       "2                                                   0                         \n",
       "3                                                   0                         \n",
       "4                                                   0                         \n",
       "..                                                ...                         \n",
       "87                                                  0                         \n",
       "88                                                  0                         \n",
       "89                                                  0                         \n",
       "90                                                  0                         \n",
       "91                                                  0                         \n",
       "\n",
       "     \\r\\n\\t\\t                \\t\\t\\r\\n\\t\\t                \\t\\t\\tLegaltech  \\\n",
       "0                                                   0                      \n",
       "1                                                   0                      \n",
       "2                                                   1                      \n",
       "3                                                   0                      \n",
       "4                                                   0                      \n",
       "..                                                ...                      \n",
       "87                                                  0                      \n",
       "88                                                  0                      \n",
       "89                                                  0                      \n",
       "90                                                  0                      \n",
       "91                                                  0                      \n",
       "\n",
       "     \\r\\n\\t\\t                \\t\\t\\r\\n\\t\\t                \\t\\t\\tLogistic Tech  \\\n",
       "0                                                   0                          \n",
       "1                                                   0                          \n",
       "2                                                   0                          \n",
       "3                                                   0                          \n",
       "4                                                   0                          \n",
       "..                                                ...                          \n",
       "87                                                  0                          \n",
       "88                                                  0                          \n",
       "89                                                  0                          \n",
       "90                                                  0                          \n",
       "91                                                  0                          \n",
       "\n",
       "    Business Services & Software  Community & Social network  \\\n",
       "0                              0                           0   \n",
       "1                              0                           0   \n",
       "2                              1                           0   \n",
       "3                              0                           0   \n",
       "4                              0                           0   \n",
       "..                           ...                         ...   \n",
       "87                             0                           0   \n",
       "88                             0                           0   \n",
       "89                             0                           0   \n",
       "90                             0                           0   \n",
       "91                             0                           0   \n",
       "\n",
       "    E-commerce & Marketplaces  Fashion & Design  Food  Hardware  Healthtech  \\\n",
       "0                           0                 0     0         0           0   \n",
       "1                           0                 1     0         0           0   \n",
       "2                           0                 0     0         0           0   \n",
       "3                           0                 0     0         0           1   \n",
       "4                           0                 0     0         1           0   \n",
       "..                        ...               ...   ...       ...         ...   \n",
       "87                          0                 1     0         0           0   \n",
       "88                          0                 1     0         0           0   \n",
       "89                          0                 1     0         0           0   \n",
       "90                          0                 0     0         0           0   \n",
       "91                          0                 0     0         0           0   \n",
       "\n",
       "    Proptech  Sports  Traveltech & Leisure  \n",
       "0          1       0                     0  \n",
       "1          0       0                     0  \n",
       "2          0       0                     0  \n",
       "3          0       0                     0  \n",
       "4          0       0                     0  \n",
       "..       ...     ...                   ...  \n",
       "87         0       0                     0  \n",
       "88         0       0                     0  \n",
       "89         0       0                     0  \n",
       "90         0       1                     0  \n",
       "91         0       1                     0  \n",
       "\n",
       "[92 rows x 19 columns]"
      ]
     },
     "execution_count": 17,
     "metadata": {},
     "output_type": "execute_result"
    }
   ],
   "source": [
    "## OJO PORQUE HACIENDO ESTO SE DETECTA QUE HAY VARIABLES IGUALES ESCRITAS DIFERENTE (HEAKTHTECH)\n",
    "\n",
    "dummies_Industries = df[\"Industries\"].str.get_dummies(sep=',')\n",
    "dummies_Industries = dummies_Industries.add_prefix('industr_')\n",
    "\n",
    "# Combinar con el DataFrame original\n",
    "df = df.join(dummies_Industries)"
   ]
  },
  {
   "cell_type": "markdown",
   "id": "62fb3979",
   "metadata": {},
   "source": [
    "6. Technologies"
   ]
  },
  {
   "cell_type": "code",
   "execution_count": null,
   "id": "f67c28e9",
   "metadata": {},
   "outputs": [
    {
     "data": {
      "application/vnd.microsoft.datawrangler.viewer.v0+json": {
       "columns": [
        {
         "name": "Technologies",
         "rawType": "object",
         "type": "string"
        },
        {
         "name": "count",
         "rawType": "int64",
         "type": "integer"
        }
       ],
       "ref": "8cfda57b-aeb4-4e57-924d-50b2781c0d66",
       "rows": [
        [
         "E-commerce",
         "20"
        ],
        [
         "IoT & Sensors",
         "16"
        ],
        [
         "Personalized medicine, \r\n\t\t                \t\t\r\n\t\t                \t\t\tAdditive manufacturing, \r\n\t\t                \t\t\r\n\t\t                \t\t\tBiotechnology",
         "8"
        ],
        [
         "Fintech & Insurtech, \r\n\t\t                \t\t\r\n\t\t                \t\t\tDigital Assets",
         "4"
        ],
        [
         "AI & Big Data, \r\n\t\t                \t\t\r\n\t\t                \t\t\tConnectivity, \r\n\t\t                \t\t\r\n\t\t                \t\t\tAutomation",
         "4"
        ],
        [
         "Digital Assets",
         "4"
        ],
        [
         "Fintech & Insurtech, \r\n\t\t                \t\t\r\n\t\t                \t\t\tDLT/Blockchain",
         "4"
        ],
        [
         "Medical devices",
         "4"
        ],
        [
         "Medical devices, \r\n\t\t                \t\t\r\n\t\t                \t\t\tBiotechnology, \r\n\t\t                \t\t\r\n\t\t                \t\t\tNBS (Nature Based Solutions)",
         "4"
        ],
        [
         "Connectivity, \r\n\t\t                \t\t\r\n\t\t                \t\t\tE-commerce",
         "4"
        ],
        [
         "AI & Big Data",
         "4"
        ],
        [
         "Biotechnology",
         "4"
        ],
        [
         "E-commerce, \r\n\t\t                \t\t\r\n\t\t                \t\t\tAgritech",
         "4"
        ],
        [
         "AI & Big Data, \r\n\t\t                \t\t\r\n\t\t                \t\t\tE-commerce",
         "4"
        ],
        [
         "E-commerce, \r\n\t\t                \t\t\r\n\t\t                \t\t\tAutomation, \r\n\t\t                \t\t\r\n\t\t                \t\t\tSmart City",
         "4"
        ]
       ],
       "shape": {
        "columns": 1,
        "rows": 15
       }
      },
      "text/plain": [
       "Technologies\n",
       "E-commerce                                                                                                                                                                          20\n",
       "IoT & Sensors                                                                                                                                                                       16\n",
       "Personalized medicine, \\r\\n\\t\\t                \\t\\t\\r\\n\\t\\t                \\t\\t\\tAdditive manufacturing, \\r\\n\\t\\t                \\t\\t\\r\\n\\t\\t                \\t\\t\\tBiotechnology     8\n",
       "Fintech & Insurtech, \\r\\n\\t\\t                \\t\\t\\r\\n\\t\\t                \\t\\t\\tDigital Assets                                                                                        4\n",
       "AI & Big Data, \\r\\n\\t\\t                \\t\\t\\r\\n\\t\\t                \\t\\t\\tConnectivity, \\r\\n\\t\\t                \\t\\t\\r\\n\\t\\t                \\t\\t\\tAutomation                          4\n",
       "Digital Assets                                                                                                                                                                       4\n",
       "Fintech & Insurtech, \\r\\n\\t\\t                \\t\\t\\r\\n\\t\\t                \\t\\t\\tDLT/Blockchain                                                                                        4\n",
       "Medical devices                                                                                                                                                                      4\n",
       "Medical devices, \\r\\n\\t\\t                \\t\\t\\r\\n\\t\\t                \\t\\t\\tBiotechnology, \\r\\n\\t\\t                \\t\\t\\r\\n\\t\\t                \\t\\t\\tNBS (Nature Based Solutions)     4\n",
       "Connectivity, \\r\\n\\t\\t                \\t\\t\\r\\n\\t\\t                \\t\\t\\tE-commerce                                                                                                   4\n",
       "AI & Big Data                                                                                                                                                                        4\n",
       "Biotechnology                                                                                                                                                                        4\n",
       "E-commerce, \\r\\n\\t\\t                \\t\\t\\r\\n\\t\\t                \\t\\t\\tAgritech                                                                                                       4\n",
       "AI & Big Data, \\r\\n\\t\\t                \\t\\t\\r\\n\\t\\t                \\t\\t\\tE-commerce                                                                                                  4\n",
       "E-commerce, \\r\\n\\t\\t                \\t\\t\\r\\n\\t\\t                \\t\\t\\tAutomation, \\r\\n\\t\\t                \\t\\t\\r\\n\\t\\t                \\t\\t\\tSmart City                               4\n",
       "Name: count, dtype: int64"
      ]
     },
     "execution_count": 19,
     "metadata": {},
     "output_type": "execute_result"
    }
   ],
   "source": [
    "df[\"Technologies\"].value_counts()"
   ]
  },
  {
   "cell_type": "code",
   "execution_count": null,
   "id": "9276db3b",
   "metadata": {},
   "outputs": [],
   "source": [
    "dummies_Technologies = df[\"Technologies\"].str.get_dummies(sep=',')\n",
    "dummies_Technologies = dummies_Technologies.add_prefix('tecno_')\n",
    "\n",
    "# Combinar con el DataFrame original\n",
    "df = df.join(dummies_Technologies)"
   ]
  },
  {
   "cell_type": "markdown",
   "id": "3fa5c1ba",
   "metadata": {},
   "source": [
    "7. Other fields"
   ]
  },
  {
   "cell_type": "code",
   "execution_count": 22,
   "id": "38cdd4c1",
   "metadata": {},
   "outputs": [
    {
     "data": {
      "application/vnd.microsoft.datawrangler.viewer.v0+json": {
       "columns": [
        {
         "name": "Other fields",
         "rawType": "object",
         "type": "string"
        },
        {
         "name": "count",
         "rawType": "int64",
         "type": "integer"
        }
       ],
       "ref": "a255b895-3601-45e2-9f32-84a24c96d118",
       "rows": [
        [
         "Social Economy",
         "36"
        ],
        [
         "Industry 4.0",
         "4"
        ],
        [
         "Deeptech",
         "4"
        ],
        [
         "Circular Economy",
         "4"
        ],
        [
         "Sharing Economy",
         "4"
        ],
        [
         "Smart Cities",
         "4"
        ]
       ],
       "shape": {
        "columns": 1,
        "rows": 6
       }
      },
      "text/plain": [
       "Other fields\n",
       "Social Economy      36\n",
       "Industry 4.0         4\n",
       "Deeptech             4\n",
       "Circular Economy     4\n",
       "Sharing Economy      4\n",
       "Smart Cities         4\n",
       "Name: count, dtype: int64"
      ]
     },
     "execution_count": 22,
     "metadata": {},
     "output_type": "execute_result"
    }
   ],
   "source": [
    "df[\"Other fields\"].value_counts()"
   ]
  },
  {
   "cell_type": "code",
   "execution_count": null,
   "id": "0b8685b1",
   "metadata": {},
   "outputs": [],
   "source": [
    "df[\"Other fields\"] = df[\"Other fields\"].replace(\"-\", np.nan)\n",
    "dum_of = df[\"Other fields\"].str.get_dummies(sep=',')\n",
    "dum_of = dum_of.add_prefix('tecno_')\n",
    "\n",
    "# Combinar con el DataFrame original\n",
    "df = df.join(dum_of)"
   ]
  },
  {
   "cell_type": "markdown",
   "id": "55372406",
   "metadata": {},
   "source": [
    "8. Funding stage"
   ]
  },
  {
   "cell_type": "code",
   "execution_count": 23,
   "id": "243bdf1f",
   "metadata": {},
   "outputs": [
    {
     "data": {
      "application/vnd.microsoft.datawrangler.viewer.v0+json": {
       "columns": [
        {
         "name": "Funding stage",
         "rawType": "object",
         "type": "string"
        },
        {
         "name": "count",
         "rawType": "int64",
         "type": "integer"
        }
       ],
       "ref": "3c74ca67-edd4-4737-98ef-bfb7c8b7ce67",
       "rows": [
        [
         "Seed (0.25 M EUR - < 1 M EUR)",
         "60"
        ],
        [
         "Pre-seed (< 0.25 M EUR)",
         "32"
        ]
       ],
       "shape": {
        "columns": 1,
        "rows": 2
       }
      },
      "text/plain": [
       "Funding stage\n",
       "Seed (0.25 M EUR - < 1 M EUR)    60\n",
       "Pre-seed (< 0.25 M EUR)          32\n",
       "Name: count, dtype: int64"
      ]
     },
     "execution_count": 23,
     "metadata": {},
     "output_type": "execute_result"
    }
   ],
   "source": [
    "df[\"Funding stage\"].value_counts()"
   ]
  },
  {
   "cell_type": "markdown",
   "id": "53756d5c",
   "metadata": {},
   "source": [
    "9. Founded"
   ]
  },
  {
   "cell_type": "code",
   "execution_count": 26,
   "id": "d90efa42",
   "metadata": {},
   "outputs": [],
   "source": [
    "df[\"Founded\"] = df[\"Founded\"].astype(float)"
   ]
  },
  {
   "cell_type": "markdown",
   "id": "302a85b5",
   "metadata": {},
   "source": [
    "10. Employees"
   ]
  },
  {
   "cell_type": "code",
   "execution_count": 27,
   "id": "3422fdd0",
   "metadata": {},
   "outputs": [
    {
     "data": {
      "application/vnd.microsoft.datawrangler.viewer.v0+json": {
       "columns": [
        {
         "name": "Employees",
         "rawType": "object",
         "type": "string"
        },
        {
         "name": "count",
         "rawType": "int64",
         "type": "integer"
        }
       ],
       "ref": "9f45d153-2914-4983-8aea-c150950812a6",
       "rows": [
        [
         "Undisclosed",
         "48"
        ],
        [
         "From 1 to 5",
         "20"
        ],
        [
         "From 6 to 10",
         "16"
        ],
        [
         "From 11 to 20",
         "4"
        ],
        [
         "From 21 to 50",
         "4"
        ]
       ],
       "shape": {
        "columns": 1,
        "rows": 5
       }
      },
      "text/plain": [
       "Employees\n",
       "Undisclosed      48\n",
       "From 1 to 5      20\n",
       "From 6 to 10     16\n",
       "From 11 to 20     4\n",
       "From 21 to 50     4\n",
       "Name: count, dtype: int64"
      ]
     },
     "execution_count": 27,
     "metadata": {},
     "output_type": "execute_result"
    }
   ],
   "source": [
    "df[\"Employees\"].value_counts()"
   ]
  },
  {
   "cell_type": "markdown",
   "id": "5b619c64",
   "metadata": {},
   "source": [
    "11. Business model"
   ]
  },
  {
   "cell_type": "code",
   "execution_count": null,
   "id": "b7937598",
   "metadata": {},
   "outputs": [
    {
     "data": {
      "application/vnd.microsoft.datawrangler.viewer.v0+json": {
       "columns": [
        {
         "name": "Business model",
         "rawType": "object",
         "type": "string"
        },
        {
         "name": "count",
         "rawType": "int64",
         "type": "integer"
        }
       ],
       "ref": "e58cdc56-0e2b-434b-8e82-b3579ec10d3d",
       "rows": [
        [
         "Saas",
         "24"
        ],
        [
         "Development & Manufacturing",
         "20"
        ],
        [
         "-",
         "16"
        ],
        [
         "Marketplace",
         "8"
        ],
        [
         "Others",
         "8"
        ],
        [
         "Ecommerce & Trade, \nSubscription",
         "4"
        ],
        [
         "R+D+I Services",
         "4"
        ],
        [
         "Ecommerce & Trade, \nMarketplace, \nSaas, \nSoftware licence, \nSubscription",
         "4"
        ],
        [
         "Ecommerce & Trade",
         "4"
        ]
       ],
       "shape": {
        "columns": 1,
        "rows": 9
       }
      },
      "text/plain": [
       "Business model\n",
       "Saas                                                                            24\n",
       "Development & Manufacturing                                                     20\n",
       "-                                                                               16\n",
       "Marketplace                                                                      8\n",
       "Others                                                                           8\n",
       "Ecommerce & Trade, \\nSubscription                                                4\n",
       "R+D+I Services                                                                   4\n",
       "Ecommerce & Trade, \\nMarketplace, \\nSaas, \\nSoftware licence, \\nSubscription     4\n",
       "Ecommerce & Trade                                                                4\n",
       "Name: count, dtype: int64"
      ]
     },
     "execution_count": 28,
     "metadata": {},
     "output_type": "execute_result"
    }
   ],
   "source": [
    "df[\"Business model\"].value_counts()\n",
    "df[\"Business model\"] = df[\"Business model\"].replace(\"-\", np.nan)\n",
    "dum_of = df[\"Business model\"].str.get_dummies(sep=',')\n",
    "dum_of = dum_of.add_prefix('businessModel_')\n"
   ]
  },
  {
   "cell_type": "markdown",
   "id": "3af18b82",
   "metadata": {},
   "source": [
    "12. Target"
   ]
  },
  {
   "cell_type": "code",
   "execution_count": 29,
   "id": "74444fce",
   "metadata": {},
   "outputs": [
    {
     "data": {
      "application/vnd.microsoft.datawrangler.viewer.v0+json": {
       "columns": [
        {
         "name": "Target",
         "rawType": "object",
         "type": "string"
        },
        {
         "name": "count",
         "rawType": "int64",
         "type": "integer"
        }
       ],
       "ref": "627c9dc6-c08d-443b-9fb8-5c14c2441e0c",
       "rows": [
        [
         "Business",
         "36"
        ],
        [
         "Consumer",
         "28"
        ],
        [
         "-",
         "16"
        ],
        [
         "Business, \nConsumer",
         "12"
        ]
       ],
       "shape": {
        "columns": 1,
        "rows": 4
       }
      },
      "text/plain": [
       "Target\n",
       "Business                36\n",
       "Consumer                28\n",
       "-                       16\n",
       "Business, \\nConsumer    12\n",
       "Name: count, dtype: int64"
      ]
     },
     "execution_count": 29,
     "metadata": {},
     "output_type": "execute_result"
    }
   ],
   "source": [
    "df[\"Target\"].value_counts()"
   ]
  },
  {
   "cell_type": "code",
   "execution_count": null,
   "id": "dff2f0cf",
   "metadata": {},
   "outputs": [],
   "source": [
    "df[\"Target\"] = df[\"Target\"].replace(\"-\", np.nan)\n",
    "dum_of = df[\"Target\"].str.get_dummies(sep=',')\n",
    "dum_of = dum_of.add_prefix('target_')"
   ]
  },
  {
   "cell_type": "markdown",
   "id": "24993cec",
   "metadata": {},
   "source": [
    "13. Spinoff participants"
   ]
  },
  {
   "cell_type": "code",
   "execution_count": 30,
   "id": "8d7e575c",
   "metadata": {},
   "outputs": [
    {
     "data": {
      "application/vnd.microsoft.datawrangler.viewer.v0+json": {
       "columns": [
        {
         "name": "Spinoff participants",
         "rawType": "object",
         "type": "string"
        },
        {
         "name": "count",
         "rawType": "int64",
         "type": "integer"
        }
       ],
       "ref": "7d89c2c1-cc37-4bf8-af8b-51d3ae460e77",
       "rows": [
        [
         "None / Not a spinoff",
         "76"
        ],
        [
         "Technological Centre (BIOCAT)",
         "8"
        ],
        [
         "CERCA Centre (CERCA Centre); \nCSIC Centre (CSIC Centre)",
         "4"
        ],
        [
         "Company /Other Centre",
         "4"
        ]
       ],
       "shape": {
        "columns": 1,
        "rows": 4
       }
      },
      "text/plain": [
       "Spinoff participants\n",
       "None / Not a spinoff                                        76\n",
       "Technological Centre (BIOCAT)                                8\n",
       "CERCA Centre (CERCA Centre); \\nCSIC Centre (CSIC Centre)     4\n",
       "Company /Other Centre                                        4\n",
       "Name: count, dtype: int64"
      ]
     },
     "execution_count": 30,
     "metadata": {},
     "output_type": "execute_result"
    }
   ],
   "source": [
    "df[\"Spinoff participants\"].value_counts()"
   ]
  },
  {
   "cell_type": "markdown",
   "id": "ad1f41be",
   "metadata": {},
   "source": [
    "Para la variable capita_prev contrastar con las variables Investor y Date si son iguales sino se deberá de trabajar para tener 2 variables independientes. "
   ]
  },
  {
   "cell_type": "code",
   "execution_count": 35,
   "id": "a492ab7f",
   "metadata": {},
   "outputs": [],
   "source": [
    "df = df.drop(columns=[\"URL\", \"Date\", \"Name\"])"
   ]
  },
  {
   "cell_type": "markdown",
   "id": "0badd7fb",
   "metadata": {},
   "source": [
    "## Guardamos la base de datos "
   ]
  },
  {
   "cell_type": "code",
   "execution_count": 39,
   "id": "e261a97f",
   "metadata": {},
   "outputs": [],
   "source": [
    "df.to_pickle(path=\"data/datos_preprocesados.pkl\")\n",
    "df.to_csv(path_or_buf=\"data/datos_preprocesados.csv\")"
   ]
  },
  {
   "cell_type": "markdown",
   "id": "955ebf34",
   "metadata": {},
   "source": []
  }
 ],
 "metadata": {
  "kernelspec": {
   "display_name": "Python 3",
   "language": "python",
   "name": "python3"
  },
  "language_info": {
   "codemirror_mode": {
    "name": "ipython",
    "version": 3
   },
   "file_extension": ".py",
   "mimetype": "text/x-python",
   "name": "python",
   "nbconvert_exporter": "python",
   "pygments_lexer": "ipython3",
   "version": "3.13.3"
  }
 },
 "nbformat": 4,
 "nbformat_minor": 5
}
