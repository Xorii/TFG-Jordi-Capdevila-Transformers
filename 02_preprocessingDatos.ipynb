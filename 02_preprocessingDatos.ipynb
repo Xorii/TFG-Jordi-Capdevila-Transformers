{
 "cells": [
  {
   "cell_type": "code",
   "execution_count": null,
   "id": "319c1505",
   "metadata": {},
   "outputs": [],
   "source": [
    "import pandas as pd\n",
    "import numpy as np\n",
    "import pickle\n",
    "import re"
   ]
  },
  {
   "cell_type": "code",
   "execution_count": null,
   "id": "d3577554",
   "metadata": {},
   "outputs": [],
   "source": [
    "# 2. Carreguem dades\n",
    "df = pd.read_pickle(\"data/datosFinal.pkl\")"
   ]
  },
  {
   "cell_type": "code",
   "execution_count": null,
   "id": "9d19a488",
   "metadata": {},
   "outputs": [],
   "source": [
    "df"
   ]
  },
  {
   "cell_type": "markdown",
   "id": "d2b1fbe0",
   "metadata": {},
   "source": [
    "### Preprocessing"
   ]
  },
  {
   "cell_type": "markdown",
   "id": "6bb06eb6",
   "metadata": {},
   "source": [
    "1. Company"
   ]
  },
  {
   "cell_type": "code",
   "execution_count": null,
   "id": "13025723",
   "metadata": {},
   "outputs": [],
   "source": [
    "condicio = (\n",
    "    df[\"Company\"].str.strip().str.upper().str.endswith(\"S.L\") |\n",
    "    df[\"Company\"].str.strip().str.upper().str.endswith(\"SL\") |\n",
    "    df[\"Company\"].str.strip().str.upper().str.endswith(\"S.L.\") |\n",
    "    df[\"Company\"].str.upper().str.contains(\"SOCIEDAD LIMITADA\")\n",
    ")\n",
    "\n",
    "df['es_sociedad_limitada'] = np.where(condicio, 1, 0)\n",
    "\n",
    "df.es_sociedad_limitada.value_counts()"
   ]
  },
  {
   "cell_type": "markdown",
   "id": "2f0464ea",
   "metadata": {},
   "source": [
    "2. Names"
   ]
  },
  {
   "cell_type": "code",
   "execution_count": null,
   "id": "9a185705",
   "metadata": {},
   "outputs": [],
   "source": [
    "(df[\"Company\"] == df[\"Name\"]).value_counts()\n",
    "df = df.drop(columns=[\"Company\"])"
   ]
  },
  {
   "cell_type": "markdown",
   "id": "e66bb624",
   "metadata": {},
   "source": [
    "3. Investment"
   ]
  },
  {
   "cell_type": "code",
   "execution_count": null,
   "id": "d3b9cc14",
   "metadata": {},
   "outputs": [],
   "source": [
    "df[\"Investment\"] = (\n",
    "    df[\"capital_prev\"]\n",
    "    .astype(str)\n",
    "    .str.extract(r'([\\d.,]+M\\s?€)')[0]   # agafa només la part numèrica amb M i €\n",
    "    .str.replace(\"€\", \"\", regex=False)\n",
    "    .str.replace(\"M\", \"\", regex=False)\n",
    "    .str.replace(\"m\", \"\", regex=False)\n",
    "    .str.replace(\",\", \".\", regex=False)       # canvia coma per punt decimal\n",
    "    .str.replace(\" \", \"\", regex=False)        # elimina espais\n",
    ")\n",
    "\n",
    "# 2. Conversió a numèric (float), posant NaN si hi ha errors\n",
    "df[\"Investment\"] = pd.to_numeric(df[\"Investment\"], errors=\"coerce\")\n",
    "\n",
    "# 3. Substitueix 0 per NaN\n",
    "df[\"Investment\"] = df[\"Investment\"].replace(0.0, np.nan)\n",
    "\n",
    "# per tenir 0 en comptes de nan\n",
    "df[\"Investment\"] = df[\"Investment\"].fillna(0)\n",
    "\n",
    "\n",
    "df.Investment"
   ]
  },
  {
   "cell_type": "markdown",
   "id": "0ddb3637",
   "metadata": {},
   "source": [
    "4. Investor"
   ]
  },
  {
   "cell_type": "code",
   "execution_count": null,
   "id": "a59a1c35",
   "metadata": {},
   "outputs": [],
   "source": [
    "df.Investors = df.investors\n",
    "df = df.drop(columns=['investors'])"
   ]
  },
  {
   "cell_type": "code",
   "execution_count": null,
   "id": "e3596083",
   "metadata": {},
   "outputs": [],
   "source": [
    "all_investors = []\n",
    "\n",
    "for group in df['Investors'].dropna().tolist():\n",
    "    splitted = [inv.strip() for inv in group.split(',')]\n",
    "    all_investors.extend(splitted)\n",
    "\n",
    "investor_series = pd.Series(all_investors)\n",
    "\n",
    "# Comptar freqüències\n",
    "freq_table = investor_series.value_counts().reset_index()\n",
    "\n",
    "# Renombrar columnes\n",
    "freq_table.columns = ['Investor', 'Frequency']\n",
    "\n",
    "# Mostrar la taula\n",
    "print(freq_table)"
   ]
  },
  {
   "cell_type": "code",
   "execution_count": null,
   "id": "44a10972",
   "metadata": {},
   "outputs": [],
   "source": [
    "import matplotlib.pyplot as plt\n",
    "\n",
    "# Suposem que tens aquesta taula:\n",
    "# freq_table.columns = ['Investor', 'Frequency']\n",
    "\n",
    "plt.figure(figsize=(8, 5))\n",
    "plt.hist(freq_table['Frequency'], bins=range(1, freq_table['Frequency'].max() + 2), edgecolor='black')\n",
    "plt.title('Histograma de Freqüència dels Inversors')\n",
    "plt.xlabel('Nombre de vegades que un inversor apareix')\n",
    "plt.ylabel('Nombre d\\'inversors')\n",
    "plt.xticks(range(1, freq_table['Frequency'].max() + 1))\n",
    "plt.grid(axis='y', linestyle='--', alpha=0.7)\n",
    "plt.tight_layout()\n",
    "plt.show()\n"
   ]
  },
  {
   "cell_type": "code",
   "execution_count": null,
   "id": "de9d1e78",
   "metadata": {},
   "outputs": [],
   "source": [
    "#De moment no faig la columna investors perquè hi ha molts pocs que es repeteixen i encara haig de pensar com fer per saber si són persones o no"
   ]
  },
  {
   "cell_type": "markdown",
   "id": "8c8fa21d",
   "metadata": {},
   "source": [
    "5. Date"
   ]
  },
  {
   "cell_type": "code",
   "execution_count": null,
   "id": "ea97db94",
   "metadata": {},
   "outputs": [],
   "source": [
    "df.Date = df['capital_prev'].str.extract(r'\\((.*?)\\)')"
   ]
  },
  {
   "cell_type": "code",
   "execution_count": null,
   "id": "715c3cc5",
   "metadata": {},
   "outputs": [],
   "source": [
    "df = df.drop(columns=['capital_prev'])"
   ]
  },
  {
   "cell_type": "code",
   "execution_count": null,
   "id": "3a77bc30",
   "metadata": {},
   "outputs": [],
   "source": [
    "df"
   ]
  },
  {
   "cell_type": "code",
   "execution_count": null,
   "id": "215ac2a8",
   "metadata": {},
   "outputs": [],
   "source": [
    "df[\"Mes Inversion\"] = [mes.split(\" \")[0] for mes in df[\"Date\"]]\n",
    "df[\"Year Inversion\"] = [mes.split(\" \")[1] for mes in df[\"Date\"]]\n",
    "## Eliminar variable Date"
   ]
  },
  {
   "cell_type": "code",
   "execution_count": null,
   "id": "6e3d39d2",
   "metadata": {},
   "outputs": [],
   "source": [
    "import pandas as pd\n",
    "from datetime import datetime\n",
    "\n",
    "# Suposem que tens un DataFrame anomenat df\n",
    "\n",
    "# 1. Crear una data a partir de les columnes \"Mes inversion\" i \"Year inversion\"\n",
    "# Convertim el nom del mes a número\n",
    "df['Mes_num'] = pd.to_datetime(df['Mes Inversion'], format='%B').dt.month\n",
    "\n",
    "# Crear una columna amb la data completa\n",
    "df['Data_inversion'] = pd.to_datetime(dict(year=df['Year Inversion'], month=df['Mes_num'], day=1))\n",
    "\n",
    "# 2. Definir la data actual (Juny 2025)\n",
    "data_actual = datetime(2025, 6, 3)\n",
    "\n",
    "# 3. Calcular la diferència en mesos\n",
    "diferencia_mesos = (data_actual.year - df['Data_inversion'].dt.year) * 12 + (data_actual.month - df['Data_inversion'].dt.month)\n",
    "\n",
    "# 4. Convertir a anys amb decimals\n",
    "df['Antiguitat'] = diferencia_mesos / 12\n",
    "df['Antiguitat']\n"
   ]
  },
  {
   "cell_type": "markdown",
   "id": "f389ebb4",
   "metadata": {},
   "source": [
    "6. Adreça"
   ]
  },
  {
   "cell_type": "markdown",
   "id": "79738afa",
   "metadata": {},
   "source": [
    "Al final no la fem"
   ]
  },
  {
   "cell_type": "markdown",
   "id": "9aa90907",
   "metadata": {},
   "source": [
    "7. Industries"
   ]
  },
  {
   "cell_type": "code",
   "execution_count": null,
   "id": "865557e5",
   "metadata": {},
   "outputs": [],
   "source": [
    "# Elimina salts de línia, tabulacions i espais extra\n",
    "df['Industries'] = df['Industries'].astype(str) \\\n",
    "    .str.replace(r'[\\r\\n\\t]', '', regex=True) \\\n",
    "    .str.replace(r'\\s{2,}', ' ', regex=True) \\\n",
    "    .str.strip()"
   ]
  },
  {
   "cell_type": "code",
   "execution_count": null,
   "id": "5880bf2e",
   "metadata": {},
   "outputs": [],
   "source": [
    "# Inicialitzar llista buida\n",
    "all_industries = []\n",
    "\n",
    "# Iterar per cada fila\n",
    "for item in df['Industries'].dropna():\n",
    "    industries = [i.strip() for i in item.split(',')]\n",
    "    all_industries.extend(industries)\n",
    "\n",
    "industries_series = pd.Series(all_industries)\n",
    "freq_table = industries_series.value_counts().reset_index()\n",
    "freq_table.columns = ['Industry', 'Frequency']\n",
    "Industries = freq_table.Industry\n",
    "print(freq_table)\n",
    "\n",
    "#Veiem que només hi ha 24 industries, podem fer columnes binàries per a cada indústria"
   ]
  },
  {
   "cell_type": "code",
   "execution_count": null,
   "id": "a5d86ea3",
   "metadata": {},
   "outputs": [],
   "source": [
    "Ind = df[[\"Name\",\"Industries\"]]\n",
    "M = pd.DataFrame(columns = [Industries])\n",
    "for i in range(len(Ind)):\n",
    "    a = Ind.Industries[i]\n",
    "    a_clean = [i.strip() for i in a.split(',')]\n",
    "    binary_vector = [1 if industry in a_clean else 0 for industry in Industries]\n",
    "    M.loc[i] = binary_vector"
   ]
  },
  {
   "cell_type": "code",
   "execution_count": null,
   "id": "a6920091",
   "metadata": {},
   "outputs": [],
   "source": [
    "# 1. Converteix el MultiIndex en columnes normals\n",
    "M.columns = [col[0] for col in M.columns]\n",
    "\n",
    "# 2. Renombra cada columna com \"Ind - nom\"\n",
    "M.columns = [f\"Ind {col}\" for col in M.columns]\n",
    "M.columns"
   ]
  },
  {
   "cell_type": "code",
   "execution_count": null,
   "id": "0b6db705",
   "metadata": {},
   "outputs": [],
   "source": [
    "df_combinat = pd.concat([Ind, M], axis=1)"
   ]
  },
  {
   "cell_type": "code",
   "execution_count": null,
   "id": "8b7064d7",
   "metadata": {},
   "outputs": [],
   "source": [
    "#df = pd.concat([df, M], axis=1)\n",
    "\n",
    "#En el cas de voler ajuntar les matrius"
   ]
  },
  {
   "cell_type": "markdown",
   "id": "62fb3979",
   "metadata": {},
   "source": [
    "8. Technologies"
   ]
  },
  {
   "cell_type": "code",
   "execution_count": null,
   "id": "4560e251",
   "metadata": {},
   "outputs": [],
   "source": [
    "# Elimina salts de línia, tabulacions i espais extra\n",
    "df['Technologies'] = df['Technologies'].astype(str) \\\n",
    "    .str.replace(r'[\\r\\n\\t]', '', regex=True) \\\n",
    "    .str.replace(r'\\s{2,}', ' ', regex=True) \\\n",
    "    .str.strip()\n",
    "df.Technologies"
   ]
  },
  {
   "cell_type": "code",
   "execution_count": null,
   "id": "4bb8578a",
   "metadata": {},
   "outputs": [],
   "source": [
    "# Inicialitzar llista buida\n",
    "all_technologies = []\n",
    "\n",
    "# Iterar per cada fila\n",
    "for item in df['Technologies'].dropna():\n",
    "    technologies = [i.strip() for i in item.split(',')]\n",
    "    all_technologies.extend(technologies)\n",
    "\n",
    "# Crear una sèrie i taula de freqüències\n",
    "technologies_series = pd.Series(all_technologies)\n",
    "tech_freq_table = technologies_series.value_counts().reset_index()\n",
    "tech_freq_table.columns = ['Technology', 'Frequency']\n",
    "\n",
    "# Guardem la llista única de tecnologies\n",
    "Technologies = tech_freq_table.Technology\n",
    "print(tech_freq_table)\n",
    "\n",
    "# Ara ja pots fer columnes binàries per cada tecnologia"
   ]
  },
  {
   "cell_type": "code",
   "execution_count": null,
   "id": "cdcd0ed7",
   "metadata": {},
   "outputs": [],
   "source": [
    "Tech = df[[\"Name\",\"Technologies\"]]\n",
    "T = pd.DataFrame(columns = [Technologies])\n",
    "for i in range(len(Tech)):\n",
    "    a = Tech.Technologies[i]\n",
    "    a_clean = [i.strip() for i in a.split(',')]\n",
    "    binary_vector = [1 if technology in a_clean else 0 for technology in Technologies]\n",
    "    T.loc[i] = binary_vector"
   ]
  },
  {
   "cell_type": "code",
   "execution_count": null,
   "id": "6659ab38",
   "metadata": {},
   "outputs": [],
   "source": [
    "# 1. Converteix el MultiIndex en columnes normals\n",
    "T.columns = [col[0] for col in T.columns]\n",
    "\n",
    "# 2. Renombra cada columna com \"Ind - nom\"\n",
    "T.columns = [f\"Tech {col}\" for col in T.columns]\n",
    "T.columns"
   ]
  },
  {
   "cell_type": "code",
   "execution_count": null,
   "id": "6d879a6b",
   "metadata": {},
   "outputs": [],
   "source": [
    "df_combinat = pd.concat([df_combinat, T], axis=1)"
   ]
  },
  {
   "cell_type": "code",
   "execution_count": null,
   "id": "d2a742fa",
   "metadata": {},
   "outputs": [],
   "source": [
    "#df = pd.concat([df, T], axis=1)\n",
    "\n",
    "#En el cas de voler ajuntar les matrius"
   ]
  },
  {
   "cell_type": "markdown",
   "id": "a918b743",
   "metadata": {},
   "source": [
    "9. Categoria"
   ]
  },
  {
   "cell_type": "code",
   "execution_count": null,
   "id": "8f311f1a",
   "metadata": {},
   "outputs": [],
   "source": [
    "df = df.drop(\"Category\", axis = 1)"
   ]
  },
  {
   "cell_type": "markdown",
   "id": "3fa5c1ba",
   "metadata": {},
   "source": [
    "10. Other fields"
   ]
  },
  {
   "cell_type": "code",
   "execution_count": null,
   "id": "e4f463d2",
   "metadata": {},
   "outputs": [],
   "source": [
    "# Elimina salts de línia, tabulacions i espais extra\n",
    "df['Other fields'] = df['Other fields'].astype(str) \\\n",
    "    .str.replace(r'[\\r\\n\\t]', '', regex=True) \\\n",
    "    .str.replace(r'\\s{2,}', ' ', regex=True) \\\n",
    "    .str.strip()\n",
    "df[\"Other fields\"]"
   ]
  },
  {
   "cell_type": "code",
   "execution_count": null,
   "id": "38cdd4c1",
   "metadata": {},
   "outputs": [],
   "source": [
    "# Inicialitzar llista buida\n",
    "all_fields = []\n",
    "\n",
    "# Iterar per cada fila\n",
    "for item in df['Other fields'].dropna():\n",
    "    fields = [i.strip() for i in item.split(',')]\n",
    "    all_fields.extend(fields)\n",
    "\n",
    "# Crear una sèrie i taula de freqüències\n",
    "fields_series = pd.Series(all_fields)\n",
    "fields_freq_table = fields_series.value_counts().reset_index()\n",
    "fields_freq_table.columns = ['Field', 'Frequency']\n",
    "\n",
    "# Guardem la llista única de camps\n",
    "OtherFields = fields_freq_table.Field\n",
    "print(fields_freq_table)"
   ]
  },
  {
   "cell_type": "code",
   "execution_count": null,
   "id": "cb134af7",
   "metadata": {},
   "outputs": [],
   "source": [
    "OFields = df[[\"Name\",\"Other fields\"]]\n",
    "OF = pd.DataFrame(columns = [OtherFields])\n",
    "for i in range(len(OFields)):\n",
    "    a = OFields[\"Other fields\"][i]\n",
    "    a_clean = [i.strip() for i in a.split(',')]\n",
    "    binary_vector = [1 if otherfield in a_clean else 0 for otherfield in OtherFields]\n",
    "    OF.loc[i] = binary_vector"
   ]
  },
  {
   "cell_type": "code",
   "execution_count": null,
   "id": "67933971",
   "metadata": {},
   "outputs": [],
   "source": [
    "# 1. Converteix el MultiIndex en columnes normals\n",
    "OF.columns = [col[0] for col in OF.columns]\n",
    "\n",
    "# 2. Renombra cada columna com \"Ind - nom\"\n",
    "OF.columns = [f\"OF {col}\" for col in OF.columns]\n",
    "OF.columns"
   ]
  },
  {
   "cell_type": "code",
   "execution_count": null,
   "id": "c08412d0",
   "metadata": {},
   "outputs": [],
   "source": [
    "df_combinat = pd.concat([df_combinat, OF], axis=1)"
   ]
  },
  {
   "cell_type": "code",
   "execution_count": null,
   "id": "0bb6b15c",
   "metadata": {},
   "outputs": [],
   "source": [
    "#df = pd.concat([df, OF], axis=1)\n",
    "\n",
    "#En el cas de voler ajuntar les matrius"
   ]
  },
  {
   "cell_type": "markdown",
   "id": "55372406",
   "metadata": {},
   "source": [
    "11. Funding stage"
   ]
  },
  {
   "cell_type": "code",
   "execution_count": null,
   "id": "243bdf1f",
   "metadata": {},
   "outputs": [],
   "source": [
    "#No te sentit aquesta variable ja que ja tenim la quantitat exacte\n",
    "df = df.drop(\"Funding stage\", axis = 1)"
   ]
  },
  {
   "cell_type": "markdown",
   "id": "53756d5c",
   "metadata": {},
   "source": [
    "12. Founded"
   ]
  },
  {
   "cell_type": "code",
   "execution_count": null,
   "id": "d90efa42",
   "metadata": {},
   "outputs": [],
   "source": [
    "df[\"Founded\"] = 2025-df[\"Founded\"].astype(float)\n",
    "df_clean = df.dropna(subset=['Founded'])\n",
    "\n",
    "plt.figure(figsize=(10, 6))\n",
    "plt.hist(df_clean['Founded'], bins=20, edgecolor='black')\n",
    "plt.title('Histograma de l\\'any de fundació')\n",
    "plt.xlabel('Any de fundació')\n",
    "plt.ylabel('Nombre de startups')\n",
    "plt.grid(axis='y', linestyle='--', alpha=0.7)\n",
    "plt.show()"
   ]
  },
  {
   "cell_type": "markdown",
   "id": "302a85b5",
   "metadata": {},
   "source": [
    "13. Employees"
   ]
  },
  {
   "cell_type": "code",
   "execution_count": null,
   "id": "70810fb8",
   "metadata": {},
   "outputs": [],
   "source": [
    "dummies = pd.get_dummies(df['Employees'], prefix='Emp').astype(int)\n",
    "dummies.columns = dummies.columns.str.replace('_', ' ', regex=False)\n",
    "df_combinat = pd.concat([df_combinat, dummies], axis=1)"
   ]
  },
  {
   "cell_type": "markdown",
   "id": "5b619c64",
   "metadata": {},
   "source": [
    "14. Business model"
   ]
  },
  {
   "cell_type": "code",
   "execution_count": null,
   "id": "f57f547e",
   "metadata": {},
   "outputs": [],
   "source": [
    "# Elimina salts de línia, tabulacions i espais extra\n",
    "df['Business model'] = df['Business model'].astype(str) \\\n",
    "    .str.replace(r'[\\r\\n\\t]', '', regex=True) \\\n",
    "    .str.replace(r'\\s{2,}', ' ', regex=True) \\\n",
    "    .str.strip()\n",
    "df[\"Business model\"]"
   ]
  },
  {
   "cell_type": "code",
   "execution_count": null,
   "id": "ae215072",
   "metadata": {},
   "outputs": [],
   "source": [
    "# Inicialitzar llista buida\n",
    "all_models = []\n",
    "\n",
    "# Iterar per cada fila\n",
    "for item in df['Business model'].dropna():\n",
    "    models = [i.strip() for i in item.split(',')]\n",
    "    all_models.extend(models)\n",
    "\n",
    "# Crear una sèrie i taula de freqüències\n",
    "models_series = pd.Series(all_models)\n",
    "models_freq_table = models_series.value_counts().reset_index()\n",
    "models_freq_table.columns = ['Business model', 'Frequency']\n",
    "\n",
    "# Guardar la llista única de models\n",
    "BusinessModels = models_freq_table['Business model']\n",
    "\n",
    "print(models_freq_table)"
   ]
  },
  {
   "cell_type": "code",
   "execution_count": null,
   "id": "90e7b851",
   "metadata": {},
   "outputs": [],
   "source": [
    "BModels = df[[\"Name\",\"Business model\"]]\n",
    "BM = pd.DataFrame(columns = [BusinessModels])\n",
    "for i in range(len(BModels)):\n",
    "    a = BModels[\"Business model\"][i]\n",
    "    a_clean = [i.strip() for i in a.split(',')]\n",
    "    binary_vector = [1 if businessmodel in a_clean else 0 for businessmodel in BusinessModels]\n",
    "    BM.loc[i] = binary_vector"
   ]
  },
  {
   "cell_type": "code",
   "execution_count": null,
   "id": "0bda8d0b",
   "metadata": {},
   "outputs": [],
   "source": [
    "# 1. Converteix el MultiIndex en columnes normals\n",
    "BM.columns = [col[0] for col in BM.columns]\n",
    "\n",
    "# 2. Renombra cada columna com \"Ind - nom\"\n",
    "BM.columns = [f\"BM {col}\" for col in BM.columns]\n",
    "BM.columns"
   ]
  },
  {
   "cell_type": "code",
   "execution_count": null,
   "id": "adaa88dd",
   "metadata": {},
   "outputs": [],
   "source": [
    "print(models_freq_table)"
   ]
  },
  {
   "cell_type": "code",
   "execution_count": null,
   "id": "9162a2ba",
   "metadata": {},
   "outputs": [],
   "source": [
    "sums = BM.sum()\n",
    "print(sums)"
   ]
  },
  {
   "cell_type": "code",
   "execution_count": null,
   "id": "2d027718",
   "metadata": {},
   "outputs": [],
   "source": [
    "df_combinat = pd.concat([df_combinat, BM], axis=1)"
   ]
  },
  {
   "cell_type": "code",
   "execution_count": null,
   "id": "5e64b763",
   "metadata": {},
   "outputs": [],
   "source": [
    "#df = pd.concat([df, BM], axis=1)\n",
    "\n",
    "#En el cas de voler ajuntar les matrius"
   ]
  },
  {
   "cell_type": "markdown",
   "id": "3af18b82",
   "metadata": {},
   "source": [
    "15. Target"
   ]
  },
  {
   "cell_type": "code",
   "execution_count": null,
   "id": "d1db9a0c",
   "metadata": {},
   "outputs": [],
   "source": [
    "df['Target'] = df['Target'].astype(str) \\\n",
    "    .str.replace(r'[\\r\\n\\t]', '', regex=True) \\\n",
    "    .str.replace(r'\\s{2,}', ' ', regex=True) \\\n",
    "    .str.strip()\n",
    "df[\"Target\"]"
   ]
  },
  {
   "cell_type": "code",
   "execution_count": null,
   "id": "590020ae",
   "metadata": {},
   "outputs": [],
   "source": [
    "# Inicialitzar llista buida\n",
    "all_targets = []\n",
    "\n",
    "# Iterar per cada fila\n",
    "for item in df['Target'].dropna():\n",
    "    targets = [i.strip() for i in item.split(',')]\n",
    "    all_targets.extend(targets)\n",
    "\n",
    "# Crear una sèrie i taula de freqüències\n",
    "targets_series = pd.Series(all_targets)\n",
    "targets_freq_table = targets_series.value_counts().reset_index()\n",
    "targets_freq_table.columns = ['Target', 'Frequency']\n",
    "\n",
    "# Guardar la llista única de targets\n",
    "Targets = targets_freq_table['Target']\n",
    "\n",
    "print(targets_freq_table)"
   ]
  },
  {
   "cell_type": "code",
   "execution_count": null,
   "id": "73edc2f9",
   "metadata": {},
   "outputs": [],
   "source": [
    "Targ = df[[\"Name\",\"Target\"]]\n",
    "Ta = pd.DataFrame(columns = [Targets])\n",
    "for i in range(len(Targ)):\n",
    "    a = Targ[\"Target\"][i]\n",
    "    a_clean = [i.strip() for i in a.split(',')]\n",
    "    binary_vector = [1 if targets in a_clean else 0 for targets in Targets]\n",
    "    Ta.loc[i] = binary_vector"
   ]
  },
  {
   "cell_type": "code",
   "execution_count": null,
   "id": "54d2c923",
   "metadata": {},
   "outputs": [],
   "source": [
    "# 1. Converteix el MultiIndex en columnes normals\n",
    "Ta.columns = [col[0] for col in Ta.columns]\n",
    "\n",
    "# 2. Renombra cada columna com \"Ind - nom\"\n",
    "Ta.columns = [f\"Targ {col}\" for col in Ta.columns]\n",
    "Ta.columns"
   ]
  },
  {
   "cell_type": "code",
   "execution_count": null,
   "id": "74444fce",
   "metadata": {},
   "outputs": [],
   "source": [
    "df_combinat = pd.concat([df_combinat, Ta], axis=1)"
   ]
  },
  {
   "cell_type": "code",
   "execution_count": null,
   "id": "7065e2a7",
   "metadata": {},
   "outputs": [],
   "source": [
    "#df = pd.concat([df, Ta], axis=1)\n",
    "\n",
    "#En el cas de voler ajuntar les matrius"
   ]
  },
  {
   "cell_type": "markdown",
   "id": "24993cec",
   "metadata": {},
   "source": [
    "16. Spinoff participants"
   ]
  },
  {
   "cell_type": "code",
   "execution_count": null,
   "id": "4f0504b6",
   "metadata": {},
   "outputs": [],
   "source": [
    "df[\"Spinoff participants\"] = df[\"Spinoff participants\"].fillna(\"\").astype(str) \\\n",
    "    .str.replace(r'\\(.*?\\)', '', regex=True) \\\n",
    "    .str.replace(r'\\n', '', regex=True) \\\n",
    "    .str.replace(r'/', '', regex=True) \\\n",
    "    .str.replace(r'\\)', '', regex=True) \\\n",
    "    .str.replace(';', ',', regex=False) \\\n",
    "    .str.replace('Fundació Institut d’Investigació i Innovació Parc Tauli', ',', regex=False) \\\n",
    "    .str.replace(' ,', ',', regex=False) \\\n",
    "    .str.strip()\n",
    "print(df[\"Spinoff participants\"].iloc[35:45])"
   ]
  },
  {
   "cell_type": "code",
   "execution_count": null,
   "id": "3309c1fa",
   "metadata": {},
   "outputs": [],
   "source": [
    "# Inicialitzar llista buida\n",
    "all_participants = []\n",
    "\n",
    "# Iterar per cada fila\n",
    "for item in df['Spinoff participants'].dropna():\n",
    "    participants = [i.strip() for i in item.split(',')]\n",
    "    all_participants.extend(participants)\n",
    "\n",
    "# Crear una sèrie i taula de freqüències\n",
    "participants_series = pd.Series(all_participants)\n",
    "participants_freq_table = participants_series.value_counts().reset_index()\n",
    "participants_freq_table.columns = ['Spinoff Participant', 'Frequency']\n",
    "\n",
    "#Esborro la fila 9 per un error\n",
    "participants_freq_table = participants_freq_table.drop(index=9).reset_index(drop=True)\n",
    "\n",
    "# Guardar la llista única de participants\n",
    "SpinoffParticipants = participants_freq_table['Spinoff Participant']\n",
    "\n",
    "# Mostrar la taula de freqüències\n",
    "print(participants_freq_table)\n"
   ]
  },
  {
   "cell_type": "code",
   "execution_count": null,
   "id": "967a6573",
   "metadata": {},
   "outputs": [],
   "source": [
    "Spin = df[[\"Name\",\"Spinoff participants\"]]\n",
    "S = pd.DataFrame(columns = [SpinoffParticipants])\n",
    "for i in range(len(Spin)):\n",
    "    a = Spin[\"Spinoff participants\"][i]\n",
    "    a_clean = [i.strip() for i in a.split(',')]\n",
    "    binary_vector = [1 if spinoffparticipants in a_clean else 0 for spinoffparticipants in SpinoffParticipants]\n",
    "    S.loc[i] = binary_vector"
   ]
  },
  {
   "cell_type": "code",
   "execution_count": null,
   "id": "75aad01f",
   "metadata": {},
   "outputs": [],
   "source": [
    "# 1. Converteix el MultiIndex en columnes normals\n",
    "S.columns = [col[0] for col in S.columns]\n",
    "\n",
    "# 2. Renombra cada columna com \"Ind - nom\"\n",
    "S.columns = [f\"Spin {col}\" for col in S.columns]\n",
    "S.columns"
   ]
  },
  {
   "cell_type": "code",
   "execution_count": null,
   "id": "dd1fe2d3",
   "metadata": {},
   "outputs": [],
   "source": [
    "df_combinat = pd.concat([df_combinat, S], axis=1)"
   ]
  },
  {
   "cell_type": "code",
   "execution_count": null,
   "id": "a00cfce0",
   "metadata": {},
   "outputs": [],
   "source": [
    "#df = pd.concat([df, S], axis=1)\n",
    "\n",
    "#En el cas de voler ajuntar les matrius"
   ]
  },
  {
   "cell_type": "markdown",
   "id": "637a5752",
   "metadata": {},
   "source": [
    "17. Quantiat d'inversions previes"
   ]
  },
  {
   "cell_type": "code",
   "execution_count": null,
   "id": "2f3affb4",
   "metadata": {},
   "outputs": [],
   "source": [
    "df[\"Num_Inversio\"] = df.groupby(\"Name\").cumcount(ascending=False) + 1\n",
    "print(df[[\"Name\",\"Num_Inversio\"]].head(15))"
   ]
  },
  {
   "cell_type": "markdown",
   "id": "ad1f41be",
   "metadata": {},
   "source": [
    "Para la variable capita_prev contrastar con las variables Investor y Date si son iguales sino se deberá de trabajar para tener 2 variables independientes. "
   ]
  },
  {
   "cell_type": "code",
   "execution_count": null,
   "id": "37c34bc7",
   "metadata": {},
   "outputs": [],
   "source": [
    "df = df[['Name', 'Startup', 'Description', 'Investment', 'Num_Inversio', 'Founded', 'es_sociedad_limitada']]"
   ]
  },
  {
   "cell_type": "code",
   "execution_count": null,
   "id": "a492ab7f",
   "metadata": {},
   "outputs": [],
   "source": [
    "#df = df.drop(columns=[\"URL\", \"Date\",\"Investors\",\"Industries\",\"Technologies\",\"Other fields\",\"Business model\",\"Target\",\"Spinoff participants\"])"
   ]
  },
  {
   "cell_type": "code",
   "execution_count": null,
   "id": "946214ea",
   "metadata": {},
   "outputs": [],
   "source": [
    "df_combinat = df_combinat.drop(columns=[\"Name\",\"Industries\"])"
   ]
  },
  {
   "cell_type": "code",
   "execution_count": null,
   "id": "1209d878",
   "metadata": {},
   "outputs": [],
   "source": [
    "df = pd.concat([df, df_combinat], axis=1)"
   ]
  },
  {
   "cell_type": "code",
   "execution_count": null,
   "id": "f9178f82",
   "metadata": {},
   "outputs": [],
   "source": [
    "duplicats = df.columns[df.columns.duplicated()].tolist()\n",
    "print(duplicats)"
   ]
  },
  {
   "cell_type": "code",
   "execution_count": null,
   "id": "96b80f9a",
   "metadata": {},
   "outputs": [],
   "source": [
    "df.iloc[:,3:10].info()"
   ]
  },
  {
   "cell_type": "markdown",
   "id": "0badd7fb",
   "metadata": {},
   "source": [
    "## Guardamos la base de datos "
   ]
  },
  {
   "cell_type": "code",
   "execution_count": null,
   "id": "e261a97f",
   "metadata": {},
   "outputs": [],
   "source": [
    "df.to_pickle(path=\"data/datos_preprocesados.pkl\")\n",
    "df.to_csv(path_or_buf=\"data/datos_preprocesados.csv\")"
   ]
  },
  {
   "cell_type": "markdown",
   "id": "955ebf34",
   "metadata": {},
   "source": []
  }
 ],
 "metadata": {
  "kernelspec": {
   "display_name": "Python 3",
   "language": "python",
   "name": "python3"
  },
  "language_info": {
   "codemirror_mode": {
    "name": "ipython",
    "version": 3
   },
   "file_extension": ".py",
   "mimetype": "text/x-python",
   "name": "python",
   "nbconvert_exporter": "python",
   "pygments_lexer": "ipython3",
   "version": "3.13.3"
  }
 },
 "nbformat": 4,
 "nbformat_minor": 5
}
