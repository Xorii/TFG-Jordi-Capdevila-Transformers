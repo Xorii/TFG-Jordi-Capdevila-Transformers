{
 "cells": [
  {
   "cell_type": "code",
   "execution_count": 1,
   "metadata": {},
   "outputs": [],
   "source": [
    "# Cargamos los paquetes necesarios \n",
    "\n",
    "import re\n",
    "import time\n",
    "\n",
    "from selenium import webdriver\n",
    "from selenium.webdriver.common.by import By\n",
    "from selenium.webdriver.common.keys import Keys\n",
    "from selenium.common.exceptions import NoSuchElementException\n",
    "from selenium.webdriver.chrome.service import Service"
   ]
  },
  {
   "cell_type": "code",
   "execution_count": 2,
   "metadata": {},
   "outputs": [],
   "source": [
    "# Web scrapper for infinite scrolling page \n",
    "PATH = \"D:/chromedriver/chromedriver.exe\"\n",
    "service = Service(executable_path=PATH)\n",
    "OPTIONS = webdriver.ChromeOptions()\n",
    "OPTIONS.add_argument(\"--start-maximized\")\n",
    "\n",
    "time.sleep(2)  # Allow 2 seconds for the web page to open\n",
    "scroll_pause_time = 2 # You can set your own pause time. My laptop is a bit slow so I use 1 sec\n",
    "# screen_height = driver.execute_script(\"return window.screen.height;\")   # get the screen height of the web\n",
    "screen_height = 12000\n",
    "\n",
    "# Declaramos como son los parámetros del chrome\n",
    "driver = webdriver.Chrome(service = service, options = OPTIONS)\n",
    "# Delete the cookies  \n",
    "driver.delete_all_cookies()"
   ]
  },
  {
   "cell_type": "code",
   "execution_count": 3,
   "metadata": {},
   "outputs": [],
   "source": [
    "# Generamos la url y entramos a la url\n",
    "url = \"https://startupshub.catalonia.com/investments-in-catalan-startups\"\n",
    "driver.get(url)\n",
    "\n",
    "time.sleep(10)"
   ]
  },
  {
   "cell_type": "code",
   "execution_count": 4,
   "metadata": {},
   "outputs": [],
   "source": [
    "# Vamos a cerrar el banner de las cookies\n",
    "elemento = driver.find_element(By.XPATH, '/html/body/dialog/div/div/div[2]/div[2]/div[2]/div[1]/button')\n",
    "elemento.click()"
   ]
  },
  {
   "cell_type": "code",
   "execution_count": 5,
   "metadata": {},
   "outputs": [
    {
     "name": "stdout",
     "output_type": "stream",
     "text": [
      "Estamos en la página  1  ...\n",
      "En la página  1  tenemos  23  empresas\n",
      "\n",
      "finalizada\n",
      "\n",
      "Estamos en la página  2  ...\n",
      "En la página  2  tenemos  24  empresas\n",
      "\n",
      "finalizada\n",
      "\n",
      "Estamos en la página  3  ...\n",
      "En la página  3  tenemos  24  empresas\n",
      "\n",
      "finalizada\n",
      "\n",
      "Estamos en la página  4  ...\n",
      "En la página  4  tenemos  25  empresas\n",
      "\n",
      "finalizada\n",
      "\n",
      "Estamos en la página  5  ...\n",
      "En la página  5  tenemos  25  empresas\n",
      "\n",
      "finalizada\n",
      "\n"
     ]
    }
   ],
   "source": [
    "# declaramos la lista de urls\n",
    "urls = []\n",
    "\n",
    "for pag in range(1, 6):\n",
    "    print(\"Estamos en la página \", pag, \" ...\")\n",
    "\n",
    "    # Vamos a realizar el scroll hasta ese punto \n",
    "    # driver.execute_script(f\"window.scrollTo(0, 4000);\")  # Aquí integramos el valor de `position` directamente\n",
    "    driver.execute_script(f\"window.scrollTo(0, 1000);\")  # Aquí integramos el valor de `position` directamente\n",
    "    time.sleep(3)\n",
    "    driver.execute_script(f\"window.scrollTo(0, 1000);\")  # Aquí integramos el valor de `position` directamente\n",
    "    time.sleep(3)\n",
    "    driver.execute_script(f\"window.scrollTo(0, 1000);\")  # Aquí integramos el valor de `position` directamente\n",
    "    time.sleep(3)\n",
    "    driver.execute_script(f\"window.scrollTo(0, 1000);\")  # Aquí integramos el valor de `position` directamente\n",
    "    \n",
    "    # Extraer todas las URLs de la web\n",
    "    links = driver.find_elements(By.XPATH, \"//a[@url]\")\n",
    "    # urls = [link.get_attribute(\"href\") for link in links if link.get_attribute(\"href\")]\n",
    "\n",
    "    # Extraer los valores del atributo 'url'\n",
    "    links = [link.get_attribute('url') for link in links]\n",
    "    links = list(set(links))\n",
    "    print(\"En la página \", pag, \" tenemos \", str(len(links)), \" empresas\\n\")\n",
    "    urls.append(links)\n",
    "\n",
    "    # Pasamos de página\n",
    "    if pag == 1:\n",
    "        pase_pagina = driver.find_element(By.XPATH, '//*[@id=\"investments-list\"]/div[2]/div/div/div/a[1]')\n",
    "        pase_pagina.click()\n",
    "    if pag == 2 | pag == 3: \n",
    "        pase_pagina = driver.find_element(By.XPATH, '//*[@id=\"investments-list\"]/div[2]/div/div/div/a[3]')\n",
    "        pase_pagina.click()\n",
    "\n",
    "    print(\"finalizada\\n\")\n",
    "    time.sleep(10)\n"
   ]
  },
  {
   "cell_type": "code",
   "execution_count": 6,
   "metadata": {},
   "outputs": [],
   "source": [
    "flat_list = [x for xs in urls for x in xs]"
   ]
  },
  {
   "cell_type": "code",
   "execution_count": 7,
   "metadata": {},
   "outputs": [
    {
     "data": {
      "text/plain": [
       "['startup/barcelona/arbolus/5326',\n",
       " 'startup/barcelona/enso-co-living/5338',\n",
       " 'startup/barcelona/bespoke-pixel-studio/7120',\n",
       " 'startup/barcelona/sequentia-biotech/841',\n",
       " 'startup/barcelona/inbrain/5059',\n",
       " 'startup/barcelona/travelperk/1195',\n",
       " 'startup/barcelona/busup/1758',\n",
       " 'startup/barcelona/shalion/5127',\n",
       " 'startup/barcelona/impress/5340',\n",
       " 'startup/barcelona/leanbio-pro/1620',\n",
       " 'startup/barcelona/vitaance/5533',\n",
       " 'startup/barcelona/sateliot/4620',\n",
       " 'startup/barcelona/novameat/4597',\n",
       " 'startup/barcelona/kingsleague/7121',\n",
       " 'startup/barcelona/mitiga/4509',\n",
       " 'startup/barcelona/sequra/4975',\n",
       " 'startup/barcelona/mokens-league/6588',\n",
       " 'startup/barcelona/made-of-genes/1177',\n",
       " 'startup/barcelona/paack/1514',\n",
       " 'startup/barcelona/tecfys/5387',\n",
       " 'startup/barcelona/submer/1443',\n",
       " 'startup/girona/fundcraft/6111',\n",
       " 'startup/barcelona/nearbycomputing/5584',\n",
       " 'startup/barcelona/cafe-de-finca/6021',\n",
       " 'startup/barcelona/holaglow/6464',\n",
       " 'startup/barcelona/cafler/5500',\n",
       " 'startup/barcelona/danelfin/6600',\n",
       " 'startup/barcelona/banktrack/5936',\n",
       " 'startup/barcelona/saigu-cosmetics/5643',\n",
       " 'startup/barcelona/mind-tracking-technology/964',\n",
       " 'startup/barcelona/candam/4356',\n",
       " 'startup/barcelona/bcn3d/4963',\n",
       " 'startup/barcelona/koa-biotech/5938',\n",
       " 'startup/barcelona/honei/5868',\n",
       " 'startup/barcelona/mapsi-photonics/5473',\n",
       " 'startup/barcelona/kreios-space/5399',\n",
       " 'startup/barcelona/superlativa/5778',\n",
       " 'startup/barcelona/theker/5898',\n",
       " 'startup/barcelona/domma/6039',\n",
       " 'startup/barcelona/fisioreact/5448',\n",
       " 'startup/barcelona/mlcode/6713',\n",
       " 'startup/barcelona/dost/5476',\n",
       " 'startup/barcelona/heecap/6365',\n",
       " 'startup/barcelona/fabbric/5506',\n",
       " 'startup/barcelona/fecundis/6188',\n",
       " 'startup/barcelona/poseidona/6411',\n",
       " 'startup/barcelona/utopikalabs/6598',\n",
       " 'startup/barcelona/cafe-de-finca/6021',\n",
       " 'startup/barcelona/holaglow/6464',\n",
       " 'startup/barcelona/cafler/5500',\n",
       " 'startup/barcelona/danelfin/6600',\n",
       " 'startup/barcelona/banktrack/5936',\n",
       " 'startup/barcelona/saigu-cosmetics/5643',\n",
       " 'startup/barcelona/mind-tracking-technology/964',\n",
       " 'startup/barcelona/candam/4356',\n",
       " 'startup/barcelona/bcn3d/4963',\n",
       " 'startup/barcelona/koa-biotech/5938',\n",
       " 'startup/barcelona/honei/5868',\n",
       " 'startup/barcelona/mapsi-photonics/5473',\n",
       " 'startup/barcelona/kreios-space/5399',\n",
       " 'startup/barcelona/superlativa/5778',\n",
       " 'startup/barcelona/theker/5898',\n",
       " 'startup/barcelona/domma/6039',\n",
       " 'startup/barcelona/fisioreact/5448',\n",
       " 'startup/barcelona/mlcode/6713',\n",
       " 'startup/barcelona/dost/5476',\n",
       " 'startup/barcelona/heecap/6365',\n",
       " 'startup/barcelona/fabbric/5506',\n",
       " 'startup/barcelona/fecundis/6188',\n",
       " 'startup/barcelona/poseidona/6411',\n",
       " 'startup/barcelona/utopikalabs/6598',\n",
       " 'startup/barcelona/uobo/6245',\n",
       " 'startup/barcelona/aridditive/6198',\n",
       " 'startup/barcelona/joppy/4897',\n",
       " 'startup/barcelona/buildlovers/6004',\n",
       " 'startup/barcelona/balize/6632',\n",
       " 'startup/barcelona/nanobotstx/6139',\n",
       " 'startup/barcelona/inari-enso-sl/4479',\n",
       " 'startup/barcelona/inbestme/2916',\n",
       " 'startup/barcelona/hello-app/6088',\n",
       " 'startup/barcelona/emily-ai/6342',\n",
       " 'startup/tarragona/jelly-pills/6090',\n",
       " 'startup/barcelona/multiply-college/6154',\n",
       " 'startup/barcelona/routal/1864',\n",
       " 'startup/barcelona/gyala-therapeutics/5095',\n",
       " 'startup/barcelona/lizcore/6393',\n",
       " 'startup/barcelona/zerod/6097',\n",
       " 'startup/barcelona/kombo/6059',\n",
       " 'startup/tarragona/the-blue-box/5247',\n",
       " 'startup/barcelona/ealyx/7110',\n",
       " 'startup/barcelona/kronanalytics/6631',\n",
       " 'startup/barcelona/talentyou/6346',\n",
       " 'startup/barcelona/insectius/6344',\n",
       " 'startup/barcelona/the-sampling-solutions/5334',\n",
       " 'startup/barcelona/dan-na/4275',\n",
       " 'startup/barcelona/nomade/5909',\n",
       " 'startup/barcelona/uobo/6245',\n",
       " 'startup/barcelona/aridditive/6198',\n",
       " 'startup/barcelona/joppy/4897',\n",
       " 'startup/barcelona/buildlovers/6004',\n",
       " 'startup/barcelona/balize/6632',\n",
       " 'startup/barcelona/nanobotstx/6139',\n",
       " 'startup/barcelona/inari-enso-sl/4479',\n",
       " 'startup/barcelona/inbestme/2916',\n",
       " 'startup/barcelona/hello-app/6088',\n",
       " 'startup/barcelona/emily-ai/6342',\n",
       " 'startup/tarragona/jelly-pills/6090',\n",
       " 'startup/barcelona/multiply-college/6154',\n",
       " 'startup/barcelona/routal/1864',\n",
       " 'startup/barcelona/gyala-therapeutics/5095',\n",
       " 'startup/barcelona/lizcore/6393',\n",
       " 'startup/barcelona/zerod/6097',\n",
       " 'startup/barcelona/kombo/6059',\n",
       " 'startup/tarragona/the-blue-box/5247',\n",
       " 'startup/barcelona/ealyx/7110',\n",
       " 'startup/barcelona/kronanalytics/6631',\n",
       " 'startup/barcelona/talentyou/6346',\n",
       " 'startup/barcelona/insectius/6344',\n",
       " 'startup/barcelona/the-sampling-solutions/5334',\n",
       " 'startup/barcelona/dan-na/4275',\n",
       " 'startup/barcelona/nomade/5909']"
      ]
     },
     "execution_count": 7,
     "metadata": {},
     "output_type": "execute_result"
    }
   ],
   "source": [
    "flat_list"
   ]
  },
  {
   "cell_type": "code",
   "execution_count": 8,
   "metadata": {},
   "outputs": [],
   "source": [
    "#driver.quit()"
   ]
  },
  {
   "cell_type": "code",
   "execution_count": 9,
   "metadata": {},
   "outputs": [
    {
     "data": {
      "text/plain": [
       "72"
      ]
     },
     "execution_count": 9,
     "metadata": {},
     "output_type": "execute_result"
    }
   ],
   "source": [
    "len(list(set(flat_list)))"
   ]
  }
 ],
 "metadata": {
  "kernelspec": {
   "display_name": "entorno",
   "language": "python",
   "name": "python3"
  },
  "language_info": {
   "codemirror_mode": {
    "name": "ipython",
    "version": 3
   },
   "file_extension": ".py",
   "mimetype": "text/x-python",
   "name": "python",
   "nbconvert_exporter": "python",
   "pygments_lexer": "ipython3",
   "version": "3.13.0"
  }
 },
 "nbformat": 4,
 "nbformat_minor": 2
}
